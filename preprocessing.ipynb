{
 "cells": [
  {
   "cell_type": "markdown",
   "metadata": {},
   "source": [
    "### Scripts Python : processing"
   ]
  },
  {
   "cell_type": "code",
   "execution_count": 2,
   "metadata": {},
   "outputs": [],
   "source": [
    "%load_ext autoreload\n",
    "%autoreload 2"
   ]
  },
  {
   "cell_type": "code",
   "execution_count": 3,
   "metadata": {},
   "outputs": [],
   "source": [
    "import os\n",
    "import pandas as pd"
   ]
  },
  {
   "cell_type": "markdown",
   "metadata": {},
   "source": [
    "##### Columns selection (MAJ possible selon les var pertinentes au modèle)"
   ]
  },
  {
   "cell_type": "code",
   "execution_count": null,
   "metadata": {},
   "outputs": [],
   "source": []
  },
  {
   "cell_type": "code",
   "execution_count": null,
   "metadata": {},
   "outputs": [],
   "source": [
    "# Pour les nouvelles données\n",
    "cols_kept = ['Année_construction',\n",
    "            'Code_postal_(brut)',\n",
    "            'Coût_total_5_usages',\n",
    "            'Etiquette_DPE',\n",
    "            'Etiquette_GES',\n",
    "            'Hauteur_sous-plafond',\n",
    "            'Logement',\n",
    "            'Nombre_niveau_logement',\n",
    "            'Surface_habitable_logement',\n",
    "            'Type_bâtiment',\n",
    "            'N°_département_(BAN)']\n",
    "\n",
    "\n",
    "def select_columns(new_data, relevant_columns):\n",
    "\n",
    "    new_data = new_data[relevant_columns]\n",
    "\n",
    "    return new_data"
   ]
  },
  {
   "cell_type": "markdown",
   "metadata": {},
   "source": [
    "##### Création de variables"
   ]
  },
  {
   "cell_type": "code",
   "execution_count": 5,
   "metadata": {},
   "outputs": [],
   "source": [
    "# Pour les nouvelles données\n",
    "def get_year_of_construct(value):\n",
    "    year = int(value[:4])\n",
    "    return year"
   ]
  },
  {
   "cell_type": "code",
   "execution_count": 6,
   "metadata": {},
   "outputs": [],
   "source": [
    "# Pour les nouvelles données\n",
    "def create_vars(new_data):\n",
    "    if (not pd.Series([\"Logement\"]).isin(new_data.columns)[0]):\n",
    "        new_data[\"Logement\"] = 'neuf'\n",
    "\n",
    "    if (not pd.Series([\"Année_construction\"]).isin(new_data.columns)[0]):\n",
    "        from datetime import date\n",
    "        new_data[\"Année_construction\"] = new_data[\"Date_visite_diagnostiqueur\"].apply(get_year_of_construct)\n",
    "\n",
    "    return new_data"
   ]
  },
  {
   "cell_type": "markdown",
   "metadata": {},
   "source": [
    "##### Cleaning and converting wrongly encoded data (\",\" vs \".\")"
   ]
  },
  {
   "cell_type": "code",
   "execution_count": 7,
   "metadata": {},
   "outputs": [],
   "source": [
    "# Pour les nouvelles données\n",
    "def clean_and_convert(value):\n",
    "    if pd.isna(value):  # Vérifie la présence de valeurs NaN ou de chaînes ' NaN'\n",
    "        return value  # Préserve les NaN en tant que valeur None\n",
    "    else:\n",
    "        value = str(value).replace(',', '.')  # Remplace les virgules par des points\n",
    "        return pd.to_numeric(value, errors='coerce')  # Conversion en valeur numérique"
   ]
  },
  {
   "cell_type": "code",
   "execution_count": 8,
   "metadata": {},
   "outputs": [],
   "source": [
    "# # Pour les nouvelles données\n",
    "# def cleaning_and_converting(new_data):\n",
    "#     new_data.loc[:,\"Besoin_ECS\"] = new_data[\"Besoin_ECS\"].apply(clean_and_convert)\n",
    "#     new_data.loc[:,\"Besoin_refroidissement\"] = new_data[\"Besoin_refroidissement\"].apply(clean_and_convert)\n",
    "#     return new_data"
   ]
  },
  {
   "cell_type": "markdown",
   "metadata": {},
   "source": [
    "##### **Embranchement 1** : Importation des données initiales et prétraitement (optimisé pour les débits internet limités)"
   ]
  },
  {
   "cell_type": "code",
   "execution_count": null,
   "metadata": {},
   "outputs": [],
   "source": [
    "# Importation des données\n",
    "logements_neufs = pd.read_csv(os.path.join('data','raw','neufs.csv'))\n",
    "logements_existants = pd.read_csv(os.path.join('data','raw','existents.csv'))"
   ]
  },
  {
   "cell_type": "code",
   "execution_count": null,
   "metadata": {},
   "outputs": [],
   "source": [
    "# Pour les anciens\n",
    "logements_existants[\"Logement\"] = \"ancien\"\n",
    "logements_existants[\"Année_construction\"] = logements_existants[\"Date_visite_diagnostiqueur\"].apply(get_year_of_construct)\n",
    "\n",
    "# Pour les neufs (et les futures données qui seront produites)\n",
    "logements_neufs = create_vars(logements_neufs)"
   ]
  },
  {
   "cell_type": "code",
   "execution_count": null,
   "metadata": {},
   "outputs": [
    {
     "data": {
      "text/plain": [
       "(59213, 10)"
      ]
     },
     "execution_count": 10,
     "metadata": {},
     "output_type": "execute_result"
    }
   ],
   "source": [
    "logements_neufs = select_columns(logements_neufs, cols_kept)\n",
    "logements_neufs.shape"
   ]
  },
  {
   "cell_type": "code",
   "execution_count": null,
   "metadata": {},
   "outputs": [
    {
     "data": {
      "text/plain": [
       "(398114, 10)"
      ]
     },
     "execution_count": 11,
     "metadata": {},
     "output_type": "execute_result"
    }
   ],
   "source": [
    "logements_existants = select_columns(logements_existants, cols_kept)\n",
    "logements_existants.shape"
   ]
  },
  {
   "cell_type": "code",
   "execution_count": 12,
   "metadata": {},
   "outputs": [],
   "source": [
    "# logements_existants = cleaning_and_converting(logements_existants)\n",
    "# logements_neufs = cleaning_and_converting(logements_neufs)"
   ]
  },
  {
   "cell_type": "code",
   "execution_count": 26,
   "metadata": {},
   "outputs": [],
   "source": [
    "df = pd.concat([logements_existants, logements_neufs], ignore_index=True, axis=0)"
   ]
  },
  {
   "cell_type": "code",
   "execution_count": null,
   "metadata": {},
   "outputs": [],
   "source": [
    "# A décommenter si on veut produire le csv du dataset déjà pré-traité\n",
    "df = df[df[\"N°_département_(BAN)\"].isin([22.0,29.0,35.0,56.0])] # Sélection des codes postaux d'intérêt\n",
    "df = df.drop([\"N°_département_(BAN)\"])\n",
    "df.to_csv(os.path.join('data','processed','data_classification.csv'), index=False, sep=\";\", encoding=\"utf-8-sig\")"
   ]
  },
  {
   "cell_type": "markdown",
   "metadata": {},
   "source": [
    "##### **Embranchement 2** : Importation des données pré-traitées"
   ]
  },
  {
   "cell_type": "code",
   "execution_count": 1,
   "metadata": {},
   "outputs": [],
   "source": [
    "%load_ext autoreload\n",
    "%autoreload 2"
   ]
  },
  {
   "cell_type": "code",
   "execution_count": null,
   "metadata": {},
   "outputs": [],
   "source": [
    "import os \n",
    "import pandas as pd\n",
    "\n",
    "df = pd.read_csv(os.path.join('data','processed','data_classification.csv'), sep=\";\")"
   ]
  },
  {
   "cell_type": "markdown",
   "metadata": {},
   "source": [
    "##### Split train/test"
   ]
  },
  {
   "cell_type": "code",
   "execution_count": 9,
   "metadata": {},
   "outputs": [],
   "source": [
    "def data_split(data, target=\"Etiquette_DPE\", test_size=0.3, stratify=True, seed=0):\n",
    "    from sklearn.model_selection import train_test_split\n",
    "\n",
    "    if stratify:\n",
    "        return train_test_split(data, test_size=test_size, random_state=seed, stratify=data[target])\n",
    "    else:\n",
    "        return train_test_split(data, test_size=test_size, random_state=seed)"
   ]
  },
  {
   "cell_type": "code",
   "execution_count": 31,
   "metadata": {},
   "outputs": [],
   "source": [
    "X_train, X_test = data_split(df, target=\"Etiquette_DPE\", test_size=0.3, stratify=True, seed=0)"
   ]
  },
  {
   "cell_type": "markdown",
   "metadata": {},
   "source": [
    "##### Qualitative and quantitative data processing (after train/test split)"
   ]
  },
  {
   "cell_type": "code",
   "execution_count": 10,
   "metadata": {},
   "outputs": [],
   "source": [
    "# Pour toutes les données (cf. paramètres de la fonction)\n",
    "\n",
    "# exporter params d'un retrain pour les recharger tant que retrain=False\n",
    "# exporter fit du train (original_data) tant que retrain=False (optimisation des calculs)\n",
    "def quali_quanti_preprocessing(original_data, new_data):\n",
    "    import pandas as pd\n",
    "    \n",
    "    # QUALITATIVE PREPROCESSING\n",
    "\n",
    "    # On remplace des adresses inconnues par la chaîne \"inconnu\"\n",
    "    # new_data['Identifiant__BAN'] = new_data['Identifiant__BAN'].fillna('inconnu')\n",
    "    # new_data['Nom__rue_(BAN)'] = new_data['Nom__rue_(BAN)'].fillna('inconnu')\n",
    "    # new_data['Adresse_(BAN)'] = new_data['Adresse_(BAN)'].fillna('inconnu')\n",
    "    # new_data['Adresse_brute'] = new_data['Adresse_brute'].fillna('inconnu')\n",
    "    \n",
    "    # Le code est encodé parfois en tant que chaîne ou entier. On uniformise en chaîne de caractères\n",
    "    # original_data['Code_INSEE_(BAN)'] = original_data['Code_INSEE_(BAN)'].apply(lambda x: str(x) if pd.notna(x) else x)\n",
    "    # new_data['Code_INSEE_(BAN)'] = new_data['Code_INSEE_(BAN)'].apply(lambda x: str(x) if pd.notna(x) else x)\n",
    "\n",
    "    quali_data_new = new_data.select_dtypes(include=['object'])\n",
    "    for column in quali_data_new.columns:\n",
    "        # Calcul de la proportion (probabilité) des modalités dans chaque variable qualitative\n",
    "        proportions = original_data[column].value_counts(normalize=True)\n",
    "        \n",
    "        # On applique la fonction à la colonne\n",
    "        filling = proportions.sample(weights=proportions, replace=True).index[0]\n",
    "        original_data[column] = original_data[column].fillna(filling)\n",
    "        filling = proportions.sample(weights=proportions, replace=True).index[0]\n",
    "        quali_data_new[column] = quali_data_new[column].fillna(filling)\n",
    "        \n",
    "\n",
    "        # if retrain:\n",
    "        #     quali_data_orig = original_data.select_dtypes(include=['object'])\n",
    "        #     quali_data_orig[column] = quali_data_orig.apply(impute_with_proportions, axis=1)\n",
    "    \n",
    "\n",
    "    # QUANTITATIVE PREPROCESSING\n",
    "    ## Missing values\n",
    "    from sklearn.impute import SimpleImputer\n",
    "    quanti_data_new = new_data.select_dtypes(exclude=['object'])\n",
    "    imputer = SimpleImputer(strategy=\"median\")\n",
    "    original_data[quanti_data_new.columns] = imputer.fit_transform(original_data[quanti_data_new.columns])\n",
    "    quanti_data_new[quanti_data_new.columns] = imputer.transform(quanti_data_new)\n",
    "\n",
    "    import pickle as pk\n",
    "    pk.dump(imputer, open(os.path.join(\"objects\",\"median_imputer.pkl\"), \"wb\"))\n",
    "    \n",
    "    new_data_processed = pd.concat([quali_data_new, quanti_data_new], axis=1)\n",
    "    return original_data, new_data_processed"
   ]
  },
  {
   "cell_type": "code",
   "execution_count": 33,
   "metadata": {},
   "outputs": [],
   "source": [
    "orig, new = quali_quanti_preprocessing(X_train, X_test)"
   ]
  },
  {
   "cell_type": "markdown",
   "metadata": {},
   "source": [
    "##### Split regressors/target"
   ]
  },
  {
   "cell_type": "code",
   "execution_count": 11,
   "metadata": {},
   "outputs": [],
   "source": [
    "def define_target(train, test, target=\"Etiquette_DPE\"):\n",
    "    X_train = train[train.columns.difference([target])]\n",
    "    y_train = train[target]\n",
    "    X_test = test[test.columns.difference([target])]\n",
    "    y_test = test[target]\n",
    "    return X_train, X_test, y_train, y_test"
   ]
  },
  {
   "cell_type": "code",
   "execution_count": 35,
   "metadata": {},
   "outputs": [],
   "source": [
    "X_train, X_test, y_train, y_test = define_target(orig, new, target=\"Etiquette_DPE\")"
   ]
  },
  {
   "cell_type": "markdown",
   "metadata": {},
   "source": [
    "#### Split des données quanti et quali"
   ]
  },
  {
   "cell_type": "code",
   "execution_count": 36,
   "metadata": {},
   "outputs": [],
   "source": [
    "def to_drop_before_model(case=\"classification\"):\n",
    "    if case==\"classification\":\n",
    "        return [\"Adresse_brute\",\"Code_INSEE_(BAN)\", \"Date_fin_validité_DPE\", \"Date_réception_DPE\", \n",
    "           \"Date_visite_diagnostiqueur\", \"Date_établissement_DPE\", \"Identifiant__BAN\", \"N°DPE\", \"_geopoint\"]\n",
    "    elif case==\"regression\":\n",
    "        return []\n",
    "    else:\n",
    "        print(\"Error. Only 'classification' or 'regression' supported\")\n",
    "        return"
   ]
  },
  {
   "cell_type": "code",
   "execution_count": 37,
   "metadata": {},
   "outputs": [],
   "source": [
    "to_drop = to_drop_before_model(case=\"classification\")"
   ]
  },
  {
   "cell_type": "code",
   "execution_count": null,
   "metadata": {},
   "outputs": [],
   "source": [
    "def split_type(X_train, X_test, to_drop):\n",
    "    quali_train = X_train.select_dtypes(include=\"object\")\n",
    "    quali_train = quali_train.drop(to_drop, axis=1) # Inutile de faire une ACM sur une variable avec autant de modalités possibles\n",
    "    quali_test = X_test.select_dtypes(include=\"object\")\n",
    "    quali_test = quali_test.drop(to_drop, axis=1) # Inutile de faire une ACM sur une variable avec autant de modalités possibles\n",
    "\n",
    "    quantit_train = X_train.select_dtypes(exclude=\"object\")\n",
    "    quantit_test = X_test.select_dtypes(exclude=\"object\")\n",
    "\n",
    "    from sklearn.preprocessing import OneHotEncoder\n",
    "\n",
    "    encoder = OneHotEncoder()\n",
    "\n",
    "    encoder.fit(pd.concat([quali_train, quali_test], axis=0))\n",
    "    #print(encoder.get_feature_names_out(quali_train.columns))\n",
    "    quali_train_encoded = encoder.transform(quali_train).toarray()\n",
    "    qualit_train = pd.DataFrame(quali_train_encoded, index=quali_train.index, columns=encoder.get_feature_names_out(quali_train.columns))\n",
    "    quali_test_encoded = encoder.transform(quali_test).toarray()\n",
    "    qualit_test = pd.DataFrame(quali_test_encoded, index=quali_test.index, columns=encoder.get_feature_names_out(quali_test.columns))\n",
    "    # print(quali_train.apply(pd.unique).apply(len))\n",
    "\n",
    "    import pickle as pk\n",
    "    pk.dump(encoder, open(os.path.join(\"objects\",\"OHE_classification.pkl\"), \"wb\"))\n",
    "\n",
    "    return qualit_train, qualit_test, quantit_train, quantit_test"
   ]
  },
  {
   "cell_type": "code",
   "execution_count": 37,
   "metadata": {},
   "outputs": [],
   "source": [
    "quali_train, quali_test, quanti_train, quanti_test = split_type(X_train, X_test, to_drop=[])"
   ]
  },
  {
   "cell_type": "markdown",
   "metadata": {},
   "source": [
    "#### ACM"
   ]
  },
  {
   "cell_type": "code",
   "execution_count": null,
   "metadata": {},
   "outputs": [],
   "source": [
    "def chunking_MCA(quali_train, quali_test, n_components, n_iter, seed, chunk_size):\n",
    "    # Exportation en csv pour le chunking\n",
    "    quali_train.to_csv(os.path.join('data','processed','quali_train.csv'), index=False, sep=\";\", encoding=\"utf-8-sig\")\n",
    "    quali_test.to_csv(os.path.join('data','processed','quali_test.csv'), index=False, sep=\";\", encoding=\"utf-8-sig\")\n",
    "\n",
    "    import prince\n",
    "\n",
    "    mca = prince.MCA(\n",
    "        n_components=n_components,\n",
    "        n_iter=n_iter,\n",
    "        copy=False,\n",
    "        check_input=False,\n",
    "        random_state=seed,\n",
    "        engine=\"sklearn\",\n",
    "        handle_unknown=\"error\"  # paramètre identique à celui de sklearn.preprocessing.OneHotEncoder\n",
    "    )\n",
    "\n",
    "    print(\"MCA : fitting to train set\")\n",
    "    quali_train_mca_lst = []\n",
    "    i = 0\n",
    "    for chunk in pd.read_csv(os.path.join('data','processed','quali_train.csv'), sep=';', chunksize=chunk_size):\n",
    "        mca = mca.fit(chunk)\n",
    "        quali_train_mca_lst.append(mca.transform(chunk))\n",
    "        i += 1\n",
    "        if i%100==0:\n",
    "            print((i*chunk_size)/quali_train.shape[0])\n",
    "    \n",
    "    quali_train_mca = pd.DataFrame()\n",
    "    for elem in quali_train_mca_lst:\n",
    "        quali_train_mca = pd.concat([quali_train_mca, pd.DataFrame(elem)], axis=0, ignore_index=True)\n",
    "\n",
    "    print(\"MCA : transforming test set\")\n",
    "\n",
    "    quali_test_mca_lst = []\n",
    "    i = 0\n",
    "    for chunk in pd.read_csv(os.path.join('data','processed','quali_test.csv'), sep=';', chunksize=chunk_size):\n",
    "        quali_test_mca_lst.append(mca.transform(chunk))\n",
    "        i += 1\n",
    "        if i%50==0:\n",
    "            print((i*chunk_size)/quali_test.shape[0])\n",
    "    \n",
    "    quali_test_mca = pd.DataFrame()\n",
    "    for elem in quali_test_mca_lst:\n",
    "        quali_test_mca = pd.concat([quali_test_mca, pd.DataFrame(elem)], axis=0, ignore_index=True)\n",
    "    \n",
    "    os.remove(os.path.join('data','processed','quali_train.csv'))\n",
    "    os.remove(os.path.join('data','processed','quali_test.csv'))\n",
    "\n",
    "    return quali_train_mca, quali_test_mca"
   ]
  },
  {
   "cell_type": "code",
   "execution_count": 46,
   "metadata": {},
   "outputs": [
    {
     "name": "stdout",
     "output_type": "stream",
     "text": [
      "MCA : fitting to train set\n",
      "0.312375049980008\n",
      "0.624750099960016\n",
      "0.9371251499400239\n",
      "MCA : transforming test set\n",
      "0.3644341431059993\n",
      "0.7288682862119986\n"
     ]
    }
   ],
   "source": [
    "quali_train_mca, quali_test_mca =  chunking_MCA(quali_train, quali_test, n_components=10, n_iter=10, seed=0, chunk_size=1000)"
   ]
  },
  {
   "cell_type": "code",
   "execution_count": 13,
   "metadata": {},
   "outputs": [],
   "source": [
    "def merge_type_back(quali_train_mca, quali_test_mca, quanti_train, quanti_test, train_index, test_index):\n",
    "    # Convert colnames to str\n",
    "    quali_train_mca.columns = quali_train_mca.columns.astype(str)\n",
    "    quali_test_mca.columns = quali_test_mca.columns.astype(str)\n",
    "\n",
    "    quali_train_mca.set_index(train_index, inplace=True)\n",
    "    quali_test_mca.set_index(test_index, inplace=True)\n",
    "\n",
    "    # Concaténer, quali_train et quanti_train de même avec test\n",
    "    X_train_mca = pd.concat([quanti_train, quali_train_mca], axis=1)\n",
    "    X_test_mca = pd.concat([quanti_test, quali_test_mca], axis=1)\n",
    "\n",
    "    return X_train_mca, X_test_mca"
   ]
  },
  {
   "cell_type": "code",
   "execution_count": 39,
   "metadata": {},
   "outputs": [],
   "source": [
    "X_train_mca, X_test_mca = merge_type_back(quali_train, quali_test, quanti_train, quanti_test, X_train.index, X_test.index)"
   ]
  },
  {
   "cell_type": "markdown",
   "metadata": {},
   "source": [
    "### Standardisation"
   ]
  },
  {
   "cell_type": "code",
   "execution_count": 49,
   "metadata": {},
   "outputs": [],
   "source": [
    "from sklearn.preprocessing import StandardScaler\n",
    "\n",
    "scaler = StandardScaler()\n",
    "\n",
    "X_train_mca_scaled = pd.DataFrame(scaler.fit_transform(X_train_mca), index=X_train_mca.index, columns=X_train_mca.columns)\n",
    "X_test_mca_scaled = pd.DataFrame(scaler.transform(X_test_mca), index=X_test_mca.index, columns=X_test_mca.columns)"
   ]
  },
  {
   "cell_type": "markdown",
   "metadata": {},
   "source": [
    "### Feature selection"
   ]
  },
  {
   "cell_type": "code",
   "execution_count": 82,
   "metadata": {},
   "outputs": [
    {
     "name": "stderr",
     "output_type": "stream",
     "text": [
      "[Parallel(n_jobs=1)]: Done  49 tasks      | elapsed:  2.5min\n",
      "[Parallel(n_jobs=1)]: Done  49 tasks      | elapsed:    1.9s\n"
     ]
    }
   ],
   "source": [
    "from sklearn.ensemble import RandomForestClassifier\n",
    "\n",
    "rf = RandomForestClassifier(n_estimators=100, min_samples_split=5, random_state=0, verbose=1)\n",
    "rf.fit(X_train_mca, y_train)\n",
    "y_pred = rf.predict(X_test_mca)"
   ]
  },
  {
   "cell_type": "code",
   "execution_count": 83,
   "metadata": {},
   "outputs": [
    {
     "name": "stdout",
     "output_type": "stream",
     "text": [
      "              precision    recall  f1-score   support\n",
      "\n",
      "           A       1.00      1.00      1.00      8402\n",
      "           B       0.99      1.00      1.00      7973\n",
      "           C       1.00      1.00      1.00     41301\n",
      "           D       1.00      1.00      1.00     38342\n",
      "           E       0.99      1.00      0.99     24184\n",
      "           F       0.99      0.98      0.99     10051\n",
      "           G       0.99      0.99      0.99      6946\n",
      "\n",
      "    accuracy                           1.00    137199\n",
      "   macro avg       0.99      0.99      0.99    137199\n",
      "weighted avg       1.00      1.00      1.00    137199\n",
      "\n"
     ]
    }
   ],
   "source": [
    "from sklearn.metrics import classification_report\n",
    "\n",
    "print(classification_report(y_test, y_pred))"
   ]
  },
  {
   "cell_type": "code",
   "execution_count": 87,
   "metadata": {},
   "outputs": [
    {
     "data": {
      "image/png": "[encoded data removed]",
      "text/plain": [
       "<Figure size 800x800 with 1 Axes>"
      ]
     },
     "metadata": {},
     "output_type": "display_data"
    }
   ],
   "source": [
    "import pandas as pd\n",
    "import matplotlib.pyplot as plt\n",
    "plt.figure(figsize=(8,8))\n",
    "\n",
    "feature_names = rf.feature_names_in_[:20]\n",
    "\n",
    "mdi_importances = pd.Series(\n",
    "    rf.feature_importances_[:20], index=feature_names\n",
    ").sort_values(ascending=True)\n",
    "\n",
    "ax = mdi_importances.plot.barh()\n",
    "ax.set_title(\"Random Forest Feature Importances (MDI)\")\n",
    "ax.figure.tight_layout()"
   ]
  },
  {
   "cell_type": "markdown",
   "metadata": {},
   "source": [
    "### Modélisation"
   ]
  },
  {
   "cell_type": "code",
   "execution_count": null,
   "metadata": {},
   "outputs": [],
   "source": [
    "# vars = ['Année_construction',\n",
    "#         'Surface_habitable_logement',\n",
    "#         'Coût_total_5_usages',\n",
    "#         'Etiquette_GES',\n",
    "#         'Code_postal_(brut)',\n",
    "#         'Logement',\n",
    "#         'Type_bâtiment',\n",
    "#         'Hauteur_sous-plafond',\n",
    "#         'Nombre_niveau_logement',\n",
    "#         'Etiquette_DPE'\n",
    "#         ]\n",
    "# from sklearn.preprocessing import OneHotEncoder\n",
    "\n",
    "# encoder = OneHotEncoder()\n",
    "\n",
    "# encoder.fit(X_train[vars])"
   ]
  },
  {
   "cell_type": "code",
   "execution_count": 40,
   "metadata": {},
   "outputs": [],
   "source": [
    "vars = ['Année_construction',\n",
    "        'Code_postal_(brut)',\n",
    "        'Coût_total_5_usages',\n",
    "        'Hauteur_sous-plafond',\n",
    "        'Nombre_niveau_logement',\n",
    "        'Surface_habitable_logement',\n",
    "        'Etiquette_GES_A',\n",
    "        'Etiquette_GES_B',\n",
    "        # 'Etiquette_GES_C',\n",
    "        'Etiquette_GES_D',\n",
    "        'Etiquette_GES_E',\n",
    "        'Etiquette_GES_F',\n",
    "        'Etiquette_GES_G',\n",
    "        'Logement_neuf',\n",
    "        # 'Type_bâtiment_appartement',\n",
    "        'Type_bâtiment_immeuble',\n",
    "        'Type_bâtiment_maison'\n",
    "        ]"
   ]
  },
  {
   "cell_type": "code",
   "execution_count": 41,
   "metadata": {},
   "outputs": [
    {
     "data": {
      "text/html": [
       "<div>\n",
       "<style scoped>\n",
       "    .dataframe tbody tr th:only-of-type {\n",
       "        vertical-align: middle;\n",
       "    }\n",
       "\n",
       "    .dataframe tbody tr th {\n",
       "        vertical-align: top;\n",
       "    }\n",
       "\n",
       "    .dataframe thead th {\n",
       "        text-align: right;\n",
       "    }\n",
       "</style>\n",
       "<table border=\"1\" class=\"dataframe\">\n",
       "  <thead>\n",
       "    <tr style=\"text-align: right;\">\n",
       "      <th></th>\n",
       "      <th>Année_construction</th>\n",
       "      <th>Code_postal_(brut)</th>\n",
       "      <th>Coût_total_5_usages</th>\n",
       "      <th>Hauteur_sous-plafond</th>\n",
       "      <th>Nombre_niveau_logement</th>\n",
       "      <th>Surface_habitable_logement</th>\n",
       "      <th>Etiquette_GES_A</th>\n",
       "      <th>Etiquette_GES_B</th>\n",
       "      <th>Etiquette_GES_D</th>\n",
       "      <th>Etiquette_GES_E</th>\n",
       "      <th>Etiquette_GES_F</th>\n",
       "      <th>Etiquette_GES_G</th>\n",
       "      <th>Logement_neuf</th>\n",
       "      <th>Type_bâtiment_immeuble</th>\n",
       "      <th>Type_bâtiment_maison</th>\n",
       "    </tr>\n",
       "  </thead>\n",
       "  <tbody>\n",
       "    <tr>\n",
       "      <th>Année_construction</th>\n",
       "      <td>1.000000</td>\n",
       "      <td>-0.027940</td>\n",
       "      <td>0.016004</td>\n",
       "      <td>-0.003179</td>\n",
       "      <td>-0.020551</td>\n",
       "      <td>-0.016078</td>\n",
       "      <td>0.022530</td>\n",
       "      <td>-0.007684</td>\n",
       "      <td>0.000034</td>\n",
       "      <td>-0.029708</td>\n",
       "      <td>-0.035920</td>\n",
       "      <td>-0.028122</td>\n",
       "      <td>-0.038695</td>\n",
       "      <td>0.050447</td>\n",
       "      <td>-0.049764</td>\n",
       "    </tr>\n",
       "    <tr>\n",
       "      <th>Code_postal_(brut)</th>\n",
       "      <td>-0.027940</td>\n",
       "      <td>1.000000</td>\n",
       "      <td>-0.014812</td>\n",
       "      <td>-0.000544</td>\n",
       "      <td>0.060865</td>\n",
       "      <td>0.005738</td>\n",
       "      <td>0.044083</td>\n",
       "      <td>-0.002199</td>\n",
       "      <td>-0.041315</td>\n",
       "      <td>-0.013974</td>\n",
       "      <td>-0.025116</td>\n",
       "      <td>-0.015621</td>\n",
       "      <td>0.039767</td>\n",
       "      <td>0.007868</td>\n",
       "      <td>-0.008857</td>\n",
       "    </tr>\n",
       "    <tr>\n",
       "      <th>Coût_total_5_usages</th>\n",
       "      <td>0.016004</td>\n",
       "      <td>-0.014812</td>\n",
       "      <td>1.000000</td>\n",
       "      <td>-0.000460</td>\n",
       "      <td>0.031279</td>\n",
       "      <td>0.220637</td>\n",
       "      <td>-0.112020</td>\n",
       "      <td>-0.022349</td>\n",
       "      <td>0.046724</td>\n",
       "      <td>0.080113</td>\n",
       "      <td>0.104011</td>\n",
       "      <td>0.091291</td>\n",
       "      <td>-0.123987</td>\n",
       "      <td>0.540067</td>\n",
       "      <td>0.093035</td>\n",
       "    </tr>\n",
       "    <tr>\n",
       "      <th>Hauteur_sous-plafond</th>\n",
       "      <td>-0.003179</td>\n",
       "      <td>-0.000544</td>\n",
       "      <td>-0.000460</td>\n",
       "      <td>1.000000</td>\n",
       "      <td>-0.001066</td>\n",
       "      <td>-0.000070</td>\n",
       "      <td>0.001702</td>\n",
       "      <td>-0.002326</td>\n",
       "      <td>-0.001078</td>\n",
       "      <td>-0.000712</td>\n",
       "      <td>-0.000223</td>\n",
       "      <td>-0.000262</td>\n",
       "      <td>0.003745</td>\n",
       "      <td>-0.000453</td>\n",
       "      <td>-0.000615</td>\n",
       "    </tr>\n",
       "    <tr>\n",
       "      <th>Nombre_niveau_logement</th>\n",
       "      <td>-0.020551</td>\n",
       "      <td>0.060865</td>\n",
       "      <td>0.031279</td>\n",
       "      <td>-0.001066</td>\n",
       "      <td>1.000000</td>\n",
       "      <td>0.098197</td>\n",
       "      <td>-0.048483</td>\n",
       "      <td>0.000766</td>\n",
       "      <td>-0.007031</td>\n",
       "      <td>0.031098</td>\n",
       "      <td>0.036122</td>\n",
       "      <td>0.017283</td>\n",
       "      <td>-0.078165</td>\n",
       "      <td>-0.048165</td>\n",
       "      <td>0.154497</td>\n",
       "    </tr>\n",
       "    <tr>\n",
       "      <th>Surface_habitable_logement</th>\n",
       "      <td>-0.016078</td>\n",
       "      <td>0.005738</td>\n",
       "      <td>0.220637</td>\n",
       "      <td>-0.000070</td>\n",
       "      <td>0.098197</td>\n",
       "      <td>1.000000</td>\n",
       "      <td>0.071088</td>\n",
       "      <td>-0.058454</td>\n",
       "      <td>0.011158</td>\n",
       "      <td>0.041418</td>\n",
       "      <td>0.044502</td>\n",
       "      <td>0.013516</td>\n",
       "      <td>0.061643</td>\n",
       "      <td>0.137711</td>\n",
       "      <td>0.303640</td>\n",
       "    </tr>\n",
       "    <tr>\n",
       "      <th>Etiquette_GES_A</th>\n",
       "      <td>0.022530</td>\n",
       "      <td>0.044083</td>\n",
       "      <td>-0.112020</td>\n",
       "      <td>0.001702</td>\n",
       "      <td>-0.048483</td>\n",
       "      <td>0.071088</td>\n",
       "      <td>1.000000</td>\n",
       "      <td>-0.307593</td>\n",
       "      <td>-0.189962</td>\n",
       "      <td>-0.128719</td>\n",
       "      <td>-0.095224</td>\n",
       "      <td>-0.061225</td>\n",
       "      <td>0.309051</td>\n",
       "      <td>-0.029121</td>\n",
       "      <td>0.126894</td>\n",
       "    </tr>\n",
       "    <tr>\n",
       "      <th>Etiquette_GES_B</th>\n",
       "      <td>-0.007684</td>\n",
       "      <td>-0.002199</td>\n",
       "      <td>-0.022349</td>\n",
       "      <td>-0.002326</td>\n",
       "      <td>0.000766</td>\n",
       "      <td>-0.058454</td>\n",
       "      <td>-0.307593</td>\n",
       "      <td>1.000000</td>\n",
       "      <td>-0.233065</td>\n",
       "      <td>-0.157926</td>\n",
       "      <td>-0.116831</td>\n",
       "      <td>-0.075117</td>\n",
       "      <td>-0.118966</td>\n",
       "      <td>-0.017587</td>\n",
       "      <td>0.036698</td>\n",
       "    </tr>\n",
       "    <tr>\n",
       "      <th>Etiquette_GES_D</th>\n",
       "      <td>0.000034</td>\n",
       "      <td>-0.041315</td>\n",
       "      <td>0.046724</td>\n",
       "      <td>-0.001078</td>\n",
       "      <td>-0.007031</td>\n",
       "      <td>0.011158</td>\n",
       "      <td>-0.189962</td>\n",
       "      <td>-0.233065</td>\n",
       "      <td>1.000000</td>\n",
       "      <td>-0.097531</td>\n",
       "      <td>-0.072152</td>\n",
       "      <td>-0.046391</td>\n",
       "      <td>-0.145031</td>\n",
       "      <td>0.006884</td>\n",
       "      <td>-0.061623</td>\n",
       "    </tr>\n",
       "    <tr>\n",
       "      <th>Etiquette_GES_E</th>\n",
       "      <td>-0.029708</td>\n",
       "      <td>-0.013974</td>\n",
       "      <td>0.080113</td>\n",
       "      <td>-0.000712</td>\n",
       "      <td>0.031098</td>\n",
       "      <td>0.041418</td>\n",
       "      <td>-0.128719</td>\n",
       "      <td>-0.157926</td>\n",
       "      <td>-0.097531</td>\n",
       "      <td>1.000000</td>\n",
       "      <td>-0.048891</td>\n",
       "      <td>-0.031435</td>\n",
       "      <td>-0.098542</td>\n",
       "      <td>-0.009722</td>\n",
       "      <td>0.062845</td>\n",
       "    </tr>\n",
       "    <tr>\n",
       "      <th>Etiquette_GES_F</th>\n",
       "      <td>-0.035920</td>\n",
       "      <td>-0.025116</td>\n",
       "      <td>0.104011</td>\n",
       "      <td>-0.000223</td>\n",
       "      <td>0.036122</td>\n",
       "      <td>0.044502</td>\n",
       "      <td>-0.095224</td>\n",
       "      <td>-0.116831</td>\n",
       "      <td>-0.072152</td>\n",
       "      <td>-0.048891</td>\n",
       "      <td>1.000000</td>\n",
       "      <td>-0.023255</td>\n",
       "      <td>-0.072906</td>\n",
       "      <td>-0.012700</td>\n",
       "      <td>0.121247</td>\n",
       "    </tr>\n",
       "    <tr>\n",
       "      <th>Etiquette_GES_G</th>\n",
       "      <td>-0.028122</td>\n",
       "      <td>-0.015621</td>\n",
       "      <td>0.091291</td>\n",
       "      <td>-0.000262</td>\n",
       "      <td>0.017283</td>\n",
       "      <td>0.013516</td>\n",
       "      <td>-0.061225</td>\n",
       "      <td>-0.075117</td>\n",
       "      <td>-0.046391</td>\n",
       "      <td>-0.031435</td>\n",
       "      <td>-0.023255</td>\n",
       "      <td>1.000000</td>\n",
       "      <td>-0.046596</td>\n",
       "      <td>-0.012484</td>\n",
       "      <td>0.098855</td>\n",
       "    </tr>\n",
       "    <tr>\n",
       "      <th>Logement_neuf</th>\n",
       "      <td>-0.038695</td>\n",
       "      <td>0.039767</td>\n",
       "      <td>-0.123987</td>\n",
       "      <td>0.003745</td>\n",
       "      <td>-0.078165</td>\n",
       "      <td>0.061643</td>\n",
       "      <td>0.309051</td>\n",
       "      <td>-0.118966</td>\n",
       "      <td>-0.145031</td>\n",
       "      <td>-0.098542</td>\n",
       "      <td>-0.072906</td>\n",
       "      <td>-0.046596</td>\n",
       "      <td>1.000000</td>\n",
       "      <td>-0.004436</td>\n",
       "      <td>0.025102</td>\n",
       "    </tr>\n",
       "    <tr>\n",
       "      <th>Type_bâtiment_immeuble</th>\n",
       "      <td>0.050447</td>\n",
       "      <td>0.007868</td>\n",
       "      <td>0.540067</td>\n",
       "      <td>-0.000453</td>\n",
       "      <td>-0.048165</td>\n",
       "      <td>0.137711</td>\n",
       "      <td>-0.029121</td>\n",
       "      <td>-0.017587</td>\n",
       "      <td>0.006884</td>\n",
       "      <td>-0.009722</td>\n",
       "      <td>-0.012700</td>\n",
       "      <td>-0.012484</td>\n",
       "      <td>-0.004436</td>\n",
       "      <td>1.000000</td>\n",
       "      <td>-0.114594</td>\n",
       "    </tr>\n",
       "    <tr>\n",
       "      <th>Type_bâtiment_maison</th>\n",
       "      <td>-0.049764</td>\n",
       "      <td>-0.008857</td>\n",
       "      <td>0.093035</td>\n",
       "      <td>-0.000615</td>\n",
       "      <td>0.154497</td>\n",
       "      <td>0.303640</td>\n",
       "      <td>0.126894</td>\n",
       "      <td>0.036698</td>\n",
       "      <td>-0.061623</td>\n",
       "      <td>0.062845</td>\n",
       "      <td>0.121247</td>\n",
       "      <td>0.098855</td>\n",
       "      <td>0.025102</td>\n",
       "      <td>-0.114594</td>\n",
       "      <td>1.000000</td>\n",
       "    </tr>\n",
       "  </tbody>\n",
       "</table>\n",
       "</div>"
      ],
      "text/plain": [
       "                            Année_construction  Code_postal_(brut)  \\\n",
       "Année_construction                    1.000000           -0.027940   \n",
       "Code_postal_(brut)                   -0.027940            1.000000   \n",
       "Coût_total_5_usages                   0.016004           -0.014812   \n",
       "Hauteur_sous-plafond                 -0.003179           -0.000544   \n",
       "Nombre_niveau_logement               -0.020551            0.060865   \n",
       "Surface_habitable_logement           -0.016078            0.005738   \n",
       "Etiquette_GES_A                       0.022530            0.044083   \n",
       "Etiquette_GES_B                      -0.007684           -0.002199   \n",
       "Etiquette_GES_D                       0.000034           -0.041315   \n",
       "Etiquette_GES_E                      -0.029708           -0.013974   \n",
       "Etiquette_GES_F                      -0.035920           -0.025116   \n",
       "Etiquette_GES_G                      -0.028122           -0.015621   \n",
       "Logement_neuf                        -0.038695            0.039767   \n",
       "Type_bâtiment_immeuble                0.050447            0.007868   \n",
       "Type_bâtiment_maison                 -0.049764           -0.008857   \n",
       "\n",
       "                            Coût_total_5_usages  Hauteur_sous-plafond  \\\n",
       "Année_construction                     0.016004             -0.003179   \n",
       "Code_postal_(brut)                    -0.014812             -0.000544   \n",
       "Coût_total_5_usages                    1.000000             -0.000460   \n",
       "Hauteur_sous-plafond                  -0.000460              1.000000   \n",
       "Nombre_niveau_logement                 0.031279             -0.001066   \n",
       "Surface_habitable_logement             0.220637             -0.000070   \n",
       "Etiquette_GES_A                       -0.112020              0.001702   \n",
       "Etiquette_GES_B                       -0.022349             -0.002326   \n",
       "Etiquette_GES_D                        0.046724             -0.001078   \n",
       "Etiquette_GES_E                        0.080113             -0.000712   \n",
       "Etiquette_GES_F                        0.104011             -0.000223   \n",
       "Etiquette_GES_G                        0.091291             -0.000262   \n",
       "Logement_neuf                         -0.123987              0.003745   \n",
       "Type_bâtiment_immeuble                 0.540067             -0.000453   \n",
       "Type_bâtiment_maison                   0.093035             -0.000615   \n",
       "\n",
       "                            Nombre_niveau_logement  \\\n",
       "Année_construction                       -0.020551   \n",
       "Code_postal_(brut)                        0.060865   \n",
       "Coût_total_5_usages                       0.031279   \n",
       "Hauteur_sous-plafond                     -0.001066   \n",
       "Nombre_niveau_logement                    1.000000   \n",
       "Surface_habitable_logement                0.098197   \n",
       "Etiquette_GES_A                          -0.048483   \n",
       "Etiquette_GES_B                           0.000766   \n",
       "Etiquette_GES_D                          -0.007031   \n",
       "Etiquette_GES_E                           0.031098   \n",
       "Etiquette_GES_F                           0.036122   \n",
       "Etiquette_GES_G                           0.017283   \n",
       "Logement_neuf                            -0.078165   \n",
       "Type_bâtiment_immeuble                   -0.048165   \n",
       "Type_bâtiment_maison                      0.154497   \n",
       "\n",
       "                            Surface_habitable_logement  Etiquette_GES_A  \\\n",
       "Année_construction                           -0.016078         0.022530   \n",
       "Code_postal_(brut)                            0.005738         0.044083   \n",
       "Coût_total_5_usages                           0.220637        -0.112020   \n",
       "Hauteur_sous-plafond                         -0.000070         0.001702   \n",
       "Nombre_niveau_logement                        0.098197        -0.048483   \n",
       "Surface_habitable_logement                    1.000000         0.071088   \n",
       "Etiquette_GES_A                               0.071088         1.000000   \n",
       "Etiquette_GES_B                              -0.058454        -0.307593   \n",
       "Etiquette_GES_D                               0.011158        -0.189962   \n",
       "Etiquette_GES_E                               0.041418        -0.128719   \n",
       "Etiquette_GES_F                               0.044502        -0.095224   \n",
       "Etiquette_GES_G                               0.013516        -0.061225   \n",
       "Logement_neuf                                 0.061643         0.309051   \n",
       "Type_bâtiment_immeuble                        0.137711        -0.029121   \n",
       "Type_bâtiment_maison                          0.303640         0.126894   \n",
       "\n",
       "                            Etiquette_GES_B  Etiquette_GES_D  Etiquette_GES_E  \\\n",
       "Année_construction                -0.007684         0.000034        -0.029708   \n",
       "Code_postal_(brut)                -0.002199        -0.041315        -0.013974   \n",
       "Coût_total_5_usages               -0.022349         0.046724         0.080113   \n",
       "Hauteur_sous-plafond              -0.002326        -0.001078        -0.000712   \n",
       "Nombre_niveau_logement             0.000766        -0.007031         0.031098   \n",
       "Surface_habitable_logement        -0.058454         0.011158         0.041418   \n",
       "Etiquette_GES_A                   -0.307593        -0.189962        -0.128719   \n",
       "Etiquette_GES_B                    1.000000        -0.233065        -0.157926   \n",
       "Etiquette_GES_D                   -0.233065         1.000000        -0.097531   \n",
       "Etiquette_GES_E                   -0.157926        -0.097531         1.000000   \n",
       "Etiquette_GES_F                   -0.116831        -0.072152        -0.048891   \n",
       "Etiquette_GES_G                   -0.075117        -0.046391        -0.031435   \n",
       "Logement_neuf                     -0.118966        -0.145031        -0.098542   \n",
       "Type_bâtiment_immeuble            -0.017587         0.006884        -0.009722   \n",
       "Type_bâtiment_maison               0.036698        -0.061623         0.062845   \n",
       "\n",
       "                            Etiquette_GES_F  Etiquette_GES_G  Logement_neuf  \\\n",
       "Année_construction                -0.035920        -0.028122      -0.038695   \n",
       "Code_postal_(brut)                -0.025116        -0.015621       0.039767   \n",
       "Coût_total_5_usages                0.104011         0.091291      -0.123987   \n",
       "Hauteur_sous-plafond              -0.000223        -0.000262       0.003745   \n",
       "Nombre_niveau_logement             0.036122         0.017283      -0.078165   \n",
       "Surface_habitable_logement         0.044502         0.013516       0.061643   \n",
       "Etiquette_GES_A                   -0.095224        -0.061225       0.309051   \n",
       "Etiquette_GES_B                   -0.116831        -0.075117      -0.118966   \n",
       "Etiquette_GES_D                   -0.072152        -0.046391      -0.145031   \n",
       "Etiquette_GES_E                   -0.048891        -0.031435      -0.098542   \n",
       "Etiquette_GES_F                    1.000000        -0.023255      -0.072906   \n",
       "Etiquette_GES_G                   -0.023255         1.000000      -0.046596   \n",
       "Logement_neuf                     -0.072906        -0.046596       1.000000   \n",
       "Type_bâtiment_immeuble            -0.012700        -0.012484      -0.004436   \n",
       "Type_bâtiment_maison               0.121247         0.098855       0.025102   \n",
       "\n",
       "                            Type_bâtiment_immeuble  Type_bâtiment_maison  \n",
       "Année_construction                        0.050447             -0.049764  \n",
       "Code_postal_(brut)                        0.007868             -0.008857  \n",
       "Coût_total_5_usages                       0.540067              0.093035  \n",
       "Hauteur_sous-plafond                     -0.000453             -0.000615  \n",
       "Nombre_niveau_logement                   -0.048165              0.154497  \n",
       "Surface_habitable_logement                0.137711              0.303640  \n",
       "Etiquette_GES_A                          -0.029121              0.126894  \n",
       "Etiquette_GES_B                          -0.017587              0.036698  \n",
       "Etiquette_GES_D                           0.006884             -0.061623  \n",
       "Etiquette_GES_E                          -0.009722              0.062845  \n",
       "Etiquette_GES_F                          -0.012700              0.121247  \n",
       "Etiquette_GES_G                          -0.012484              0.098855  \n",
       "Logement_neuf                            -0.004436              0.025102  \n",
       "Type_bâtiment_immeuble                    1.000000             -0.114594  \n",
       "Type_bâtiment_maison                     -0.114594              1.000000  "
      ]
     },
     "execution_count": 41,
     "metadata": {},
     "output_type": "execute_result"
    }
   ],
   "source": [
    "X_train_mca[vars].corr()"
   ]
  },
  {
   "cell_type": "code",
   "execution_count": 46,
   "metadata": {},
   "outputs": [],
   "source": [
    "from sklearn.ensemble import RandomForestClassifier\n",
    "\n",
    "rf = RandomForestClassifier(n_estimators=10, min_samples_split=5, max_depth=None, random_state=0, verbose=1)\n",
    "rf.fit(X_train_mca[vars], y_train)\n",
    "y_pred = rf.predict(X_test_mca[vars])"
   ]
  },
  {
   "cell_type": "code",
   "execution_count": 89,
   "metadata": {},
   "outputs": [
    {
     "name": "stdout",
     "output_type": "stream",
     "text": [
      "Fitting 5 folds for each of 2 candidates, totalling 10 fits\n",
      "[CV] END max_depth=20, min_samples_split=5, n_estimators=100; total time=  48.2s\n",
      "[CV] END max_depth=20, min_samples_split=5, n_estimators=100; total time=  46.7s\n",
      "[CV] END max_depth=20, min_samples_split=5, n_estimators=100; total time=  45.5s\n",
      "[CV] END max_depth=20, min_samples_split=5, n_estimators=100; total time=  45.7s\n",
      "[CV] END max_depth=20, min_samples_split=5, n_estimators=100; total time=  46.2s\n",
      "[CV] END max_depth=None, min_samples_split=5, n_estimators=100; total time=  53.7s\n",
      "[CV] END max_depth=None, min_samples_split=5, n_estimators=100; total time=  52.3s\n",
      "[CV] END max_depth=None, min_samples_split=5, n_estimators=100; total time=  52.3s\n",
      "[CV] END max_depth=None, min_samples_split=5, n_estimators=100; total time=  51.5s\n",
      "[CV] END max_depth=None, min_samples_split=5, n_estimators=100; total time=  52.2s\n"
     ]
    },
    {
     "data": {
      "text/html": [
       "<style>#sk-container-id-5 {\n",
       "  /* Definition of color scheme common for light and dark mode */\n",
       "  --sklearn-color-text: black;\n",
       "  --sklearn-color-line: gray;\n",
       "  /* Definition of color scheme for unfitted estimators */\n",
       "  --sklearn-color-unfitted-level-0: #fff5e6;\n",
       "  --sklearn-color-unfitted-level-1: #f6e4d2;\n",
       "  --sklearn-color-unfitted-level-2: #ffe0b3;\n",
       "  --sklearn-color-unfitted-level-3: chocolate;\n",
       "  /* Definition of color scheme for fitted estimators */\n",
       "  --sklearn-color-fitted-level-0: #f0f8ff;\n",
       "  --sklearn-color-fitted-level-1: #d4ebff;\n",
       "  --sklearn-color-fitted-level-2: #b3dbfd;\n",
       "  --sklearn-color-fitted-level-3: cornflowerblue;\n",
       "\n",
       "  /* Specific color for light theme */\n",
       "  --sklearn-color-text-on-default-background: var(--sg-text-color, var(--theme-code-foreground, var(--jp-content-font-color1, black)));\n",
       "  --sklearn-color-background: var(--sg-background-color, var(--theme-background, var(--jp-layout-color0, white)));\n",
       "  --sklearn-color-border-box: var(--sg-text-color, var(--theme-code-foreground, var(--jp-content-font-color1, black)));\n",
       "  --sklearn-color-icon: #696969;\n",
       "\n",
       "  @media (prefers-color-scheme: dark) {\n",
       "    /* Redefinition of color scheme for dark theme */\n",
       "    --sklearn-color-text-on-default-background: var(--sg-text-color, var(--theme-code-foreground, var(--jp-content-font-color1, white)));\n",
       "    --sklearn-color-background: var(--sg-background-color, var(--theme-background, var(--jp-layout-color0, #111)));\n",
       "    --sklearn-color-border-box: var(--sg-text-color, var(--theme-code-foreground, var(--jp-content-font-color1, white)));\n",
       "    --sklearn-color-icon: #878787;\n",
       "  }\n",
       "}\n",
       "\n",
       "#sk-container-id-5 {\n",
       "  color: var(--sklearn-color-text);\n",
       "}\n",
       "\n",
       "#sk-container-id-5 pre {\n",
       "  padding: 0;\n",
       "}\n",
       "\n",
       "#sk-container-id-5 input.sk-hidden--visually {\n",
       "  border: 0;\n",
       "  clip: rect(1px 1px 1px 1px);\n",
       "  clip: rect(1px, 1px, 1px, 1px);\n",
       "  height: 1px;\n",
       "  margin: -1px;\n",
       "  overflow: hidden;\n",
       "  padding: 0;\n",
       "  position: absolute;\n",
       "  width: 1px;\n",
       "}\n",
       "\n",
       "#sk-container-id-5 div.sk-dashed-wrapped {\n",
       "  border: 1px dashed var(--sklearn-color-line);\n",
       "  margin: 0 0.4em 0.5em 0.4em;\n",
       "  box-sizing: border-box;\n",
       "  padding-bottom: 0.4em;\n",
       "  background-color: var(--sklearn-color-background);\n",
       "}\n",
       "\n",
       "#sk-container-id-5 div.sk-container {\n",
       "  /* jupyter's `normalize.less` sets `[hidden] { display: none; }`\n",
       "     but bootstrap.min.css set `[hidden] { display: none !important; }`\n",
       "     so we also need the `!important` here to be able to override the\n",
       "     default hidden behavior on the sphinx rendered scikit-learn.org.\n",
       "     See: https://github.com/scikit-learn/scikit-learn/issues/21755 */\n",
       "  display: inline-block !important;\n",
       "  position: relative;\n",
       "}\n",
       "\n",
       "#sk-container-id-5 div.sk-text-repr-fallback {\n",
       "  display: none;\n",
       "}\n",
       "\n",
       "div.sk-parallel-item,\n",
       "div.sk-serial,\n",
       "div.sk-item {\n",
       "  /* draw centered vertical line to link estimators */\n",
       "  background-image: linear-gradient(var(--sklearn-color-text-on-default-background), var(--sklearn-color-text-on-default-background));\n",
       "  background-size: 2px 100%;\n",
       "  background-repeat: no-repeat;\n",
       "  background-position: center center;\n",
       "}\n",
       "\n",
       "/* Parallel-specific style estimator block */\n",
       "\n",
       "#sk-container-id-5 div.sk-parallel-item::after {\n",
       "  content: \"\";\n",
       "  width: 100%;\n",
       "  border-bottom: 2px solid var(--sklearn-color-text-on-default-background);\n",
       "  flex-grow: 1;\n",
       "}\n",
       "\n",
       "#sk-container-id-5 div.sk-parallel {\n",
       "  display: flex;\n",
       "  align-items: stretch;\n",
       "  justify-content: center;\n",
       "  background-color: var(--sklearn-color-background);\n",
       "  position: relative;\n",
       "}\n",
       "\n",
       "#sk-container-id-5 div.sk-parallel-item {\n",
       "  display: flex;\n",
       "  flex-direction: column;\n",
       "}\n",
       "\n",
       "#sk-container-id-5 div.sk-parallel-item:first-child::after {\n",
       "  align-self: flex-end;\n",
       "  width: 50%;\n",
       "}\n",
       "\n",
       "#sk-container-id-5 div.sk-parallel-item:last-child::after {\n",
       "  align-self: flex-start;\n",
       "  width: 50%;\n",
       "}\n",
       "\n",
       "#sk-container-id-5 div.sk-parallel-item:only-child::after {\n",
       "  width: 0;\n",
       "}\n",
       "\n",
       "/* Serial-specific style estimator block */\n",
       "\n",
       "#sk-container-id-5 div.sk-serial {\n",
       "  display: flex;\n",
       "  flex-direction: column;\n",
       "  align-items: center;\n",
       "  background-color: var(--sklearn-color-background);\n",
       "  padding-right: 1em;\n",
       "  padding-left: 1em;\n",
       "}\n",
       "\n",
       "\n",
       "/* Toggleable style: style used for estimator/Pipeline/ColumnTransformer box that is\n",
       "clickable and can be expanded/collapsed.\n",
       "- Pipeline and ColumnTransformer use this feature and define the default style\n",
       "- Estimators will overwrite some part of the style using the `sk-estimator` class\n",
       "*/\n",
       "\n",
       "/* Pipeline and ColumnTransformer style (default) */\n",
       "\n",
       "#sk-container-id-5 div.sk-toggleable {\n",
       "  /* Default theme specific background. It is overwritten whether we have a\n",
       "  specific estimator or a Pipeline/ColumnTransformer */\n",
       "  background-color: var(--sklearn-color-background);\n",
       "}\n",
       "\n",
       "/* Toggleable label */\n",
       "#sk-container-id-5 label.sk-toggleable__label {\n",
       "  cursor: pointer;\n",
       "  display: block;\n",
       "  width: 100%;\n",
       "  margin-bottom: 0;\n",
       "  padding: 0.5em;\n",
       "  box-sizing: border-box;\n",
       "  text-align: center;\n",
       "}\n",
       "\n",
       "#sk-container-id-5 label.sk-toggleable__label-arrow:before {\n",
       "  /* Arrow on the left of the label */\n",
       "  content: \"▸\";\n",
       "  float: left;\n",
       "  margin-right: 0.25em;\n",
       "  color: var(--sklearn-color-icon);\n",
       "}\n",
       "\n",
       "#sk-container-id-5 label.sk-toggleable__label-arrow:hover:before {\n",
       "  color: var(--sklearn-color-text);\n",
       "}\n",
       "\n",
       "/* Toggleable content - dropdown */\n",
       "\n",
       "#sk-container-id-5 div.sk-toggleable__content {\n",
       "  max-height: 0;\n",
       "  max-width: 0;\n",
       "  overflow: hidden;\n",
       "  text-align: left;\n",
       "  /* unfitted */\n",
       "  background-color: var(--sklearn-color-unfitted-level-0);\n",
       "}\n",
       "\n",
       "#sk-container-id-5 div.sk-toggleable__content.fitted {\n",
       "  /* fitted */\n",
       "  background-color: var(--sklearn-color-fitted-level-0);\n",
       "}\n",
       "\n",
       "#sk-container-id-5 div.sk-toggleable__content pre {\n",
       "  margin: 0.2em;\n",
       "  border-radius: 0.25em;\n",
       "  color: var(--sklearn-color-text);\n",
       "  /* unfitted */\n",
       "  background-color: var(--sklearn-color-unfitted-level-0);\n",
       "}\n",
       "\n",
       "#sk-container-id-5 div.sk-toggleable__content.fitted pre {\n",
       "  /* unfitted */\n",
       "  background-color: var(--sklearn-color-fitted-level-0);\n",
       "}\n",
       "\n",
       "#sk-container-id-5 input.sk-toggleable__control:checked~div.sk-toggleable__content {\n",
       "  /* Expand drop-down */\n",
       "  max-height: 200px;\n",
       "  max-width: 100%;\n",
       "  overflow: auto;\n",
       "}\n",
       "\n",
       "#sk-container-id-5 input.sk-toggleable__control:checked~label.sk-toggleable__label-arrow:before {\n",
       "  content: \"▾\";\n",
       "}\n",
       "\n",
       "/* Pipeline/ColumnTransformer-specific style */\n",
       "\n",
       "#sk-container-id-5 div.sk-label input.sk-toggleable__control:checked~label.sk-toggleable__label {\n",
       "  color: var(--sklearn-color-text);\n",
       "  background-color: var(--sklearn-color-unfitted-level-2);\n",
       "}\n",
       "\n",
       "#sk-container-id-5 div.sk-label.fitted input.sk-toggleable__control:checked~label.sk-toggleable__label {\n",
       "  background-color: var(--sklearn-color-fitted-level-2);\n",
       "}\n",
       "\n",
       "/* Estimator-specific style */\n",
       "\n",
       "/* Colorize estimator box */\n",
       "#sk-container-id-5 div.sk-estimator input.sk-toggleable__control:checked~label.sk-toggleable__label {\n",
       "  /* unfitted */\n",
       "  background-color: var(--sklearn-color-unfitted-level-2);\n",
       "}\n",
       "\n",
       "#sk-container-id-5 div.sk-estimator.fitted input.sk-toggleable__control:checked~label.sk-toggleable__label {\n",
       "  /* fitted */\n",
       "  background-color: var(--sklearn-color-fitted-level-2);\n",
       "}\n",
       "\n",
       "#sk-container-id-5 div.sk-label label.sk-toggleable__label,\n",
       "#sk-container-id-5 div.sk-label label {\n",
       "  /* The background is the default theme color */\n",
       "  color: var(--sklearn-color-text-on-default-background);\n",
       "}\n",
       "\n",
       "/* On hover, darken the color of the background */\n",
       "#sk-container-id-5 div.sk-label:hover label.sk-toggleable__label {\n",
       "  color: var(--sklearn-color-text);\n",
       "  background-color: var(--sklearn-color-unfitted-level-2);\n",
       "}\n",
       "\n",
       "/* Label box, darken color on hover, fitted */\n",
       "#sk-container-id-5 div.sk-label.fitted:hover label.sk-toggleable__label.fitted {\n",
       "  color: var(--sklearn-color-text);\n",
       "  background-color: var(--sklearn-color-fitted-level-2);\n",
       "}\n",
       "\n",
       "/* Estimator label */\n",
       "\n",
       "#sk-container-id-5 div.sk-label label {\n",
       "  font-family: monospace;\n",
       "  font-weight: bold;\n",
       "  display: inline-block;\n",
       "  line-height: 1.2em;\n",
       "}\n",
       "\n",
       "#sk-container-id-5 div.sk-label-container {\n",
       "  text-align: center;\n",
       "}\n",
       "\n",
       "/* Estimator-specific */\n",
       "#sk-container-id-5 div.sk-estimator {\n",
       "  font-family: monospace;\n",
       "  border: 1px dotted var(--sklearn-color-border-box);\n",
       "  border-radius: 0.25em;\n",
       "  box-sizing: border-box;\n",
       "  margin-bottom: 0.5em;\n",
       "  /* unfitted */\n",
       "  background-color: var(--sklearn-color-unfitted-level-0);\n",
       "}\n",
       "\n",
       "#sk-container-id-5 div.sk-estimator.fitted {\n",
       "  /* fitted */\n",
       "  background-color: var(--sklearn-color-fitted-level-0);\n",
       "}\n",
       "\n",
       "/* on hover */\n",
       "#sk-container-id-5 div.sk-estimator:hover {\n",
       "  /* unfitted */\n",
       "  background-color: var(--sklearn-color-unfitted-level-2);\n",
       "}\n",
       "\n",
       "#sk-container-id-5 div.sk-estimator.fitted:hover {\n",
       "  /* fitted */\n",
       "  background-color: var(--sklearn-color-fitted-level-2);\n",
       "}\n",
       "\n",
       "/* Specification for estimator info (e.g. \"i\" and \"?\") */\n",
       "\n",
       "/* Common style for \"i\" and \"?\" */\n",
       "\n",
       ".sk-estimator-doc-link,\n",
       "a:link.sk-estimator-doc-link,\n",
       "a:visited.sk-estimator-doc-link {\n",
       "  float: right;\n",
       "  font-size: smaller;\n",
       "  line-height: 1em;\n",
       "  font-family: monospace;\n",
       "  background-color: var(--sklearn-color-background);\n",
       "  border-radius: 1em;\n",
       "  height: 1em;\n",
       "  width: 1em;\n",
       "  text-decoration: none !important;\n",
       "  margin-left: 1ex;\n",
       "  /* unfitted */\n",
       "  border: var(--sklearn-color-unfitted-level-1) 1pt solid;\n",
       "  color: var(--sklearn-color-unfitted-level-1);\n",
       "}\n",
       "\n",
       ".sk-estimator-doc-link.fitted,\n",
       "a:link.sk-estimator-doc-link.fitted,\n",
       "a:visited.sk-estimator-doc-link.fitted {\n",
       "  /* fitted */\n",
       "  border: var(--sklearn-color-fitted-level-1) 1pt solid;\n",
       "  color: var(--sklearn-color-fitted-level-1);\n",
       "}\n",
       "\n",
       "/* On hover */\n",
       "div.sk-estimator:hover .sk-estimator-doc-link:hover,\n",
       ".sk-estimator-doc-link:hover,\n",
       "div.sk-label-container:hover .sk-estimator-doc-link:hover,\n",
       ".sk-estimator-doc-link:hover {\n",
       "  /* unfitted */\n",
       "  background-color: var(--sklearn-color-unfitted-level-3);\n",
       "  color: var(--sklearn-color-background);\n",
       "  text-decoration: none;\n",
       "}\n",
       "\n",
       "div.sk-estimator.fitted:hover .sk-estimator-doc-link.fitted:hover,\n",
       ".sk-estimator-doc-link.fitted:hover,\n",
       "div.sk-label-container:hover .sk-estimator-doc-link.fitted:hover,\n",
       ".sk-estimator-doc-link.fitted:hover {\n",
       "  /* fitted */\n",
       "  background-color: var(--sklearn-color-fitted-level-3);\n",
       "  color: var(--sklearn-color-background);\n",
       "  text-decoration: none;\n",
       "}\n",
       "\n",
       "/* Span, style for the box shown on hovering the info icon */\n",
       ".sk-estimator-doc-link span {\n",
       "  display: none;\n",
       "  z-index: 9999;\n",
       "  position: relative;\n",
       "  font-weight: normal;\n",
       "  right: .2ex;\n",
       "  padding: .5ex;\n",
       "  margin: .5ex;\n",
       "  width: min-content;\n",
       "  min-width: 20ex;\n",
       "  max-width: 50ex;\n",
       "  color: var(--sklearn-color-text);\n",
       "  box-shadow: 2pt 2pt 4pt #999;\n",
       "  /* unfitted */\n",
       "  background: var(--sklearn-color-unfitted-level-0);\n",
       "  border: .5pt solid var(--sklearn-color-unfitted-level-3);\n",
       "}\n",
       "\n",
       ".sk-estimator-doc-link.fitted span {\n",
       "  /* fitted */\n",
       "  background: var(--sklearn-color-fitted-level-0);\n",
       "  border: var(--sklearn-color-fitted-level-3);\n",
       "}\n",
       "\n",
       ".sk-estimator-doc-link:hover span {\n",
       "  display: block;\n",
       "}\n",
       "\n",
       "/* \"?\"-specific style due to the `<a>` HTML tag */\n",
       "\n",
       "#sk-container-id-5 a.estimator_doc_link {\n",
       "  float: right;\n",
       "  font-size: 1rem;\n",
       "  line-height: 1em;\n",
       "  font-family: monospace;\n",
       "  background-color: var(--sklearn-color-background);\n",
       "  border-radius: 1rem;\n",
       "  height: 1rem;\n",
       "  width: 1rem;\n",
       "  text-decoration: none;\n",
       "  /* unfitted */\n",
       "  color: var(--sklearn-color-unfitted-level-1);\n",
       "  border: var(--sklearn-color-unfitted-level-1) 1pt solid;\n",
       "}\n",
       "\n",
       "#sk-container-id-5 a.estimator_doc_link.fitted {\n",
       "  /* fitted */\n",
       "  border: var(--sklearn-color-fitted-level-1) 1pt solid;\n",
       "  color: var(--sklearn-color-fitted-level-1);\n",
       "}\n",
       "\n",
       "/* On hover */\n",
       "#sk-container-id-5 a.estimator_doc_link:hover {\n",
       "  /* unfitted */\n",
       "  background-color: var(--sklearn-color-unfitted-level-3);\n",
       "  color: var(--sklearn-color-background);\n",
       "  text-decoration: none;\n",
       "}\n",
       "\n",
       "#sk-container-id-5 a.estimator_doc_link.fitted:hover {\n",
       "  /* fitted */\n",
       "  background-color: var(--sklearn-color-fitted-level-3);\n",
       "}\n",
       "</style><div id=\"sk-container-id-5\" class=\"sk-top-container\"><div class=\"sk-text-repr-fallback\"><pre>GridSearchCV(cv=StratifiedKFold(n_splits=5, random_state=None, shuffle=False),\n",
       "             estimator=RandomForestClassifier(),\n",
       "             param_grid={&#x27;max_depth&#x27;: [20, None], &#x27;min_samples_split&#x27;: [5],\n",
       "                         &#x27;n_estimators&#x27;: [100]},\n",
       "             scoring=&#x27;accuracy&#x27;, verbose=2)</pre><b>In a Jupyter environment, please rerun this cell to show the HTML representation or trust the notebook. <br />On GitHub, the HTML representation is unable to render, please try loading this page with nbviewer.org.</b></div><div class=\"sk-container\" hidden><div class=\"sk-item sk-dashed-wrapped\"><div class=\"sk-label-container\"><div class=\"sk-label fitted sk-toggleable\"><input class=\"sk-toggleable__control sk-hidden--visually\" id=\"sk-estimator-id-11\" type=\"checkbox\" ><label for=\"sk-estimator-id-11\" class=\"sk-toggleable__label fitted sk-toggleable__label-arrow fitted\">&nbsp;&nbsp;GridSearchCV<a class=\"sk-estimator-doc-link fitted\" rel=\"noreferrer\" target=\"_blank\" href=\"https://scikit-learn.org/1.5/modules/generated/sklearn.model_selection.GridSearchCV.html\">?<span>Documentation for GridSearchCV</span></a><span class=\"sk-estimator-doc-link fitted\">i<span>Fitted</span></span></label><div class=\"sk-toggleable__content fitted\"><pre>GridSearchCV(cv=StratifiedKFold(n_splits=5, random_state=None, shuffle=False),\n",
       "             estimator=RandomForestClassifier(),\n",
       "             param_grid={&#x27;max_depth&#x27;: [20, None], &#x27;min_samples_split&#x27;: [5],\n",
       "                         &#x27;n_estimators&#x27;: [100]},\n",
       "             scoring=&#x27;accuracy&#x27;, verbose=2)</pre></div> </div></div><div class=\"sk-parallel\"><div class=\"sk-parallel-item\"><div class=\"sk-item\"><div class=\"sk-label-container\"><div class=\"sk-label fitted sk-toggleable\"><input class=\"sk-toggleable__control sk-hidden--visually\" id=\"sk-estimator-id-12\" type=\"checkbox\" ><label for=\"sk-estimator-id-12\" class=\"sk-toggleable__label fitted sk-toggleable__label-arrow fitted\">best_estimator_: RandomForestClassifier</label><div class=\"sk-toggleable__content fitted\"><pre>RandomForestClassifier(min_samples_split=5)</pre></div> </div></div><div class=\"sk-serial\"><div class=\"sk-item\"><div class=\"sk-estimator fitted sk-toggleable\"><input class=\"sk-toggleable__control sk-hidden--visually\" id=\"sk-estimator-id-13\" type=\"checkbox\" ><label for=\"sk-estimator-id-13\" class=\"sk-toggleable__label fitted sk-toggleable__label-arrow fitted\">&nbsp;RandomForestClassifier<a class=\"sk-estimator-doc-link fitted\" rel=\"noreferrer\" target=\"_blank\" href=\"https://scikit-learn.org/1.5/modules/generated/sklearn.ensemble.RandomForestClassifier.html\">?<span>Documentation for RandomForestClassifier</span></a></label><div class=\"sk-toggleable__content fitted\"><pre>RandomForestClassifier(min_samples_split=5)</pre></div> </div></div></div></div></div></div></div></div></div>"
      ],
      "text/plain": [
       "GridSearchCV(cv=StratifiedKFold(n_splits=5, random_state=None, shuffle=False),\n",
       "             estimator=RandomForestClassifier(),\n",
       "             param_grid={'max_depth': [20, None], 'min_samples_split': [5],\n",
       "                         'n_estimators': [100]},\n",
       "             scoring='accuracy', verbose=2)"
      ]
     },
     "execution_count": 89,
     "metadata": {},
     "output_type": "execute_result"
    }
   ],
   "source": [
    "from sklearn.ensemble import RandomForestClassifier\n",
    "from sklearn.model_selection import GridSearchCV, StratifiedKFold\n",
    "\n",
    "rf = RandomForestClassifier()\n",
    "cv = StratifiedKFold(5)\n",
    "params = {'n_estimators': [100],\n",
    "          'min_samples_split': [5],\n",
    "          'max_depth': [20, None]}\n",
    "grid = GridSearchCV(rf, param_grid=params, scoring=\"accuracy\", cv=cv, verbose=2)\n",
    "grid.fit(X_train_mca[vars], y_train)"
   ]
  },
  {
   "cell_type": "code",
   "execution_count": null,
   "metadata": {},
   "outputs": [
    {
     "name": "stdout",
     "output_type": "stream",
     "text": [
      "              precision    recall  f1-score   support\n",
      "\n",
      "           A       0.98      0.97      0.97      8402\n",
      "           B       0.91      0.85      0.88      7973\n",
      "           C       0.94      0.95      0.94     41301\n",
      "           D       0.91      0.93      0.92     38342\n",
      "           E       0.89      0.89      0.89     24184\n",
      "           F       0.86      0.81      0.83     10051\n",
      "           G       0.93      0.87      0.90      6946\n",
      "\n",
      "    accuracy                           0.91    137199\n",
      "   macro avg       0.91      0.90      0.90    137199\n",
      "weighted avg       0.91      0.91      0.91    137199\n",
      "\n"
     ]
    }
   ],
   "source": [
    "# Quali OHE\n",
    "from sklearn.metrics import classification_report\n",
    "\n",
    "print(classification_report(y_test, y_pred))"
   ]
  },
  {
   "cell_type": "code",
   "execution_count": null,
   "metadata": {},
   "outputs": [
    {
     "name": "stdout",
     "output_type": "stream",
     "text": [
      "              precision    recall  f1-score   support\n",
      "\n",
      "           A       0.96      0.94      0.95      8402\n",
      "           B       0.87      0.81      0.84      7973\n",
      "           C       0.92      0.94      0.93     41301\n",
      "           D       0.89      0.91      0.90     38342\n",
      "           E       0.87      0.85      0.86     24184\n",
      "           F       0.83      0.78      0.80     10051\n",
      "           G       0.90      0.84      0.87      6946\n",
      "\n",
      "    accuracy                           0.89    137199\n",
      "   macro avg       0.89      0.87      0.88    137199\n",
      "weighted avg       0.89      0.89      0.89    137199\n",
      "\n"
     ]
    }
   ],
   "source": [
    "# Sans quali OHE\n",
    "from sklearn.metrics import classification_report\n",
    "\n",
    "print(classification_report(y_test, y_pred))"
   ]
  },
  {
   "cell_type": "code",
   "execution_count": null,
   "metadata": {},
   "outputs": [
    {
     "name": "stdout",
     "output_type": "stream",
     "text": [
      "              precision    recall  f1-score   support\n",
      "\n",
      "           A       0.97      0.97      0.97      8402\n",
      "           B       0.91      0.87      0.89      7973\n",
      "           C       0.94      0.95      0.95     41301\n",
      "           D       0.90      0.92      0.91     38342\n",
      "           E       0.88      0.87      0.88     24184\n",
      "           F       0.84      0.80      0.82     10051\n",
      "           G       0.92      0.85      0.88      6946\n",
      "\n",
      "    accuracy                           0.91    137199\n",
      "   macro avg       0.91      0.89      0.90    137199\n",
      "weighted avg       0.91      0.91      0.91    137199\n",
      "\n"
     ]
    }
   ],
   "source": [
    "# Emission_GES_ECS\n",
    "from sklearn.metrics import classification_report\n",
    "\n",
    "print(classification_report(y_test, y_pred))"
   ]
  },
  {
   "cell_type": "code",
   "execution_count": null,
   "metadata": {},
   "outputs": [
    {
     "name": "stdout",
     "output_type": "stream",
     "text": [
      "              precision    recall  f1-score   support\n",
      "\n",
      "           A       0.97      0.98      0.97      8402\n",
      "           B       0.92      0.87      0.90      7973\n",
      "           C       0.95      0.96      0.95     41301\n",
      "           D       0.91      0.92      0.92     38342\n",
      "           E       0.88      0.87      0.88     24184\n",
      "           F       0.85      0.82      0.83     10051\n",
      "           G       0.95      0.86      0.90      6946\n",
      "\n",
      "    accuracy                           0.92    137199\n",
      "   macro avg       0.92      0.90      0.91    137199\n",
      "weighted avg       0.92      0.92      0.92    137199\n",
      "\n"
     ]
    }
   ],
   "source": [
    "# Etiquettes GES A + G\n",
    "from sklearn.metrics import classification_report\n",
    "\n",
    "print(classification_report(y_test, y_pred))"
   ]
  },
  {
   "cell_type": "code",
   "execution_count": 66,
   "metadata": {},
   "outputs": [
    {
     "name": "stdout",
     "output_type": "stream",
     "text": [
      "              precision    recall  f1-score   support\n",
      "\n",
      "           A       0.96      0.97      0.96      8402\n",
      "           B       0.92      0.90      0.91      7973\n",
      "           C       0.94      0.98      0.96     41301\n",
      "           D       0.91      0.90      0.91     38342\n",
      "           E       0.89      0.88      0.88     24184\n",
      "           F       0.86      0.84      0.85     10051\n",
      "           G       0.91      0.82      0.87      6946\n",
      "\n",
      "    accuracy                           0.92    137199\n",
      "   macro avg       0.91      0.90      0.90    137199\n",
      "weighted avg       0.92      0.92      0.92    137199\n",
      "\n"
     ]
    }
   ],
   "source": [
    "# Etiquettes GES A - G\n",
    "from sklearn.metrics import classification_report\n",
    "\n",
    "print(classification_report(y_test, y_pred))"
   ]
  },
  {
   "cell_type": "code",
   "execution_count": null,
   "metadata": {},
   "outputs": [
    {
     "name": "stdout",
     "output_type": "stream",
     "text": [
      "              precision    recall  f1-score   support\n",
      "\n",
      "           A       0.96      0.97      0.96      8402\n",
      "           B       0.92      0.90      0.91      7973\n",
      "           C       0.94      0.98      0.96     41301\n",
      "           D       0.91      0.90      0.91     38342\n",
      "           E       0.89      0.88      0.88     24184\n",
      "           F       0.86      0.83      0.84     10051\n",
      "           G       0.91      0.82      0.86      6946\n",
      "\n",
      "    accuracy                           0.92    137199\n",
      "   macro avg       0.91      0.90      0.90    137199\n",
      "weighted avg       0.91      0.92      0.91    137199\n",
      "\n"
     ]
    }
   ],
   "source": [
    "# 50 arbres\n",
    "from sklearn.metrics import classification_report\n",
    "\n",
    "print(classification_report(y_test, y_pred))"
   ]
  },
  {
   "cell_type": "code",
   "execution_count": 45,
   "metadata": {},
   "outputs": [
    {
     "name": "stdout",
     "output_type": "stream",
     "text": [
      "              precision    recall  f1-score   support\n",
      "\n",
      "           A       0.96      0.96      0.96      8291\n",
      "           B       0.92      0.89      0.90      7865\n",
      "           C       0.94      0.98      0.96     40854\n",
      "           D       0.90      0.90      0.90     38068\n",
      "           E       0.89      0.87      0.88     24065\n",
      "           F       0.85      0.83      0.84     10011\n",
      "           G       0.89      0.81      0.85      6911\n",
      "\n",
      "    accuracy                           0.91    136065\n",
      "   macro avg       0.91      0.89      0.90    136065\n",
      "weighted avg       0.91      0.91      0.91    136065\n",
      "\n"
     ]
    }
   ],
   "source": [
    "# 20 arbres\n",
    "from sklearn.metrics import classification_report\n",
    "\n",
    "print(classification_report(y_test, y_pred))"
   ]
  },
  {
   "cell_type": "code",
   "execution_count": 47,
   "metadata": {},
   "outputs": [
    {
     "name": "stdout",
     "output_type": "stream",
     "text": [
      "              precision    recall  f1-score   support\n",
      "\n",
      "           A       0.95      0.96      0.96      8291\n",
      "           B       0.91      0.88      0.90      7865\n",
      "           C       0.94      0.97      0.95     40854\n",
      "           D       0.90      0.89      0.90     38068\n",
      "           E       0.88      0.86      0.87     24065\n",
      "           F       0.85      0.82      0.83     10011\n",
      "           G       0.88      0.81      0.84      6911\n",
      "\n",
      "    accuracy                           0.91    136065\n",
      "   macro avg       0.90      0.89      0.89    136065\n",
      "weighted avg       0.91      0.91      0.91    136065\n",
      "\n"
     ]
    }
   ],
   "source": [
    "# 10 arbres\n",
    "from sklearn.metrics import classification_report\n",
    "\n",
    "print(classification_report(y_test, y_pred))"
   ]
  },
  {
   "cell_type": "code",
   "execution_count": 43,
   "metadata": {},
   "outputs": [
    {
     "name": "stdout",
     "output_type": "stream",
     "text": [
      "              precision    recall  f1-score   support\n",
      "\n",
      "           A       0.95      0.96      0.95      8291\n",
      "           B       0.91      0.87      0.89      7865\n",
      "           C       0.93      0.97      0.95     40854\n",
      "           D       0.89      0.88      0.89     38068\n",
      "           E       0.87      0.85      0.86     24065\n",
      "           F       0.83      0.81      0.82     10011\n",
      "           G       0.87      0.79      0.83      6911\n",
      "\n",
      "    accuracy                           0.90    136065\n",
      "   macro avg       0.89      0.88      0.88    136065\n",
      "weighted avg       0.90      0.90      0.90    136065\n",
      "\n"
     ]
    }
   ],
   "source": [
    "# 5 arbres\n",
    "from sklearn.metrics import classification_report\n",
    "\n",
    "print(classification_report(y_test, y_pred))"
   ]
  },
  {
   "cell_type": "code",
   "execution_count": 48,
   "metadata": {},
   "outputs": [
    {
     "data": {
      "image/png": "[encoded data removed]",
      "text/plain": [
       "<Figure size 800x800 with 1 Axes>"
      ]
     },
     "metadata": {},
     "output_type": "display_data"
    }
   ],
   "source": [
    "import pandas as pd\n",
    "import matplotlib.pyplot as plt\n",
    "plt.figure(figsize=(8,8))\n",
    "\n",
    "feature_names = rf.feature_names_in_\n",
    "\n",
    "mdi_importances = pd.Series(\n",
    "    rf.feature_importances_, index=feature_names\n",
    ").sort_values(ascending=True)\n",
    "\n",
    "ax = mdi_importances.plot.barh()\n",
    "ax.set_title(\"Random Forest Feature Importances (MDI)\")\n",
    "ax.figure.tight_layout()"
   ]
  },
  {
   "cell_type": "code",
   "execution_count": 49,
   "metadata": {},
   "outputs": [],
   "source": [
    "import pickle as pk\n",
    "\n",
    "pk.dump(rf, open(os.path.join(\"models\",\"rf_tuned_classification.pkl\"), \"wb\"))"
   ]
  },
  {
   "cell_type": "code",
   "execution_count": 54,
   "metadata": {},
   "outputs": [
    {
     "name": "stdout",
     "output_type": "stream",
     "text": [
      "['E']\n"
     ]
    }
   ],
   "source": [
    "# TEST PIPELINE\n",
    "import pandas as pd\n",
    "from pipeline import Pipeline_classification\n",
    "\n",
    "new = pd.DataFrame([{\"Année_construction\":2024,\n",
    "                     \"Surface_habitable_logement\":200,\n",
    "                     \"Coût_total_5_usages\":10000,\n",
    "                     \"Etiquette_GES\":\"B\",\n",
    "                     \"Code_postal_(brut)\":35660,\n",
    "                     \"Logement\":\"neuf\",\n",
    "                     \"Type_bâtiment\":\"maison\",\n",
    "                     \"Hauteur_sous-plafond\":3,\n",
    "                     \"Nombre_niveau_logement\":2\n",
    "                     }])\n",
    "\n",
    "Pipeline_classification(new)"
   ]
  },
  {
   "cell_type": "markdown",
   "metadata": {},
   "source": [
    "### Création du csv pour la carte des données"
   ]
  },
  {
   "cell_type": "code",
   "execution_count": null,
   "metadata": {},
   "outputs": [
    {
     "name": "stderr",
     "output_type": "stream",
     "text": [
      "C:\\Users\\DELL\\AppData\\Local\\Temp\\ipykernel_10640\\1169846585.py:2: DtypeWarning: Columns (80,100,111,112,132,133) have mixed types. Specify dtype option on import or set low_memory=False.\n",
      "  logements_neufs = pd.read_csv(os.path.join('data','raw','neufs.csv'))\n",
      "C:\\Users\\DELL\\AppData\\Local\\Temp\\ipykernel_10640\\1169846585.py:3: DtypeWarning: Columns (159,191,202,208,214,215,218,219,220,221,228,232) have mixed types. Specify dtype option on import or set low_memory=False.\n",
      "  logements_existants = pd.read_csv(os.path.join('data','raw','existents.csv'))\n"
     ]
    }
   ],
   "source": [
    "# Importation des données\n",
    "logements_neufs = pd.read_csv(os.path.join('data','raw','neufs.csv'))\n",
    "logements_existants = pd.read_csv(os.path.join('data','raw','existents.csv'))"
   ]
  },
  {
   "cell_type": "code",
   "execution_count": 63,
   "metadata": {},
   "outputs": [
    {
     "name": "stderr",
     "output_type": "stream",
     "text": [
      "C:\\Users\\DELL\\AppData\\Local\\Temp\\ipykernel_10640\\3804064002.py:4: PerformanceWarning: DataFrame is highly fragmented.  This is usually the result of calling `frame.insert` many times, which has poor performance.  Consider joining all columns at once using pd.concat(axis=1) instead. To get a de-fragmented frame, use `newframe = frame.copy()`\n",
      "  df[[\"lat\",\"lon\"]] = df[\"_geopoint\"].str.split(\",\", expand=True)\n",
      "C:\\Users\\DELL\\AppData\\Local\\Temp\\ipykernel_10640\\3804064002.py:4: PerformanceWarning: DataFrame is highly fragmented.  This is usually the result of calling `frame.insert` many times, which has poor performance.  Consider joining all columns at once using pd.concat(axis=1) instead. To get a de-fragmented frame, use `newframe = frame.copy()`\n",
      "  df[[\"lat\",\"lon\"]] = df[\"_geopoint\"].str.split(\",\", expand=True)\n"
     ]
    }
   ],
   "source": [
    "df = pd.concat([logements_existants, logements_neufs], ignore_index=True, axis=0)\n",
    "\n",
    "\n",
    "df[[\"lat\",\"lon\"]] = df[\"_geopoint\"].str.split(\",\", expand=True)\n",
    "df[\"lon\"] = pd.to_numeric(df[\"lon\"])\n",
    "df[\"lat\"] = pd.to_numeric(df[\"lat\"])\n",
    "df = df[[\"lon\",\"lat\",\"Type_bâtiment\",\"Surface_habitable_logement\",\"Etiquette_DPE\"]]"
   ]
  },
  {
   "cell_type": "code",
   "execution_count": 64,
   "metadata": {},
   "outputs": [],
   "source": [
    "# Preprocessing des données map\n",
    "\n",
    "def map_preprocessing(data):\n",
    "    import pandas as pd\n",
    "    \n",
    "    # QUALITATIVE PREPROCESSING\n",
    "\n",
    "    quali_data = data.select_dtypes(include=['object'])\n",
    "    for column in quali_data.columns:\n",
    "        # Calcul de la proportion (probabilité) des modalités dans chaque variable qualitative\n",
    "        proportions = data[column].value_counts(normalize=True)\n",
    "        \n",
    "        # On applique la fonction à la colonne\n",
    "        filling = proportions.sample(weights=proportions, replace=True).index[0]\n",
    "        data[column] = data[column].fillna(filling)\n",
    "        filling = proportions.sample(weights=proportions, replace=True).index[0]\n",
    "        quali_data[column] = quali_data[column].fillna(filling)\n",
    "    \n",
    "\n",
    "    # QUANTITATIVE PREPROCESSING\n",
    "    ## Missing values\n",
    "    from sklearn.impute import SimpleImputer\n",
    "    imputer = SimpleImputer(strategy=\"median\")\n",
    "\n",
    "    quanti_data = data.select_dtypes(exclude=['object'])\n",
    "    quanti_data[quanti_data.columns] = imputer.fit_transform(quanti_data)\n",
    "\n",
    "    new_data_processed = pd.concat([quali_data, quanti_data], axis=1)\n",
    "    return new_data_processed"
   ]
  },
  {
   "cell_type": "code",
   "execution_count": 65,
   "metadata": {},
   "outputs": [],
   "source": [
    "data_map = map_preprocessing(df)"
   ]
  },
  {
   "cell_type": "code",
   "execution_count": 66,
   "metadata": {},
   "outputs": [],
   "source": [
    "data_map.to_csv(os.path.join(\"data\",\"processed\",\"data_map.csv\"),index=False, sep=\";\", encoding=\"utf-8-sig\")"
   ]
  },
  {
   "cell_type": "code",
   "execution_count": 76,
   "metadata": {},
   "outputs": [],
   "source": [
    "# TEST MAP\n",
    "import pandas as pd\n",
    "import os\n",
    "from mapping import generate_map\n",
    "\n",
    "df = pd.read_csv(os.path.join(\"data\",\"processed\",\"data_map.csv\"), sep=\";\", encoding=\"utf-8-sig\")\n",
    "\n",
    "generate_map(df.sample(10000))"
   ]
  },
  {
   "cell_type": "markdown",
   "metadata": {},
   "source": [
    "### Régression"
   ]
  },
  {
   "cell_type": "code",
   "execution_count": 7,
   "metadata": {},
   "outputs": [
    {
     "name": "stdout",
     "output_type": "stream",
     "text": [
      "The autoreload extension is already loaded. To reload it, use:\n",
      "  %reload_ext autoreload\n"
     ]
    }
   ],
   "source": [
    "%load_ext autoreload\n",
    "%autoreload 2"
   ]
  },
  {
   "cell_type": "code",
   "execution_count": 14,
   "metadata": {},
   "outputs": [
    {
     "name": "stderr",
     "output_type": "stream",
     "text": [
      "C:\\Users\\DELL\\AppData\\Local\\Temp\\ipykernel_7804\\3189487528.py:4: DtypeWarning: Columns (80,100,111,112,132,133) have mixed types. Specify dtype option on import or set low_memory=False.\n",
      "  logements_neufs = pd.read_csv(os.path.join('data','raw','neufs.csv'))\n",
      "C:\\Users\\DELL\\AppData\\Local\\Temp\\ipykernel_7804\\3189487528.py:5: DtypeWarning: Columns (159,191,202,208,214,215,218,219,220,221,228,232) have mixed types. Specify dtype option on import or set low_memory=False.\n",
      "  logements_existants = pd.read_csv(os.path.join('data','raw','existents.csv'))\n"
     ]
    }
   ],
   "source": [
    "import pandas as pd\n",
    "import os\n",
    "# Importation des données\n",
    "logements_neufs = pd.read_csv(os.path.join('data','raw','neufs.csv'))\n",
    "logements_existants = pd.read_csv(os.path.join('data','raw','existents.csv'))"
   ]
  },
  {
   "cell_type": "code",
   "execution_count": 15,
   "metadata": {},
   "outputs": [],
   "source": [
    "# Pour les nouvelles données\n",
    "def get_year_of_construct(value):\n",
    "    year = int(value[:4])\n",
    "    return year"
   ]
  },
  {
   "cell_type": "code",
   "execution_count": 16,
   "metadata": {},
   "outputs": [],
   "source": [
    "# Pour les nouvelles données\n",
    "def create_vars(new_data):\n",
    "    if (not pd.Series([\"Logement\"]).isin(new_data.columns)[0]):\n",
    "        new_data[\"Logement\"] = 'neuf'\n",
    "\n",
    "    if (not pd.Series([\"Année_construction\"]).isin(new_data.columns)[0]):\n",
    "        from datetime import date\n",
    "        new_data[\"Année_construction\"] = new_data[\"Date_visite_diagnostiqueur\"].apply(get_year_of_construct)\n",
    "\n",
    "    return new_data"
   ]
  },
  {
   "cell_type": "code",
   "execution_count": 17,
   "metadata": {},
   "outputs": [],
   "source": [
    "# Pour les anciens\n",
    "logements_existants[\"Logement\"] = \"ancien\"\n",
    "logements_existants[\"Année_construction\"] = logements_existants[\"Date_visite_diagnostiqueur\"].apply(get_year_of_construct)\n",
    "\n",
    "# Pour les neufs (et les futures données qui seront produites)\n",
    "logements_neufs = create_vars(logements_neufs)"
   ]
  },
  {
   "cell_type": "code",
   "execution_count": 18,
   "metadata": {},
   "outputs": [
    {
     "data": {
      "text/plain": [
       "(59213, 10)"
      ]
     },
     "execution_count": 18,
     "metadata": {},
     "output_type": "execute_result"
    }
   ],
   "source": [
    "def select_columns(new_data, relevant_columns):\n",
    "\n",
    "    new_data = new_data[relevant_columns]\n",
    "\n",
    "    return new_data\n",
    "\n",
    "cols_kept = ['Année_construction',\n",
    "            'Code_postal_(brut)',\n",
    "            'Coût_total_5_usages',\n",
    "            'Etiquette_DPE',\n",
    "            # 'Etiquette_GES',\n",
    "            'Hauteur_sous-plafond',\n",
    "            'Logement',\n",
    "            'Nombre_niveau_logement',\n",
    "            'Surface_habitable_logement',\n",
    "            'Type_bâtiment',\n",
    "            'N°_département_(BAN)']\n",
    "\n",
    "logements_neufs = select_columns(logements_neufs, cols_kept)\n",
    "logements_neufs.shape"
   ]
  },
  {
   "cell_type": "code",
   "execution_count": 19,
   "metadata": {},
   "outputs": [
    {
     "data": {
      "text/plain": [
       "(398114, 10)"
      ]
     },
     "execution_count": 19,
     "metadata": {},
     "output_type": "execute_result"
    }
   ],
   "source": [
    "logements_existants = select_columns(logements_existants, cols_kept)\n",
    "logements_existants.shape"
   ]
  },
  {
   "cell_type": "code",
   "execution_count": 20,
   "metadata": {},
   "outputs": [],
   "source": [
    "# logements_existants = cleaning_and_converting(logements_existants)\n",
    "# logements_neufs = cleaning_and_converting(logements_neufs)"
   ]
  },
  {
   "cell_type": "code",
   "execution_count": 21,
   "metadata": {},
   "outputs": [],
   "source": [
    "df = pd.concat([logements_existants, logements_neufs], ignore_index=True, axis=0)"
   ]
  },
  {
   "cell_type": "code",
   "execution_count": 22,
   "metadata": {},
   "outputs": [],
   "source": [
    "# A décommenter si on veut produire le csv du dataset déjà pré-traité\n",
    "df = df[df[\"N°_département_(BAN)\"].isin([22.0,29.0,35.0,56.0])] # Sélection des codes postaux d'intérêt\n",
    "df = df.drop([\"N°_département_(BAN)\"],axis=1)\n",
    "df.to_csv(os.path.join('data','processed','data_regression.csv'), index=False, sep=\";\", encoding=\"utf-8-sig\")"
   ]
  },
  {
   "cell_type": "code",
   "execution_count": null,
   "metadata": {},
   "outputs": [],
   "source": []
  },
  {
   "cell_type": "code",
   "execution_count": 23,
   "metadata": {},
   "outputs": [],
   "source": [
    "def data_split(data, target=\"Etiquette_DPE\", test_size=0.3, stratify=True, seed=0):\n",
    "    from sklearn.model_selection import train_test_split\n",
    "\n",
    "    if stratify:\n",
    "        return train_test_split(data, test_size=test_size, random_state=seed, stratify=data[target])\n",
    "    else:\n",
    "        return train_test_split(data, test_size=test_size, random_state=seed)"
   ]
  },
  {
   "cell_type": "code",
   "execution_count": 24,
   "metadata": {},
   "outputs": [],
   "source": [
    "X_train, X_test = data_split(df, target=\"Coût_total_5_usages\", test_size=0.3, stratify=False, seed=0)"
   ]
  },
  {
   "cell_type": "markdown",
   "metadata": {},
   "source": [
    "##### Qualitative and quantitative data processing (after train/test split)"
   ]
  },
  {
   "cell_type": "code",
   "execution_count": 25,
   "metadata": {},
   "outputs": [],
   "source": [
    "# Pour toutes les données (cf. paramètres de la fonction)\n",
    "\n",
    "# exporter params d'un retrain pour les recharger tant que retrain=False\n",
    "# exporter fit du train (original_data) tant que retrain=False (optimisation des calculs)\n",
    "def quali_quanti_preprocessing(original_data, new_data):\n",
    "    import pandas as pd\n",
    "    \n",
    "    # QUALITATIVE PREPROCESSING\n",
    "\n",
    "    # On remplace des adresses inconnues par la chaîne \"inconnu\"\n",
    "    # new_data['Identifiant__BAN'] = new_data['Identifiant__BAN'].fillna('inconnu')\n",
    "    # new_data['Nom__rue_(BAN)'] = new_data['Nom__rue_(BAN)'].fillna('inconnu')\n",
    "    # new_data['Adresse_(BAN)'] = new_data['Adresse_(BAN)'].fillna('inconnu')\n",
    "    # new_data['Adresse_brute'] = new_data['Adresse_brute'].fillna('inconnu')\n",
    "    \n",
    "    # Le code est encodé parfois en tant que chaîne ou entier. On uniformise en chaîne de caractères\n",
    "    # original_data['Code_INSEE_(BAN)'] = original_data['Code_INSEE_(BAN)'].apply(lambda x: str(x) if pd.notna(x) else x)\n",
    "    # new_data['Code_INSEE_(BAN)'] = new_data['Code_INSEE_(BAN)'].apply(lambda x: str(x) if pd.notna(x) else x)\n",
    "\n",
    "    quali_data_new = new_data.select_dtypes(include=['object'])\n",
    "    for column in quali_data_new.columns:\n",
    "        # Calcul de la proportion (probabilité) des modalités dans chaque variable qualitative\n",
    "        proportions = original_data[column].value_counts(normalize=True)\n",
    "        \n",
    "        # On applique la fonction à la colonne\n",
    "        filling = proportions.sample(weights=proportions, replace=True).index[0]\n",
    "        original_data[column] = original_data[column].fillna(filling)\n",
    "        filling = proportions.sample(weights=proportions, replace=True).index[0]\n",
    "        quali_data_new[column] = quali_data_new[column].fillna(filling)\n",
    "        \n",
    "\n",
    "        # if retrain:\n",
    "        #     quali_data_orig = original_data.select_dtypes(include=['object'])\n",
    "        #     quali_data_orig[column] = quali_data_orig.apply(impute_with_proportions, axis=1)\n",
    "    \n",
    "\n",
    "    # QUANTITATIVE PREPROCESSING\n",
    "    ## Missing values\n",
    "    from sklearn.impute import SimpleImputer\n",
    "    quanti_data_new = new_data.select_dtypes(exclude=['object'])\n",
    "    imputer = SimpleImputer(strategy=\"median\")\n",
    "    original_data[quanti_data_new.columns] = imputer.fit_transform(original_data[quanti_data_new.columns])\n",
    "    quanti_data_new[quanti_data_new.columns] = imputer.transform(quanti_data_new)\n",
    "\n",
    "    import pickle as pk\n",
    "    pk.dump(imputer, open(os.path.join(\"objects\",\"median_imputer_regression.pkl\"), \"wb\"))\n",
    "    \n",
    "    new_data_processed = pd.concat([quali_data_new, quanti_data_new], axis=1)\n",
    "    return original_data, new_data_processed"
   ]
  },
  {
   "cell_type": "code",
   "execution_count": 26,
   "metadata": {},
   "outputs": [],
   "source": [
    "orig, new = quali_quanti_preprocessing(X_train, X_test)"
   ]
  },
  {
   "cell_type": "markdown",
   "metadata": {},
   "source": [
    "##### Split regressors/target"
   ]
  },
  {
   "cell_type": "code",
   "execution_count": 27,
   "metadata": {},
   "outputs": [],
   "source": [
    "def define_target(train, test, target=\"Etiquette_DPE\"):\n",
    "    X_train = train[train.columns.difference([target])]\n",
    "    y_train = train[target]\n",
    "    X_test = test[test.columns.difference([target])]\n",
    "    y_test = test[target]\n",
    "    return X_train, X_test, y_train, y_test"
   ]
  },
  {
   "cell_type": "code",
   "execution_count": 28,
   "metadata": {},
   "outputs": [],
   "source": [
    "X_train, X_test, y_train, y_test = define_target(orig, new, target=\"Coût_total_5_usages\")"
   ]
  },
  {
   "cell_type": "markdown",
   "metadata": {},
   "source": [
    "#### Split des données quanti et quali"
   ]
  },
  {
   "cell_type": "code",
   "execution_count": 29,
   "metadata": {},
   "outputs": [],
   "source": [
    "def split_type(X_train, X_test, to_drop):\n",
    "    quali_train = X_train.select_dtypes(include=\"object\")\n",
    "    quali_train = quali_train.drop(to_drop, axis=1) # Inutile de faire une ACM sur une variable avec autant de modalités possibles\n",
    "    quali_test = X_test.select_dtypes(include=\"object\")\n",
    "    quali_test = quali_test.drop(to_drop, axis=1) # Inutile de faire une ACM sur une variable avec autant de modalités possibles\n",
    "\n",
    "    quantit_train = X_train.select_dtypes(exclude=\"object\")\n",
    "    quantit_test = X_test.select_dtypes(exclude=\"object\")\n",
    "\n",
    "    from sklearn.preprocessing import OneHotEncoder\n",
    "\n",
    "    encoder = OneHotEncoder()\n",
    "\n",
    "    encoder.fit(pd.concat([quali_train, quali_test], axis=0))\n",
    "    #print(encoder.get_feature_names_out(quali_train.columns))\n",
    "    quali_train_encoded = encoder.transform(quali_train).toarray()\n",
    "    qualit_train = pd.DataFrame(quali_train_encoded, index=quali_train.index, columns=encoder.get_feature_names_out(quali_train.columns))\n",
    "    quali_test_encoded = encoder.transform(quali_test).toarray()\n",
    "    qualit_test = pd.DataFrame(quali_test_encoded, index=quali_test.index, columns=encoder.get_feature_names_out(quali_test.columns))\n",
    "    # print(quali_train.apply(pd.unique).apply(len))\n",
    "\n",
    "    import pickle as pk\n",
    "    pk.dump(encoder, open(os.path.join(\"objects\",\"OHE_regression.pkl\"), \"wb\"))\n",
    "\n",
    "    return qualit_train, qualit_test, quantit_train, quantit_test"
   ]
  },
  {
   "cell_type": "code",
   "execution_count": 30,
   "metadata": {},
   "outputs": [],
   "source": [
    "quali_train, quali_test, quanti_train, quanti_test = split_type(X_train, X_test, to_drop=[])"
   ]
  },
  {
   "cell_type": "code",
   "execution_count": 31,
   "metadata": {},
   "outputs": [],
   "source": [
    "def merge_type_back(quali_train_mca, quali_test_mca, quanti_train, quanti_test, train_index, test_index):\n",
    "    # Convert colnames to str\n",
    "    quali_train_mca.columns = quali_train_mca.columns.astype(str)\n",
    "    quali_test_mca.columns = quali_test_mca.columns.astype(str)\n",
    "\n",
    "    quali_train_mca.set_index(train_index, inplace=True)\n",
    "    quali_test_mca.set_index(test_index, inplace=True)\n",
    "\n",
    "    # Concaténer, quali_train et quanti_train de même avec test\n",
    "    X_train_mca = pd.concat([quanti_train, quali_train_mca], axis=1)\n",
    "    X_test_mca = pd.concat([quanti_test, quali_test_mca], axis=1)\n",
    "\n",
    "    return X_train_mca, X_test_mca"
   ]
  },
  {
   "cell_type": "code",
   "execution_count": 32,
   "metadata": {},
   "outputs": [],
   "source": [
    "X_train_mca, X_test_mca = merge_type_back(quali_train, quali_test, quanti_train, quanti_test, X_train.index, X_test.index)"
   ]
  },
  {
   "cell_type": "code",
   "execution_count": 37,
   "metadata": {},
   "outputs": [],
   "source": [
    "vars = ['Année_construction',\n",
    "        'Code_postal_(brut)',\n",
    "        'Hauteur_sous-plafond',\n",
    "        'Nombre_niveau_logement',\n",
    "        'Surface_habitable_logement',\n",
    "        'Etiquette_DPE_A',\n",
    "        'Etiquette_DPE_B',\n",
    "        # 'Etiquette_DPE_C',\n",
    "        'Etiquette_DPE_D',\n",
    "        'Etiquette_DPE_E',\n",
    "        'Etiquette_DPE_F',\n",
    "        'Etiquette_DPE_G',\n",
    "        # 'Etiquette_GES_A',\n",
    "        # 'Etiquette_GES_B',\n",
    "        # # 'Etiquette_GES_C',\n",
    "        # 'Etiquette_GES_D',\n",
    "        # 'Etiquette_GES_E',\n",
    "        # 'Etiquette_GES_F',\n",
    "        # 'Etiquette_GES_G',\n",
    "        'Logement_neuf',\n",
    "        # 'Type_bâtiment_appartement',\n",
    "        'Type_bâtiment_immeuble',\n",
    "        'Type_bâtiment_maison'\n",
    "        ]"
   ]
  },
  {
   "cell_type": "code",
   "execution_count": 38,
   "metadata": {},
   "outputs": [
    {
     "data": {
      "text/html": [
       "<div>\n",
       "<style scoped>\n",
       "    .dataframe tbody tr th:only-of-type {\n",
       "        vertical-align: middle;\n",
       "    }\n",
       "\n",
       "    .dataframe tbody tr th {\n",
       "        vertical-align: top;\n",
       "    }\n",
       "\n",
       "    .dataframe thead th {\n",
       "        text-align: right;\n",
       "    }\n",
       "</style>\n",
       "<table border=\"1\" class=\"dataframe\">\n",
       "  <thead>\n",
       "    <tr style=\"text-align: right;\">\n",
       "      <th></th>\n",
       "      <th>Année_construction</th>\n",
       "      <th>Code_postal_(brut)</th>\n",
       "      <th>Hauteur_sous-plafond</th>\n",
       "      <th>Nombre_niveau_logement</th>\n",
       "      <th>Surface_habitable_logement</th>\n",
       "      <th>Etiquette_DPE_A</th>\n",
       "      <th>Etiquette_DPE_B</th>\n",
       "      <th>Etiquette_DPE_D</th>\n",
       "      <th>Etiquette_DPE_E</th>\n",
       "      <th>Etiquette_DPE_F</th>\n",
       "      <th>Etiquette_DPE_G</th>\n",
       "      <th>Logement_neuf</th>\n",
       "      <th>Type_bâtiment_immeuble</th>\n",
       "      <th>Type_bâtiment_maison</th>\n",
       "    </tr>\n",
       "  </thead>\n",
       "  <tbody>\n",
       "    <tr>\n",
       "      <th>Année_construction</th>\n",
       "      <td>1.000000</td>\n",
       "      <td>-0.024722</td>\n",
       "      <td>-0.003836</td>\n",
       "      <td>-0.010271</td>\n",
       "      <td>-0.015274</td>\n",
       "      <td>0.000129</td>\n",
       "      <td>0.011990</td>\n",
       "      <td>0.013671</td>\n",
       "      <td>-0.029082</td>\n",
       "      <td>-0.061118</td>\n",
       "      <td>-0.062205</td>\n",
       "      <td>-0.035617</td>\n",
       "      <td>0.049793</td>\n",
       "      <td>-0.050993</td>\n",
       "    </tr>\n",
       "    <tr>\n",
       "      <th>Code_postal_(brut)</th>\n",
       "      <td>-0.024722</td>\n",
       "      <td>1.000000</td>\n",
       "      <td>-0.000418</td>\n",
       "      <td>0.019212</td>\n",
       "      <td>0.005621</td>\n",
       "      <td>0.041404</td>\n",
       "      <td>0.008246</td>\n",
       "      <td>-0.025586</td>\n",
       "      <td>-0.020707</td>\n",
       "      <td>-0.027716</td>\n",
       "      <td>-0.031438</td>\n",
       "      <td>0.050553</td>\n",
       "      <td>0.007308</td>\n",
       "      <td>-0.016369</td>\n",
       "    </tr>\n",
       "    <tr>\n",
       "      <th>Hauteur_sous-plafond</th>\n",
       "      <td>-0.003836</td>\n",
       "      <td>-0.000418</td>\n",
       "      <td>1.000000</td>\n",
       "      <td>-0.000373</td>\n",
       "      <td>0.000264</td>\n",
       "      <td>0.005769</td>\n",
       "      <td>-0.001234</td>\n",
       "      <td>-0.001938</td>\n",
       "      <td>-0.001745</td>\n",
       "      <td>0.005425</td>\n",
       "      <td>-0.000410</td>\n",
       "      <td>0.004094</td>\n",
       "      <td>-0.000421</td>\n",
       "      <td>-0.000155</td>\n",
       "    </tr>\n",
       "    <tr>\n",
       "      <th>Nombre_niveau_logement</th>\n",
       "      <td>-0.010271</td>\n",
       "      <td>0.019212</td>\n",
       "      <td>-0.000373</td>\n",
       "      <td>1.000000</td>\n",
       "      <td>0.031263</td>\n",
       "      <td>-0.025374</td>\n",
       "      <td>0.001433</td>\n",
       "      <td>-0.004743</td>\n",
       "      <td>0.009941</td>\n",
       "      <td>0.007555</td>\n",
       "      <td>0.002338</td>\n",
       "      <td>-0.025407</td>\n",
       "      <td>-0.015244</td>\n",
       "      <td>0.049545</td>\n",
       "    </tr>\n",
       "    <tr>\n",
       "      <th>Surface_habitable_logement</th>\n",
       "      <td>-0.015274</td>\n",
       "      <td>0.005621</td>\n",
       "      <td>0.000264</td>\n",
       "      <td>0.031263</td>\n",
       "      <td>1.000000</td>\n",
       "      <td>0.104502</td>\n",
       "      <td>0.040168</td>\n",
       "      <td>-0.024427</td>\n",
       "      <td>-0.021305</td>\n",
       "      <td>0.006209</td>\n",
       "      <td>-0.026946</td>\n",
       "      <td>0.061370</td>\n",
       "      <td>0.142692</td>\n",
       "      <td>0.298326</td>\n",
       "    </tr>\n",
       "    <tr>\n",
       "      <th>Etiquette_DPE_A</th>\n",
       "      <td>0.000129</td>\n",
       "      <td>0.041404</td>\n",
       "      <td>0.005769</td>\n",
       "      <td>-0.025374</td>\n",
       "      <td>0.104502</td>\n",
       "      <td>1.000000</td>\n",
       "      <td>-0.063577</td>\n",
       "      <td>-0.159517</td>\n",
       "      <td>-0.118593</td>\n",
       "      <td>-0.071947</td>\n",
       "      <td>-0.059202</td>\n",
       "      <td>0.560687</td>\n",
       "      <td>-0.023595</td>\n",
       "      <td>0.221285</td>\n",
       "    </tr>\n",
       "    <tr>\n",
       "      <th>Etiquette_DPE_B</th>\n",
       "      <td>0.011990</td>\n",
       "      <td>0.008246</td>\n",
       "      <td>-0.001234</td>\n",
       "      <td>0.001433</td>\n",
       "      <td>0.040168</td>\n",
       "      <td>-0.063577</td>\n",
       "      <td>1.000000</td>\n",
       "      <td>-0.154714</td>\n",
       "      <td>-0.115023</td>\n",
       "      <td>-0.069781</td>\n",
       "      <td>-0.057420</td>\n",
       "      <td>0.276068</td>\n",
       "      <td>-0.004309</td>\n",
       "      <td>-0.003658</td>\n",
       "    </tr>\n",
       "    <tr>\n",
       "      <th>Etiquette_DPE_D</th>\n",
       "      <td>0.013671</td>\n",
       "      <td>-0.025586</td>\n",
       "      <td>-0.001938</td>\n",
       "      <td>-0.004743</td>\n",
       "      <td>-0.024427</td>\n",
       "      <td>-0.159517</td>\n",
       "      <td>-0.154714</td>\n",
       "      <td>1.000000</td>\n",
       "      <td>-0.288595</td>\n",
       "      <td>-0.175081</td>\n",
       "      <td>-0.144067</td>\n",
       "      <td>-0.239033</td>\n",
       "      <td>-0.007571</td>\n",
       "      <td>-0.045460</td>\n",
       "    </tr>\n",
       "    <tr>\n",
       "      <th>Etiquette_DPE_E</th>\n",
       "      <td>-0.029082</td>\n",
       "      <td>-0.020707</td>\n",
       "      <td>-0.001745</td>\n",
       "      <td>0.009941</td>\n",
       "      <td>-0.021305</td>\n",
       "      <td>-0.118593</td>\n",
       "      <td>-0.115023</td>\n",
       "      <td>-0.288595</td>\n",
       "      <td>1.000000</td>\n",
       "      <td>-0.130165</td>\n",
       "      <td>-0.107108</td>\n",
       "      <td>-0.178504</td>\n",
       "      <td>-0.010972</td>\n",
       "      <td>0.080939</td>\n",
       "    </tr>\n",
       "    <tr>\n",
       "      <th>Etiquette_DPE_F</th>\n",
       "      <td>-0.061118</td>\n",
       "      <td>-0.027716</td>\n",
       "      <td>0.005425</td>\n",
       "      <td>0.007555</td>\n",
       "      <td>0.006209</td>\n",
       "      <td>-0.071947</td>\n",
       "      <td>-0.069781</td>\n",
       "      <td>-0.175081</td>\n",
       "      <td>-0.130165</td>\n",
       "      <td>1.000000</td>\n",
       "      <td>-0.064979</td>\n",
       "      <td>-0.108339</td>\n",
       "      <td>-0.012072</td>\n",
       "      <td>0.113441</td>\n",
       "    </tr>\n",
       "    <tr>\n",
       "      <th>Etiquette_DPE_G</th>\n",
       "      <td>-0.062205</td>\n",
       "      <td>-0.031438</td>\n",
       "      <td>-0.000410</td>\n",
       "      <td>0.002338</td>\n",
       "      <td>-0.026946</td>\n",
       "      <td>-0.059202</td>\n",
       "      <td>-0.057420</td>\n",
       "      <td>-0.144067</td>\n",
       "      <td>-0.107108</td>\n",
       "      <td>-0.064979</td>\n",
       "      <td>1.000000</td>\n",
       "      <td>-0.088655</td>\n",
       "      <td>-0.013311</td>\n",
       "      <td>0.118891</td>\n",
       "    </tr>\n",
       "    <tr>\n",
       "      <th>Logement_neuf</th>\n",
       "      <td>-0.035617</td>\n",
       "      <td>0.050553</td>\n",
       "      <td>0.004094</td>\n",
       "      <td>-0.025407</td>\n",
       "      <td>0.061370</td>\n",
       "      <td>0.560687</td>\n",
       "      <td>0.276068</td>\n",
       "      <td>-0.239033</td>\n",
       "      <td>-0.178504</td>\n",
       "      <td>-0.108339</td>\n",
       "      <td>-0.088655</td>\n",
       "      <td>1.000000</td>\n",
       "      <td>-0.004913</td>\n",
       "      <td>0.021871</td>\n",
       "    </tr>\n",
       "    <tr>\n",
       "      <th>Type_bâtiment_immeuble</th>\n",
       "      <td>0.049793</td>\n",
       "      <td>0.007308</td>\n",
       "      <td>-0.000421</td>\n",
       "      <td>-0.015244</td>\n",
       "      <td>0.142692</td>\n",
       "      <td>-0.023595</td>\n",
       "      <td>-0.004309</td>\n",
       "      <td>-0.007571</td>\n",
       "      <td>-0.010972</td>\n",
       "      <td>-0.012072</td>\n",
       "      <td>-0.013311</td>\n",
       "      <td>-0.004913</td>\n",
       "      <td>1.000000</td>\n",
       "      <td>-0.112900</td>\n",
       "    </tr>\n",
       "    <tr>\n",
       "      <th>Type_bâtiment_maison</th>\n",
       "      <td>-0.050993</td>\n",
       "      <td>-0.016369</td>\n",
       "      <td>-0.000155</td>\n",
       "      <td>0.049545</td>\n",
       "      <td>0.298326</td>\n",
       "      <td>0.221285</td>\n",
       "      <td>-0.003658</td>\n",
       "      <td>-0.045460</td>\n",
       "      <td>0.080939</td>\n",
       "      <td>0.113441</td>\n",
       "      <td>0.118891</td>\n",
       "      <td>0.021871</td>\n",
       "      <td>-0.112900</td>\n",
       "      <td>1.000000</td>\n",
       "    </tr>\n",
       "  </tbody>\n",
       "</table>\n",
       "</div>"
      ],
      "text/plain": [
       "                            Année_construction  Code_postal_(brut)  \\\n",
       "Année_construction                    1.000000           -0.024722   \n",
       "Code_postal_(brut)                   -0.024722            1.000000   \n",
       "Hauteur_sous-plafond                 -0.003836           -0.000418   \n",
       "Nombre_niveau_logement               -0.010271            0.019212   \n",
       "Surface_habitable_logement           -0.015274            0.005621   \n",
       "Etiquette_DPE_A                       0.000129            0.041404   \n",
       "Etiquette_DPE_B                       0.011990            0.008246   \n",
       "Etiquette_DPE_D                       0.013671           -0.025586   \n",
       "Etiquette_DPE_E                      -0.029082           -0.020707   \n",
       "Etiquette_DPE_F                      -0.061118           -0.027716   \n",
       "Etiquette_DPE_G                      -0.062205           -0.031438   \n",
       "Logement_neuf                        -0.035617            0.050553   \n",
       "Type_bâtiment_immeuble                0.049793            0.007308   \n",
       "Type_bâtiment_maison                 -0.050993           -0.016369   \n",
       "\n",
       "                            Hauteur_sous-plafond  Nombre_niveau_logement  \\\n",
       "Année_construction                     -0.003836               -0.010271   \n",
       "Code_postal_(brut)                     -0.000418                0.019212   \n",
       "Hauteur_sous-plafond                    1.000000               -0.000373   \n",
       "Nombre_niveau_logement                 -0.000373                1.000000   \n",
       "Surface_habitable_logement              0.000264                0.031263   \n",
       "Etiquette_DPE_A                         0.005769               -0.025374   \n",
       "Etiquette_DPE_B                        -0.001234                0.001433   \n",
       "Etiquette_DPE_D                        -0.001938               -0.004743   \n",
       "Etiquette_DPE_E                        -0.001745                0.009941   \n",
       "Etiquette_DPE_F                         0.005425                0.007555   \n",
       "Etiquette_DPE_G                        -0.000410                0.002338   \n",
       "Logement_neuf                           0.004094               -0.025407   \n",
       "Type_bâtiment_immeuble                 -0.000421               -0.015244   \n",
       "Type_bâtiment_maison                   -0.000155                0.049545   \n",
       "\n",
       "                            Surface_habitable_logement  Etiquette_DPE_A  \\\n",
       "Année_construction                           -0.015274         0.000129   \n",
       "Code_postal_(brut)                            0.005621         0.041404   \n",
       "Hauteur_sous-plafond                          0.000264         0.005769   \n",
       "Nombre_niveau_logement                        0.031263        -0.025374   \n",
       "Surface_habitable_logement                    1.000000         0.104502   \n",
       "Etiquette_DPE_A                               0.104502         1.000000   \n",
       "Etiquette_DPE_B                               0.040168        -0.063577   \n",
       "Etiquette_DPE_D                              -0.024427        -0.159517   \n",
       "Etiquette_DPE_E                              -0.021305        -0.118593   \n",
       "Etiquette_DPE_F                               0.006209        -0.071947   \n",
       "Etiquette_DPE_G                              -0.026946        -0.059202   \n",
       "Logement_neuf                                 0.061370         0.560687   \n",
       "Type_bâtiment_immeuble                        0.142692        -0.023595   \n",
       "Type_bâtiment_maison                          0.298326         0.221285   \n",
       "\n",
       "                            Etiquette_DPE_B  Etiquette_DPE_D  Etiquette_DPE_E  \\\n",
       "Année_construction                 0.011990         0.013671        -0.029082   \n",
       "Code_postal_(brut)                 0.008246        -0.025586        -0.020707   \n",
       "Hauteur_sous-plafond              -0.001234        -0.001938        -0.001745   \n",
       "Nombre_niveau_logement             0.001433        -0.004743         0.009941   \n",
       "Surface_habitable_logement         0.040168        -0.024427        -0.021305   \n",
       "Etiquette_DPE_A                   -0.063577        -0.159517        -0.118593   \n",
       "Etiquette_DPE_B                    1.000000        -0.154714        -0.115023   \n",
       "Etiquette_DPE_D                   -0.154714         1.000000        -0.288595   \n",
       "Etiquette_DPE_E                   -0.115023        -0.288595         1.000000   \n",
       "Etiquette_DPE_F                   -0.069781        -0.175081        -0.130165   \n",
       "Etiquette_DPE_G                   -0.057420        -0.144067        -0.107108   \n",
       "Logement_neuf                      0.276068        -0.239033        -0.178504   \n",
       "Type_bâtiment_immeuble            -0.004309        -0.007571        -0.010972   \n",
       "Type_bâtiment_maison              -0.003658        -0.045460         0.080939   \n",
       "\n",
       "                            Etiquette_DPE_F  Etiquette_DPE_G  Logement_neuf  \\\n",
       "Année_construction                -0.061118        -0.062205      -0.035617   \n",
       "Code_postal_(brut)                -0.027716        -0.031438       0.050553   \n",
       "Hauteur_sous-plafond               0.005425        -0.000410       0.004094   \n",
       "Nombre_niveau_logement             0.007555         0.002338      -0.025407   \n",
       "Surface_habitable_logement         0.006209        -0.026946       0.061370   \n",
       "Etiquette_DPE_A                   -0.071947        -0.059202       0.560687   \n",
       "Etiquette_DPE_B                   -0.069781        -0.057420       0.276068   \n",
       "Etiquette_DPE_D                   -0.175081        -0.144067      -0.239033   \n",
       "Etiquette_DPE_E                   -0.130165        -0.107108      -0.178504   \n",
       "Etiquette_DPE_F                    1.000000        -0.064979      -0.108339   \n",
       "Etiquette_DPE_G                   -0.064979         1.000000      -0.088655   \n",
       "Logement_neuf                     -0.108339        -0.088655       1.000000   \n",
       "Type_bâtiment_immeuble            -0.012072        -0.013311      -0.004913   \n",
       "Type_bâtiment_maison               0.113441         0.118891       0.021871   \n",
       "\n",
       "                            Type_bâtiment_immeuble  Type_bâtiment_maison  \n",
       "Année_construction                        0.049793             -0.050993  \n",
       "Code_postal_(brut)                        0.007308             -0.016369  \n",
       "Hauteur_sous-plafond                     -0.000421             -0.000155  \n",
       "Nombre_niveau_logement                   -0.015244              0.049545  \n",
       "Surface_habitable_logement                0.142692              0.298326  \n",
       "Etiquette_DPE_A                          -0.023595              0.221285  \n",
       "Etiquette_DPE_B                          -0.004309             -0.003658  \n",
       "Etiquette_DPE_D                          -0.007571             -0.045460  \n",
       "Etiquette_DPE_E                          -0.010972              0.080939  \n",
       "Etiquette_DPE_F                          -0.012072              0.113441  \n",
       "Etiquette_DPE_G                          -0.013311              0.118891  \n",
       "Logement_neuf                            -0.004913              0.021871  \n",
       "Type_bâtiment_immeuble                    1.000000             -0.112900  \n",
       "Type_bâtiment_maison                     -0.112900              1.000000  "
      ]
     },
     "execution_count": 38,
     "metadata": {},
     "output_type": "execute_result"
    }
   ],
   "source": [
    "X_train_mca[vars].corr()"
   ]
  },
  {
   "cell_type": "code",
   "execution_count": 113,
   "metadata": {},
   "outputs": [
    {
     "name": "stderr",
     "output_type": "stream",
     "text": [
      "[Parallel(n_jobs=1)]: Done  49 tasks      | elapsed:  1.3min\n",
      "[Parallel(n_jobs=1)]: Done  49 tasks      | elapsed:    4.6s\n"
     ]
    }
   ],
   "source": [
    "from sklearn.ensemble import RandomForestRegressor\n",
    "\n",
    "rf = RandomForestRegressor(n_estimators=50, min_samples_split=5, max_depth=None, random_state=0, verbose=1)\n",
    "rf.fit(X_train_mca[vars], y_train)\n",
    "y_pred = rf.predict(X_test_mca[vars])"
   ]
  },
  {
   "cell_type": "code",
   "execution_count": null,
   "metadata": {},
   "outputs": [
    {
     "name": "stdout",
     "output_type": "stream",
     "text": [
      "Fitting 5 folds for each of 6 candidates, totalling 30 fits\n"
     ]
    }
   ],
   "source": [
    "from sklearn.ensemble import RandomForestRegressor\n",
    "from sklearn.model_selection import GridSearchCV, KFold\n",
    "\n",
    "rf = RandomForestRegressor()\n",
    "cv = KFold(5)\n",
    "params = {'n_estimators': [10,50,100],\n",
    "          'min_samples_split': [5],\n",
    "          'max_depth': [10, None],\n",
    "          'criterion': [\"absolute_error\"]}\n",
    "grid = GridSearchCV(rf, param_grid=params, scoring=\"neg_mean_absolute_error\", cv=cv, verbose=2)\n",
    "grid.fit(X_train_mca[vars], y_train)"
   ]
  },
  {
   "cell_type": "code",
   "execution_count": 114,
   "metadata": {},
   "outputs": [
    {
     "name": "stdout",
     "output_type": "stream",
     "text": [
      "331.675860284776\n",
      "1857.4088016991964\n"
     ]
    }
   ],
   "source": [
    "# Sans DPE\n",
    "from sklearn.metrics import root_mean_squared_error, mean_absolute_error\n",
    "\n",
    "print(mean_absolute_error(y_test, y_pred))\n",
    "print(root_mean_squared_error(y_test, y_pred))"
   ]
  },
  {
   "cell_type": "code",
   "execution_count": 93,
   "metadata": {},
   "outputs": [
    {
     "name": "stdout",
     "output_type": "stream",
     "text": [
      "266.6571519393357\n",
      "1801.106436272338\n"
     ]
    }
   ],
   "source": [
    "# Avec DPE\n",
    "from sklearn.metrics import root_mean_squared_error, mean_absolute_error\n",
    "\n",
    "print(mean_absolute_error(y_test, y_pred))\n",
    "print(root_mean_squared_error(y_test, y_pred))"
   ]
  },
  {
   "cell_type": "code",
   "execution_count": null,
   "metadata": {},
   "outputs": [
    {
     "data": {
      "text/plain": [
       "count    456005.000000\n",
       "mean       1438.341863\n",
       "std        2703.442178\n",
       "min          16.400000\n",
       "25%         652.000000\n",
       "50%        1022.400000\n",
       "75%        1622.600000\n",
       "max      355329.300000\n",
       "Name: Coût_total_5_usages, dtype: float64"
      ]
     },
     "execution_count": 71,
     "metadata": {},
     "output_type": "execute_result"
    }
   ],
   "source": [
    "# Reprendre le modèle de RF et l'Entraîner avec les meilleurs paramètres"
   ]
  }
 ],
 "metadata": {
  "kernelspec": {
   "display_name": "env-enedis",
   "language": "python",
   "name": "python3"
  },
  "language_info": {
   "codemirror_mode": {
    "name": "ipython",
    "version": 3
   },
   "file_extension": ".py",
   "mimetype": "text/x-python",
   "name": "python",
   "nbconvert_exporter": "python",
   "pygments_lexer": "ipython3",
   "version": "3.11.4"
  }
 },
 "nbformat": 4,
 "nbformat_minor": 2
}
