{
 "cells": [
  {
   "cell_type": "markdown",
   "metadata": {},
   "source": [
    "### Scripts Python : processing"
   ]
  },
  {
   "cell_type": "code",
   "execution_count": 1,
   "metadata": {},
   "outputs": [],
   "source": [
    "%load_ext autoreload\n",
    "%autoreload 2"
   ]
  },
  {
   "cell_type": "code",
   "execution_count": 2,
   "metadata": {},
   "outputs": [],
   "source": [
    "import os\n",
    "import pandas as pd\n",
    "from preprocessing_function import *"
   ]
  },
  {
   "cell_type": "markdown",
   "metadata": {},
   "source": [
    "##### Columns selection (MAJ possible selon les var pertinentes au modèle)"
   ]
  },
  {
   "cell_type": "code",
   "execution_count": 3,
   "metadata": {},
   "outputs": [],
   "source": [
    "# Pour les nouvelles données\n",
    "cols_kept = ['Année_construction',\n",
    "            'Code_postal_(brut)',\n",
    "            'Coût_total_5_usages',\n",
    "            'Etiquette_DPE',\n",
    "            'Etiquette_GES',\n",
    "            'Hauteur_sous-plafond',\n",
    "            'Logement',\n",
    "            'Nombre_niveau_logement',\n",
    "            'Surface_habitable_logement',\n",
    "            'Type_bâtiment',\n",
    "            'N°_département_(BAN)']\n"
   ]
  },
  {
   "cell_type": "code",
   "execution_count": 150,
   "metadata": {},
   "outputs": [],
   "source": [
    "# # Pour les nouvelles données\n",
    "# def cleaning_and_converting(new_data):\n",
    "#     new_data.loc[:,\"Besoin_ECS\"] = new_data[\"Besoin_ECS\"].apply(clean_and_convert)\n",
    "#     new_data.loc[:,\"Besoin_refroidissement\"] = new_data[\"Besoin_refroidissement\"].apply(clean_and_convert)\n",
    "#     return new_data"
   ]
  },
  {
   "cell_type": "markdown",
   "metadata": {},
   "source": [
    "##### **Embranchement 1** : Importation des données initiales et prétraitement (optimisé pour les débits internet limités)"
   ]
  },
  {
   "cell_type": "code",
   "execution_count": 5,
   "metadata": {},
   "outputs": [
    {
     "name": "stderr",
     "output_type": "stream",
     "text": [
      "C:\\Users\\DELL\\AppData\\Local\\Temp\\ipykernel_3940\\4135554626.py:2: DtypeWarning: Columns (80,100,111,112,132,133) have mixed types. Specify dtype option on import or set low_memory=False.\n",
      "  logements_neufs = pd.read_csv(os.path.join('..','m2-enedis__local','data','raw','neufs.csv'))\n",
      "C:\\Users\\DELL\\AppData\\Local\\Temp\\ipykernel_3940\\4135554626.py:3: DtypeWarning: Columns (159,191,202,208,214,215,218,219,220,221,228,232) have mixed types. Specify dtype option on import or set low_memory=False.\n",
      "  logements_existants = pd.read_csv(os.path.join('..','m2-enedis__local','data','raw','existents.csv'))\n"
     ]
    }
   ],
   "source": [
    "# Importation des données\n",
    "logements_neufs = pd.read_csv(os.path.join('..','m2-enedis__local','data','raw','neufs.csv'))\n",
    "logements_existants = pd.read_csv(os.path.join('..','m2-enedis__local','data','raw','existents.csv'))"
   ]
  },
  {
   "cell_type": "code",
   "execution_count": 6,
   "metadata": {},
   "outputs": [
    {
     "data": {
      "text/plain": [
       "0         1965.0\n",
       "1         1983.0\n",
       "2         1990.0\n",
       "3         1965.0\n",
       "4         1983.0\n",
       "           ...  \n",
       "398109    1975.0\n",
       "398110    1989.0\n",
       "398111    1980.0\n",
       "398112    1996.0\n",
       "398113    1983.0\n",
       "Name: Année_construction, Length: 398114, dtype: float64"
      ]
     },
     "execution_count": 6,
     "metadata": {},
     "output_type": "execute_result"
    }
   ],
   "source": [
    "logements_existants[\"Année_construction\"]"
   ]
  },
  {
   "cell_type": "code",
   "execution_count": 152,
   "metadata": {},
   "outputs": [],
   "source": [
    "import numpy as np\n",
    "\n",
    "# Pour les anciens\n",
    "logements_existants[\"Logement\"] = \"ancien\"\n",
    "distribution = logements_existants['Année_construction'].value_counts(normalize=True)\n",
    "\n",
    "# Remplacer les valeurs manquantes en tirant aléatoirement basé sur la distribution\n",
    "logements_existants['Année_construction'] = logements_existants['Année_construction'].apply(\n",
    "    lambda x: np.random.choice(distribution.index, p=distribution.values) if pd.isnull(x) else x\n",
    ")\n",
    "# Pour les neufs (et les futures données qui seront produites)\n",
    "logements_neufs = create_vars(logements_neufs)"
   ]
  },
  {
   "cell_type": "code",
   "execution_count": 153,
   "metadata": {},
   "outputs": [
    {
     "data": {
      "text/plain": [
       "(59213, 11)"
      ]
     },
     "execution_count": 153,
     "metadata": {},
     "output_type": "execute_result"
    }
   ],
   "source": [
    "logements_neufs = select_columns(logements_neufs, cols_kept)\n",
    "logements_neufs.shape"
   ]
  },
  {
   "cell_type": "code",
   "execution_count": 154,
   "metadata": {},
   "outputs": [
    {
     "data": {
      "text/plain": [
       "(398114, 11)"
      ]
     },
     "execution_count": 154,
     "metadata": {},
     "output_type": "execute_result"
    }
   ],
   "source": [
    "logements_existants = select_columns(logements_existants, cols_kept)\n",
    "logements_existants.shape"
   ]
  },
  {
   "cell_type": "code",
   "execution_count": 155,
   "metadata": {},
   "outputs": [],
   "source": [
    "# logements_existants = cleaning_and_converting(logements_existants)\n",
    "# logements_neufs = cleaning_and_converting(logements_neufs)"
   ]
  },
  {
   "cell_type": "code",
   "execution_count": 156,
   "metadata": {},
   "outputs": [
    {
     "data": {
      "text/plain": [
       "Index(['Année_construction', 'Code_postal_(brut)', 'Coût_total_5_usages',\n",
       "       'Etiquette_DPE', 'Etiquette_GES', 'Hauteur_sous-plafond', 'Logement',\n",
       "       'Nombre_niveau_logement', 'Surface_habitable_logement', 'Type_bâtiment',\n",
       "       'N°_département_(BAN)'],\n",
       "      dtype='object')"
      ]
     },
     "execution_count": 156,
     "metadata": {},
     "output_type": "execute_result"
    }
   ],
   "source": [
    "df = pd.concat([logements_existants, logements_neufs], ignore_index=True, axis=0)\n",
    "df.columns"
   ]
  },
  {
   "cell_type": "code",
   "execution_count": 157,
   "metadata": {},
   "outputs": [],
   "source": [
    "# A décommenter si on veut produire le csv du dataset déjà pré-traité\n",
    "df = df[df[\"N°_département_(BAN)\"].isin([22.0,29.0,35.0,56.0])] # Sélection des codes postaux d'intérêt\n",
    "df = df.drop([\"N°_département_(BAN)\"], axis=1)\n",
    "df.to_csv(os.path.join('data','processed','data_classification.csv'), index=False, sep=\";\", encoding=\"utf-8-sig\")"
   ]
  },
  {
   "cell_type": "markdown",
   "metadata": {},
   "source": [
    "##### **Embranchement 2** : Importation des données pré-traitées"
   ]
  },
  {
   "cell_type": "code",
   "execution_count": 158,
   "metadata": {},
   "outputs": [
    {
     "name": "stdout",
     "output_type": "stream",
     "text": [
      "The autoreload extension is already loaded. To reload it, use:\n",
      "  %reload_ext autoreload\n"
     ]
    }
   ],
   "source": [
    "%load_ext autoreload\n",
    "%autoreload 2"
   ]
  },
  {
   "cell_type": "code",
   "execution_count": 159,
   "metadata": {},
   "outputs": [],
   "source": [
    "import os \n",
    "import pandas as pd\n",
    "\n",
    "df = pd.read_csv(os.path.join('data','processed','data_classification.csv'), sep=\";\")"
   ]
  },
  {
   "cell_type": "markdown",
   "metadata": {},
   "source": [
    "##### Split train/test"
   ]
  },
  {
   "cell_type": "code",
   "execution_count": 160,
   "metadata": {},
   "outputs": [],
   "source": [
    "X_train, X_test = data_split(df, target=\"Etiquette_DPE\", test_size=0.3, stratify=True, seed=0)"
   ]
  },
  {
   "cell_type": "markdown",
   "metadata": {},
   "source": [
    "##### Qualitative and quantitative data processing (after train/test split)"
   ]
  },
  {
   "cell_type": "code",
   "execution_count": 161,
   "metadata": {},
   "outputs": [],
   "source": [
    "orig, new = quali_quanti_preprocessing_classif(X_train, X_test)"
   ]
  },
  {
   "cell_type": "markdown",
   "metadata": {},
   "source": [
    "##### Split regressors/target"
   ]
  },
  {
   "cell_type": "code",
   "execution_count": 162,
   "metadata": {},
   "outputs": [],
   "source": [
    "X_train, X_test, y_train, y_test = define_target(orig, new, target=\"Etiquette_DPE\")"
   ]
  },
  {
   "cell_type": "markdown",
   "metadata": {},
   "source": [
    "#### Split des données quanti et quali"
   ]
  },
  {
   "cell_type": "code",
   "execution_count": 163,
   "metadata": {},
   "outputs": [],
   "source": [
    "to_drop = to_drop_before_model(case=\"classification\")"
   ]
  },
  {
   "cell_type": "code",
   "execution_count": 164,
   "metadata": {},
   "outputs": [],
   "source": [
    "quali_train, quali_test, quanti_train, quanti_test = split_type_classif(X_train, X_test, to_drop=[])"
   ]
  },
  {
   "cell_type": "markdown",
   "metadata": {},
   "source": [
    "#### ACM"
   ]
  },
  {
   "cell_type": "code",
   "execution_count": 165,
   "metadata": {},
   "outputs": [
    {
     "name": "stdout",
     "output_type": "stream",
     "text": [
      "MCA : fitting to train set\n",
      "0.31326161730707786\n",
      "0.6265232346141557\n",
      "0.9397848519212335\n",
      "MCA : transforming test set\n",
      "0.36547036035377534\n",
      "0.7309407207075507\n"
     ]
    }
   ],
   "source": [
    "quali_train_mca, quali_test_mca =  chunking_MCA(quali_train, quali_test, n_components=10, n_iter=10, seed=0, chunk_size=1000)"
   ]
  },
  {
   "cell_type": "code",
   "execution_count": 166,
   "metadata": {},
   "outputs": [],
   "source": [
    "X_train_mca, X_test_mca = merge_type_back(quali_train, quali_test, quanti_train, quanti_test, X_train.index, X_test.index)"
   ]
  },
  {
   "cell_type": "markdown",
   "metadata": {},
   "source": [
    "### Standardisation"
   ]
  },
  {
   "cell_type": "code",
   "execution_count": 167,
   "metadata": {},
   "outputs": [],
   "source": [
    "from sklearn.preprocessing import StandardScaler\n",
    "\n",
    "scaler = StandardScaler()\n",
    "\n",
    "X_train_mca_scaled = pd.DataFrame(scaler.fit_transform(X_train_mca), index=X_train_mca.index, columns=X_train_mca.columns)\n",
    "X_test_mca_scaled = pd.DataFrame(scaler.transform(X_test_mca), index=X_test_mca.index, columns=X_test_mca.columns)"
   ]
  },
  {
   "cell_type": "markdown",
   "metadata": {},
   "source": [
    "### Feature selection"
   ]
  },
  {
   "cell_type": "code",
   "execution_count": 168,
   "metadata": {},
   "outputs": [
    {
     "name": "stderr",
     "output_type": "stream",
     "text": [
      "[Parallel(n_jobs=1)]: Done  49 tasks      | elapsed:   29.5s\n",
      "[Parallel(n_jobs=1)]: Done  49 tasks      | elapsed:    1.8s\n"
     ]
    }
   ],
   "source": [
    "from sklearn.ensemble import RandomForestClassifier\n",
    "\n",
    "rf = RandomForestClassifier(n_estimators=100, min_samples_split=5, random_state=0, verbose=1)\n",
    "rf.fit(X_train_mca, y_train)\n",
    "y_pred = rf.predict(X_test_mca)"
   ]
  },
  {
   "cell_type": "code",
   "execution_count": 169,
   "metadata": {},
   "outputs": [
    {
     "name": "stdout",
     "output_type": "stream",
     "text": [
      "              precision    recall  f1-score   support\n",
      "\n",
      "           A       0.97      0.96      0.96      8399\n",
      "           B       0.91      0.90      0.91      7952\n",
      "           C       0.94      0.97      0.95     41165\n",
      "           D       0.90      0.89      0.89     38176\n",
      "           E       0.87      0.87      0.87     24134\n",
      "           F       0.85      0.81      0.83     10042\n",
      "           G       0.89      0.82      0.85      6942\n",
      "\n",
      "    accuracy                           0.91    136810\n",
      "   macro avg       0.90      0.89      0.90    136810\n",
      "weighted avg       0.91      0.91      0.91    136810\n",
      "\n"
     ]
    }
   ],
   "source": [
    "from sklearn.metrics import classification_report\n",
    "\n",
    "print(classification_report(y_test, y_pred))"
   ]
  },
  {
   "cell_type": "code",
   "execution_count": 170,
   "metadata": {},
   "outputs": [
    {
     "data": {
      "image/png": "[encoded data removed]",
      "text/plain": [
       "<Figure size 800x800 with 1 Axes>"
      ]
     },
     "metadata": {},
     "output_type": "display_data"
    }
   ],
   "source": [
    "import pandas as pd\n",
    "import matplotlib.pyplot as plt\n",
    "plt.figure(figsize=(8,8))\n",
    "\n",
    "feature_names = rf.feature_names_in_[:20]\n",
    "\n",
    "mdi_importances = pd.Series(\n",
    "    rf.feature_importances_[:20], index=feature_names\n",
    ").sort_values(ascending=True)\n",
    "\n",
    "ax = mdi_importances.plot.barh()\n",
    "ax.set_title(\"Random Forest Feature Importances (MDI)\")\n",
    "ax.figure.tight_layout()"
   ]
  },
  {
   "cell_type": "markdown",
   "metadata": {},
   "source": [
    "### Modélisation"
   ]
  },
  {
   "cell_type": "code",
   "execution_count": 171,
   "metadata": {},
   "outputs": [],
   "source": [
    "# vars = ['Année_construction',\n",
    "#         'Surface_habitable_logement',\n",
    "#         'Coût_total_5_usages',\n",
    "#         'Etiquette_GES',\n",
    "#         'Code_postal_(brut)',\n",
    "#         'Logement',\n",
    "#         'Type_bâtiment',\n",
    "#         'Hauteur_sous-plafond',\n",
    "#         'Nombre_niveau_logement',\n",
    "#         'Etiquette_DPE'\n",
    "#         ]\n",
    "# from sklearn.preprocessing import OneHotEncoder\n",
    "\n",
    "# encoder = OneHotEncoder()\n",
    "\n",
    "# encoder.fit(X_train[vars])"
   ]
  },
  {
   "cell_type": "code",
   "execution_count": 172,
   "metadata": {},
   "outputs": [],
   "source": [
    "vars = ['Année_construction',\n",
    "        'Code_postal_(brut)',\n",
    "        'Coût_total_5_usages',\n",
    "        'Hauteur_sous-plafond',\n",
    "        'Nombre_niveau_logement',\n",
    "        'Surface_habitable_logement',\n",
    "        'Etiquette_GES_A',\n",
    "        'Etiquette_GES_B',\n",
    "        # 'Etiquette_GES_C',\n",
    "        'Etiquette_GES_D',\n",
    "        'Etiquette_GES_E',\n",
    "        'Etiquette_GES_F',\n",
    "        'Etiquette_GES_G',\n",
    "        'Logement_neuf',\n",
    "        # 'Type_bâtiment_appartement',\n",
    "        'Type_bâtiment_immeuble',\n",
    "        'Type_bâtiment_maison'\n",
    "        ]"
   ]
  },
  {
   "cell_type": "code",
   "execution_count": 173,
   "metadata": {},
   "outputs": [
    {
     "data": {
      "text/html": [
       "<div>\n",
       "<style scoped>\n",
       "    .dataframe tbody tr th:only-of-type {\n",
       "        vertical-align: middle;\n",
       "    }\n",
       "\n",
       "    .dataframe tbody tr th {\n",
       "        vertical-align: top;\n",
       "    }\n",
       "\n",
       "    .dataframe thead th {\n",
       "        text-align: right;\n",
       "    }\n",
       "</style>\n",
       "<table border=\"1\" class=\"dataframe\">\n",
       "  <thead>\n",
       "    <tr style=\"text-align: right;\">\n",
       "      <th></th>\n",
       "      <th>Année_construction</th>\n",
       "      <th>Code_postal_(brut)</th>\n",
       "      <th>Coût_total_5_usages</th>\n",
       "      <th>Hauteur_sous-plafond</th>\n",
       "      <th>Nombre_niveau_logement</th>\n",
       "      <th>Surface_habitable_logement</th>\n",
       "      <th>Etiquette_GES_A</th>\n",
       "      <th>Etiquette_GES_B</th>\n",
       "      <th>Etiquette_GES_D</th>\n",
       "      <th>Etiquette_GES_E</th>\n",
       "      <th>Etiquette_GES_F</th>\n",
       "      <th>Etiquette_GES_G</th>\n",
       "      <th>Logement_neuf</th>\n",
       "      <th>Type_bâtiment_immeuble</th>\n",
       "      <th>Type_bâtiment_maison</th>\n",
       "    </tr>\n",
       "  </thead>\n",
       "  <tbody>\n",
       "    <tr>\n",
       "      <th>Année_construction</th>\n",
       "      <td>1.000000</td>\n",
       "      <td>0.051359</td>\n",
       "      <td>-0.111013</td>\n",
       "      <td>-0.001879</td>\n",
       "      <td>-0.019081</td>\n",
       "      <td>0.015214</td>\n",
       "      <td>0.245211</td>\n",
       "      <td>-0.076336</td>\n",
       "      <td>-0.132233</td>\n",
       "      <td>-0.127577</td>\n",
       "      <td>-0.106222</td>\n",
       "      <td>-0.070745</td>\n",
       "      <td>0.486561</td>\n",
       "      <td>0.011979</td>\n",
       "      <td>-0.028951</td>\n",
       "    </tr>\n",
       "    <tr>\n",
       "      <th>Code_postal_(brut)</th>\n",
       "      <td>0.051359</td>\n",
       "      <td>1.000000</td>\n",
       "      <td>-0.019620</td>\n",
       "      <td>-0.000504</td>\n",
       "      <td>0.019327</td>\n",
       "      <td>0.005207</td>\n",
       "      <td>0.042323</td>\n",
       "      <td>-0.007832</td>\n",
       "      <td>-0.039017</td>\n",
       "      <td>-0.015315</td>\n",
       "      <td>-0.023701</td>\n",
       "      <td>-0.017238</td>\n",
       "      <td>0.052291</td>\n",
       "      <td>0.005566</td>\n",
       "      <td>-0.017317</td>\n",
       "    </tr>\n",
       "    <tr>\n",
       "      <th>Coût_total_5_usages</th>\n",
       "      <td>-0.111013</td>\n",
       "      <td>-0.019620</td>\n",
       "      <td>1.000000</td>\n",
       "      <td>-0.000029</td>\n",
       "      <td>0.010576</td>\n",
       "      <td>0.236444</td>\n",
       "      <td>-0.110137</td>\n",
       "      <td>-0.021192</td>\n",
       "      <td>0.045407</td>\n",
       "      <td>0.074316</td>\n",
       "      <td>0.102945</td>\n",
       "      <td>0.093552</td>\n",
       "      <td>-0.120713</td>\n",
       "      <td>0.527211</td>\n",
       "      <td>0.092540</td>\n",
       "    </tr>\n",
       "    <tr>\n",
       "      <th>Hauteur_sous-plafond</th>\n",
       "      <td>-0.001879</td>\n",
       "      <td>-0.000504</td>\n",
       "      <td>-0.000029</td>\n",
       "      <td>1.000000</td>\n",
       "      <td>-0.000278</td>\n",
       "      <td>-0.000248</td>\n",
       "      <td>0.000307</td>\n",
       "      <td>-0.001868</td>\n",
       "      <td>-0.000832</td>\n",
       "      <td>-0.000535</td>\n",
       "      <td>-0.000100</td>\n",
       "      <td>-0.000155</td>\n",
       "      <td>0.001800</td>\n",
       "      <td>-0.000372</td>\n",
       "      <td>-0.001298</td>\n",
       "    </tr>\n",
       "    <tr>\n",
       "      <th>Nombre_niveau_logement</th>\n",
       "      <td>-0.019081</td>\n",
       "      <td>0.019327</td>\n",
       "      <td>0.010576</td>\n",
       "      <td>-0.000278</td>\n",
       "      <td>1.000000</td>\n",
       "      <td>0.032492</td>\n",
       "      <td>-0.016339</td>\n",
       "      <td>0.001816</td>\n",
       "      <td>-0.003339</td>\n",
       "      <td>0.010348</td>\n",
       "      <td>0.010888</td>\n",
       "      <td>0.005577</td>\n",
       "      <td>-0.025567</td>\n",
       "      <td>-0.015202</td>\n",
       "      <td>0.049224</td>\n",
       "    </tr>\n",
       "    <tr>\n",
       "      <th>Surface_habitable_logement</th>\n",
       "      <td>0.015214</td>\n",
       "      <td>0.005207</td>\n",
       "      <td>0.236444</td>\n",
       "      <td>-0.000248</td>\n",
       "      <td>0.032492</td>\n",
       "      <td>1.000000</td>\n",
       "      <td>0.071968</td>\n",
       "      <td>-0.058199</td>\n",
       "      <td>0.010252</td>\n",
       "      <td>0.041075</td>\n",
       "      <td>0.045601</td>\n",
       "      <td>0.014444</td>\n",
       "      <td>0.067193</td>\n",
       "      <td>0.161407</td>\n",
       "      <td>0.307903</td>\n",
       "    </tr>\n",
       "    <tr>\n",
       "      <th>Etiquette_GES_A</th>\n",
       "      <td>0.245211</td>\n",
       "      <td>0.042323</td>\n",
       "      <td>-0.110137</td>\n",
       "      <td>0.000307</td>\n",
       "      <td>-0.016339</td>\n",
       "      <td>0.071968</td>\n",
       "      <td>1.000000</td>\n",
       "      <td>-0.306384</td>\n",
       "      <td>-0.190118</td>\n",
       "      <td>-0.129148</td>\n",
       "      <td>-0.095595</td>\n",
       "      <td>-0.061248</td>\n",
       "      <td>0.307602</td>\n",
       "      <td>-0.029367</td>\n",
       "      <td>0.127084</td>\n",
       "    </tr>\n",
       "    <tr>\n",
       "      <th>Etiquette_GES_B</th>\n",
       "      <td>-0.076336</td>\n",
       "      <td>-0.007832</td>\n",
       "      <td>-0.021192</td>\n",
       "      <td>-0.001868</td>\n",
       "      <td>0.001816</td>\n",
       "      <td>-0.058199</td>\n",
       "      <td>-0.306384</td>\n",
       "      <td>1.000000</td>\n",
       "      <td>-0.231985</td>\n",
       "      <td>-0.157588</td>\n",
       "      <td>-0.116646</td>\n",
       "      <td>-0.074736</td>\n",
       "      <td>-0.118170</td>\n",
       "      <td>-0.016147</td>\n",
       "      <td>0.036416</td>\n",
       "    </tr>\n",
       "    <tr>\n",
       "      <th>Etiquette_GES_D</th>\n",
       "      <td>-0.132233</td>\n",
       "      <td>-0.039017</td>\n",
       "      <td>0.045407</td>\n",
       "      <td>-0.000832</td>\n",
       "      <td>-0.003339</td>\n",
       "      <td>0.010252</td>\n",
       "      <td>-0.190118</td>\n",
       "      <td>-0.231985</td>\n",
       "      <td>1.000000</td>\n",
       "      <td>-0.097787</td>\n",
       "      <td>-0.072381</td>\n",
       "      <td>-0.046375</td>\n",
       "      <td>-0.146084</td>\n",
       "      <td>0.007100</td>\n",
       "      <td>-0.059955</td>\n",
       "    </tr>\n",
       "    <tr>\n",
       "      <th>Etiquette_GES_E</th>\n",
       "      <td>-0.127577</td>\n",
       "      <td>-0.015315</td>\n",
       "      <td>0.074316</td>\n",
       "      <td>-0.000535</td>\n",
       "      <td>0.010348</td>\n",
       "      <td>0.041075</td>\n",
       "      <td>-0.129148</td>\n",
       "      <td>-0.157588</td>\n",
       "      <td>-0.097787</td>\n",
       "      <td>1.000000</td>\n",
       "      <td>-0.049169</td>\n",
       "      <td>-0.031503</td>\n",
       "      <td>-0.099502</td>\n",
       "      <td>-0.009525</td>\n",
       "      <td>0.063202</td>\n",
       "    </tr>\n",
       "    <tr>\n",
       "      <th>Etiquette_GES_F</th>\n",
       "      <td>-0.106222</td>\n",
       "      <td>-0.023701</td>\n",
       "      <td>0.102945</td>\n",
       "      <td>-0.000100</td>\n",
       "      <td>0.010888</td>\n",
       "      <td>0.045601</td>\n",
       "      <td>-0.095595</td>\n",
       "      <td>-0.116646</td>\n",
       "      <td>-0.072381</td>\n",
       "      <td>-0.049169</td>\n",
       "      <td>1.000000</td>\n",
       "      <td>-0.023318</td>\n",
       "      <td>-0.073708</td>\n",
       "      <td>-0.012577</td>\n",
       "      <td>0.123232</td>\n",
       "    </tr>\n",
       "    <tr>\n",
       "      <th>Etiquette_GES_G</th>\n",
       "      <td>-0.070745</td>\n",
       "      <td>-0.017238</td>\n",
       "      <td>0.093552</td>\n",
       "      <td>-0.000155</td>\n",
       "      <td>0.005577</td>\n",
       "      <td>0.014444</td>\n",
       "      <td>-0.061248</td>\n",
       "      <td>-0.074736</td>\n",
       "      <td>-0.046375</td>\n",
       "      <td>-0.031503</td>\n",
       "      <td>-0.023318</td>\n",
       "      <td>1.000000</td>\n",
       "      <td>-0.046838</td>\n",
       "      <td>-0.012126</td>\n",
       "      <td>0.099348</td>\n",
       "    </tr>\n",
       "    <tr>\n",
       "      <th>Logement_neuf</th>\n",
       "      <td>0.486561</td>\n",
       "      <td>0.052291</td>\n",
       "      <td>-0.120713</td>\n",
       "      <td>0.001800</td>\n",
       "      <td>-0.025567</td>\n",
       "      <td>0.067193</td>\n",
       "      <td>0.307602</td>\n",
       "      <td>-0.118170</td>\n",
       "      <td>-0.146084</td>\n",
       "      <td>-0.099502</td>\n",
       "      <td>-0.073708</td>\n",
       "      <td>-0.046838</td>\n",
       "      <td>1.000000</td>\n",
       "      <td>-0.002362</td>\n",
       "      <td>0.022320</td>\n",
       "    </tr>\n",
       "    <tr>\n",
       "      <th>Type_bâtiment_immeuble</th>\n",
       "      <td>0.011979</td>\n",
       "      <td>0.005566</td>\n",
       "      <td>0.527211</td>\n",
       "      <td>-0.000372</td>\n",
       "      <td>-0.015202</td>\n",
       "      <td>0.161407</td>\n",
       "      <td>-0.029367</td>\n",
       "      <td>-0.016147</td>\n",
       "      <td>0.007100</td>\n",
       "      <td>-0.009525</td>\n",
       "      <td>-0.012577</td>\n",
       "      <td>-0.012126</td>\n",
       "      <td>-0.002362</td>\n",
       "      <td>1.000000</td>\n",
       "      <td>-0.113098</td>\n",
       "    </tr>\n",
       "    <tr>\n",
       "      <th>Type_bâtiment_maison</th>\n",
       "      <td>-0.028951</td>\n",
       "      <td>-0.017317</td>\n",
       "      <td>0.092540</td>\n",
       "      <td>-0.001298</td>\n",
       "      <td>0.049224</td>\n",
       "      <td>0.307903</td>\n",
       "      <td>0.127084</td>\n",
       "      <td>0.036416</td>\n",
       "      <td>-0.059955</td>\n",
       "      <td>0.063202</td>\n",
       "      <td>0.123232</td>\n",
       "      <td>0.099348</td>\n",
       "      <td>0.022320</td>\n",
       "      <td>-0.113098</td>\n",
       "      <td>1.000000</td>\n",
       "    </tr>\n",
       "  </tbody>\n",
       "</table>\n",
       "</div>"
      ],
      "text/plain": [
       "                            Année_construction  Code_postal_(brut)  \\\n",
       "Année_construction                    1.000000            0.051359   \n",
       "Code_postal_(brut)                    0.051359            1.000000   \n",
       "Coût_total_5_usages                  -0.111013           -0.019620   \n",
       "Hauteur_sous-plafond                 -0.001879           -0.000504   \n",
       "Nombre_niveau_logement               -0.019081            0.019327   \n",
       "Surface_habitable_logement            0.015214            0.005207   \n",
       "Etiquette_GES_A                       0.245211            0.042323   \n",
       "Etiquette_GES_B                      -0.076336           -0.007832   \n",
       "Etiquette_GES_D                      -0.132233           -0.039017   \n",
       "Etiquette_GES_E                      -0.127577           -0.015315   \n",
       "Etiquette_GES_F                      -0.106222           -0.023701   \n",
       "Etiquette_GES_G                      -0.070745           -0.017238   \n",
       "Logement_neuf                         0.486561            0.052291   \n",
       "Type_bâtiment_immeuble                0.011979            0.005566   \n",
       "Type_bâtiment_maison                 -0.028951           -0.017317   \n",
       "\n",
       "                            Coût_total_5_usages  Hauteur_sous-plafond  \\\n",
       "Année_construction                    -0.111013             -0.001879   \n",
       "Code_postal_(brut)                    -0.019620             -0.000504   \n",
       "Coût_total_5_usages                    1.000000             -0.000029   \n",
       "Hauteur_sous-plafond                  -0.000029              1.000000   \n",
       "Nombre_niveau_logement                 0.010576             -0.000278   \n",
       "Surface_habitable_logement             0.236444             -0.000248   \n",
       "Etiquette_GES_A                       -0.110137              0.000307   \n",
       "Etiquette_GES_B                       -0.021192             -0.001868   \n",
       "Etiquette_GES_D                        0.045407             -0.000832   \n",
       "Etiquette_GES_E                        0.074316             -0.000535   \n",
       "Etiquette_GES_F                        0.102945             -0.000100   \n",
       "Etiquette_GES_G                        0.093552             -0.000155   \n",
       "Logement_neuf                         -0.120713              0.001800   \n",
       "Type_bâtiment_immeuble                 0.527211             -0.000372   \n",
       "Type_bâtiment_maison                   0.092540             -0.001298   \n",
       "\n",
       "                            Nombre_niveau_logement  \\\n",
       "Année_construction                       -0.019081   \n",
       "Code_postal_(brut)                        0.019327   \n",
       "Coût_total_5_usages                       0.010576   \n",
       "Hauteur_sous-plafond                     -0.000278   \n",
       "Nombre_niveau_logement                    1.000000   \n",
       "Surface_habitable_logement                0.032492   \n",
       "Etiquette_GES_A                          -0.016339   \n",
       "Etiquette_GES_B                           0.001816   \n",
       "Etiquette_GES_D                          -0.003339   \n",
       "Etiquette_GES_E                           0.010348   \n",
       "Etiquette_GES_F                           0.010888   \n",
       "Etiquette_GES_G                           0.005577   \n",
       "Logement_neuf                            -0.025567   \n",
       "Type_bâtiment_immeuble                   -0.015202   \n",
       "Type_bâtiment_maison                      0.049224   \n",
       "\n",
       "                            Surface_habitable_logement  Etiquette_GES_A  \\\n",
       "Année_construction                            0.015214         0.245211   \n",
       "Code_postal_(brut)                            0.005207         0.042323   \n",
       "Coût_total_5_usages                           0.236444        -0.110137   \n",
       "Hauteur_sous-plafond                         -0.000248         0.000307   \n",
       "Nombre_niveau_logement                        0.032492        -0.016339   \n",
       "Surface_habitable_logement                    1.000000         0.071968   \n",
       "Etiquette_GES_A                               0.071968         1.000000   \n",
       "Etiquette_GES_B                              -0.058199        -0.306384   \n",
       "Etiquette_GES_D                               0.010252        -0.190118   \n",
       "Etiquette_GES_E                               0.041075        -0.129148   \n",
       "Etiquette_GES_F                               0.045601        -0.095595   \n",
       "Etiquette_GES_G                               0.014444        -0.061248   \n",
       "Logement_neuf                                 0.067193         0.307602   \n",
       "Type_bâtiment_immeuble                        0.161407        -0.029367   \n",
       "Type_bâtiment_maison                          0.307903         0.127084   \n",
       "\n",
       "                            Etiquette_GES_B  Etiquette_GES_D  Etiquette_GES_E  \\\n",
       "Année_construction                -0.076336        -0.132233        -0.127577   \n",
       "Code_postal_(brut)                -0.007832        -0.039017        -0.015315   \n",
       "Coût_total_5_usages               -0.021192         0.045407         0.074316   \n",
       "Hauteur_sous-plafond              -0.001868        -0.000832        -0.000535   \n",
       "Nombre_niveau_logement             0.001816        -0.003339         0.010348   \n",
       "Surface_habitable_logement        -0.058199         0.010252         0.041075   \n",
       "Etiquette_GES_A                   -0.306384        -0.190118        -0.129148   \n",
       "Etiquette_GES_B                    1.000000        -0.231985        -0.157588   \n",
       "Etiquette_GES_D                   -0.231985         1.000000        -0.097787   \n",
       "Etiquette_GES_E                   -0.157588        -0.097787         1.000000   \n",
       "Etiquette_GES_F                   -0.116646        -0.072381        -0.049169   \n",
       "Etiquette_GES_G                   -0.074736        -0.046375        -0.031503   \n",
       "Logement_neuf                     -0.118170        -0.146084        -0.099502   \n",
       "Type_bâtiment_immeuble            -0.016147         0.007100        -0.009525   \n",
       "Type_bâtiment_maison               0.036416        -0.059955         0.063202   \n",
       "\n",
       "                            Etiquette_GES_F  Etiquette_GES_G  Logement_neuf  \\\n",
       "Année_construction                -0.106222        -0.070745       0.486561   \n",
       "Code_postal_(brut)                -0.023701        -0.017238       0.052291   \n",
       "Coût_total_5_usages                0.102945         0.093552      -0.120713   \n",
       "Hauteur_sous-plafond              -0.000100        -0.000155       0.001800   \n",
       "Nombre_niveau_logement             0.010888         0.005577      -0.025567   \n",
       "Surface_habitable_logement         0.045601         0.014444       0.067193   \n",
       "Etiquette_GES_A                   -0.095595        -0.061248       0.307602   \n",
       "Etiquette_GES_B                   -0.116646        -0.074736      -0.118170   \n",
       "Etiquette_GES_D                   -0.072381        -0.046375      -0.146084   \n",
       "Etiquette_GES_E                   -0.049169        -0.031503      -0.099502   \n",
       "Etiquette_GES_F                    1.000000        -0.023318      -0.073708   \n",
       "Etiquette_GES_G                   -0.023318         1.000000      -0.046838   \n",
       "Logement_neuf                     -0.073708        -0.046838       1.000000   \n",
       "Type_bâtiment_immeuble            -0.012577        -0.012126      -0.002362   \n",
       "Type_bâtiment_maison               0.123232         0.099348       0.022320   \n",
       "\n",
       "                            Type_bâtiment_immeuble  Type_bâtiment_maison  \n",
       "Année_construction                        0.011979             -0.028951  \n",
       "Code_postal_(brut)                        0.005566             -0.017317  \n",
       "Coût_total_5_usages                       0.527211              0.092540  \n",
       "Hauteur_sous-plafond                     -0.000372             -0.001298  \n",
       "Nombre_niveau_logement                   -0.015202              0.049224  \n",
       "Surface_habitable_logement                0.161407              0.307903  \n",
       "Etiquette_GES_A                          -0.029367              0.127084  \n",
       "Etiquette_GES_B                          -0.016147              0.036416  \n",
       "Etiquette_GES_D                           0.007100             -0.059955  \n",
       "Etiquette_GES_E                          -0.009525              0.063202  \n",
       "Etiquette_GES_F                          -0.012577              0.123232  \n",
       "Etiquette_GES_G                          -0.012126              0.099348  \n",
       "Logement_neuf                            -0.002362              0.022320  \n",
       "Type_bâtiment_immeuble                    1.000000             -0.113098  \n",
       "Type_bâtiment_maison                     -0.113098              1.000000  "
      ]
     },
     "execution_count": 173,
     "metadata": {},
     "output_type": "execute_result"
    }
   ],
   "source": [
    "X_train_mca[vars].corr()"
   ]
  },
  {
   "cell_type": "code",
   "execution_count": 174,
   "metadata": {},
   "outputs": [],
   "source": [
    "from sklearn.ensemble import RandomForestClassifier\n",
    "\n",
    "rf = RandomForestClassifier(n_estimators=10, min_samples_split=5, max_depth=None, random_state=0, verbose=1)\n",
    "rf.fit(X_train_mca[vars], y_train)\n",
    "y_pred = rf.predict(X_test_mca[vars])"
   ]
  },
  {
   "cell_type": "code",
   "execution_count": 175,
   "metadata": {},
   "outputs": [
    {
     "data": {
      "text/plain": [
       "'from sklearn.ensemble import RandomForestClassifier\\nfrom sklearn.model_selection import GridSearchCV, StratifiedKFold\\n\\nrf = RandomForestClassifier()\\ncv = StratifiedKFold(5)\\nparams = {\\'n_estimators\\': [100],\\n          \\'min_samples_split\\': [5],\\n          \\'max_depth\\': [20, None]}\\ngrid = GridSearchCV(rf, param_grid=params, scoring=\"accuracy\", cv=cv, verbose=2)\\ngrid.fit(X_train_mca[vars], y_train)'"
      ]
     },
     "execution_count": 175,
     "metadata": {},
     "output_type": "execute_result"
    }
   ],
   "source": [
    "\"\"\"from sklearn.ensemble import RandomForestClassifier\n",
    "from sklearn.model_selection import GridSearchCV, StratifiedKFold\n",
    "\n",
    "rf = RandomForestClassifier()\n",
    "cv = StratifiedKFold(5)\n",
    "params = {'n_estimators': [100],\n",
    "          'min_samples_split': [5],\n",
    "          'max_depth': [20, None]}\n",
    "grid = GridSearchCV(rf, param_grid=params, scoring=\"accuracy\", cv=cv, verbose=2)\n",
    "grid.fit(X_train_mca[vars], y_train)\"\"\""
   ]
  },
  {
   "cell_type": "code",
   "execution_count": 176,
   "metadata": {},
   "outputs": [
    {
     "name": "stdout",
     "output_type": "stream",
     "text": [
      "              precision    recall  f1-score   support\n",
      "\n",
      "           A       0.96      0.96      0.96      8399\n",
      "           B       0.90      0.89      0.89      7952\n",
      "           C       0.93      0.97      0.95     41165\n",
      "           D       0.89      0.88      0.88     38176\n",
      "           E       0.86      0.86      0.86     24134\n",
      "           F       0.83      0.79      0.81     10042\n",
      "           G       0.86      0.81      0.83      6942\n",
      "\n",
      "    accuracy                           0.90    136810\n",
      "   macro avg       0.89      0.88      0.88    136810\n",
      "weighted avg       0.90      0.90      0.90    136810\n",
      "\n"
     ]
    }
   ],
   "source": [
    "# Quali OHE\n",
    "from sklearn.metrics import classification_report\n",
    "\n",
    "print(classification_report(y_test, y_pred))"
   ]
  },
  {
   "cell_type": "code",
   "execution_count": 177,
   "metadata": {},
   "outputs": [
    {
     "name": "stdout",
     "output_type": "stream",
     "text": [
      "              precision    recall  f1-score   support\n",
      "\n",
      "           A       0.96      0.96      0.96      8399\n",
      "           B       0.90      0.89      0.89      7952\n",
      "           C       0.93      0.97      0.95     41165\n",
      "           D       0.89      0.88      0.88     38176\n",
      "           E       0.86      0.86      0.86     24134\n",
      "           F       0.83      0.79      0.81     10042\n",
      "           G       0.86      0.81      0.83      6942\n",
      "\n",
      "    accuracy                           0.90    136810\n",
      "   macro avg       0.89      0.88      0.88    136810\n",
      "weighted avg       0.90      0.90      0.90    136810\n",
      "\n"
     ]
    }
   ],
   "source": [
    "# Sans quali OHE\n",
    "from sklearn.metrics import classification_report\n",
    "\n",
    "print(classification_report(y_test, y_pred))"
   ]
  },
  {
   "cell_type": "code",
   "execution_count": 178,
   "metadata": {},
   "outputs": [
    {
     "name": "stdout",
     "output_type": "stream",
     "text": [
      "              precision    recall  f1-score   support\n",
      "\n",
      "           A       0.96      0.96      0.96      8399\n",
      "           B       0.90      0.89      0.89      7952\n",
      "           C       0.93      0.97      0.95     41165\n",
      "           D       0.89      0.88      0.88     38176\n",
      "           E       0.86      0.86      0.86     24134\n",
      "           F       0.83      0.79      0.81     10042\n",
      "           G       0.86      0.81      0.83      6942\n",
      "\n",
      "    accuracy                           0.90    136810\n",
      "   macro avg       0.89      0.88      0.88    136810\n",
      "weighted avg       0.90      0.90      0.90    136810\n",
      "\n"
     ]
    }
   ],
   "source": [
    "# Emission_GES_ECS\n",
    "from sklearn.metrics import classification_report\n",
    "\n",
    "print(classification_report(y_test, y_pred))"
   ]
  },
  {
   "cell_type": "code",
   "execution_count": 179,
   "metadata": {},
   "outputs": [
    {
     "name": "stdout",
     "output_type": "stream",
     "text": [
      "              precision    recall  f1-score   support\n",
      "\n",
      "           A       0.96      0.96      0.96      8399\n",
      "           B       0.90      0.89      0.89      7952\n",
      "           C       0.93      0.97      0.95     41165\n",
      "           D       0.89      0.88      0.88     38176\n",
      "           E       0.86      0.86      0.86     24134\n",
      "           F       0.83      0.79      0.81     10042\n",
      "           G       0.86      0.81      0.83      6942\n",
      "\n",
      "    accuracy                           0.90    136810\n",
      "   macro avg       0.89      0.88      0.88    136810\n",
      "weighted avg       0.90      0.90      0.90    136810\n",
      "\n"
     ]
    }
   ],
   "source": [
    "# Etiquettes GES A + G\n",
    "from sklearn.metrics import classification_report\n",
    "\n",
    "print(classification_report(y_test, y_pred))"
   ]
  },
  {
   "cell_type": "code",
   "execution_count": 180,
   "metadata": {},
   "outputs": [
    {
     "name": "stdout",
     "output_type": "stream",
     "text": [
      "              precision    recall  f1-score   support\n",
      "\n",
      "           A       0.96      0.96      0.96      8399\n",
      "           B       0.90      0.89      0.89      7952\n",
      "           C       0.93      0.97      0.95     41165\n",
      "           D       0.89      0.88      0.88     38176\n",
      "           E       0.86      0.86      0.86     24134\n",
      "           F       0.83      0.79      0.81     10042\n",
      "           G       0.86      0.81      0.83      6942\n",
      "\n",
      "    accuracy                           0.90    136810\n",
      "   macro avg       0.89      0.88      0.88    136810\n",
      "weighted avg       0.90      0.90      0.90    136810\n",
      "\n"
     ]
    }
   ],
   "source": [
    "# Etiquettes GES A - G\n",
    "from sklearn.metrics import classification_report\n",
    "\n",
    "print(classification_report(y_test, y_pred))"
   ]
  },
  {
   "cell_type": "code",
   "execution_count": 181,
   "metadata": {},
   "outputs": [
    {
     "name": "stdout",
     "output_type": "stream",
     "text": [
      "              precision    recall  f1-score   support\n",
      "\n",
      "           A       0.96      0.96      0.96      8399\n",
      "           B       0.90      0.89      0.89      7952\n",
      "           C       0.93      0.97      0.95     41165\n",
      "           D       0.89      0.88      0.88     38176\n",
      "           E       0.86      0.86      0.86     24134\n",
      "           F       0.83      0.79      0.81     10042\n",
      "           G       0.86      0.81      0.83      6942\n",
      "\n",
      "    accuracy                           0.90    136810\n",
      "   macro avg       0.89      0.88      0.88    136810\n",
      "weighted avg       0.90      0.90      0.90    136810\n",
      "\n"
     ]
    }
   ],
   "source": [
    "# 50 arbres\n",
    "from sklearn.metrics import classification_report\n",
    "\n",
    "print(classification_report(y_test, y_pred))"
   ]
  },
  {
   "cell_type": "code",
   "execution_count": 182,
   "metadata": {},
   "outputs": [
    {
     "name": "stdout",
     "output_type": "stream",
     "text": [
      "              precision    recall  f1-score   support\n",
      "\n",
      "           A       0.96      0.96      0.96      8399\n",
      "           B       0.90      0.89      0.89      7952\n",
      "           C       0.93      0.97      0.95     41165\n",
      "           D       0.89      0.88      0.88     38176\n",
      "           E       0.86      0.86      0.86     24134\n",
      "           F       0.83      0.79      0.81     10042\n",
      "           G       0.86      0.81      0.83      6942\n",
      "\n",
      "    accuracy                           0.90    136810\n",
      "   macro avg       0.89      0.88      0.88    136810\n",
      "weighted avg       0.90      0.90      0.90    136810\n",
      "\n"
     ]
    }
   ],
   "source": [
    "# 20 arbres\n",
    "from sklearn.metrics import classification_report\n",
    "\n",
    "print(classification_report(y_test, y_pred))"
   ]
  },
  {
   "cell_type": "code",
   "execution_count": 183,
   "metadata": {},
   "outputs": [
    {
     "name": "stdout",
     "output_type": "stream",
     "text": [
      "              precision    recall  f1-score   support\n",
      "\n",
      "           A       0.96      0.96      0.96      8399\n",
      "           B       0.90      0.89      0.89      7952\n",
      "           C       0.93      0.97      0.95     41165\n",
      "           D       0.89      0.88      0.88     38176\n",
      "           E       0.86      0.86      0.86     24134\n",
      "           F       0.83      0.79      0.81     10042\n",
      "           G       0.86      0.81      0.83      6942\n",
      "\n",
      "    accuracy                           0.90    136810\n",
      "   macro avg       0.89      0.88      0.88    136810\n",
      "weighted avg       0.90      0.90      0.90    136810\n",
      "\n"
     ]
    }
   ],
   "source": [
    "# 10 arbres\n",
    "from sklearn.metrics import classification_report\n",
    "\n",
    "print(classification_report(y_test, y_pred))"
   ]
  },
  {
   "cell_type": "code",
   "execution_count": 184,
   "metadata": {},
   "outputs": [
    {
     "name": "stdout",
     "output_type": "stream",
     "text": [
      "              precision    recall  f1-score   support\n",
      "\n",
      "           A       0.96      0.96      0.96      8399\n",
      "           B       0.90      0.89      0.89      7952\n",
      "           C       0.93      0.97      0.95     41165\n",
      "           D       0.89      0.88      0.88     38176\n",
      "           E       0.86      0.86      0.86     24134\n",
      "           F       0.83      0.79      0.81     10042\n",
      "           G       0.86      0.81      0.83      6942\n",
      "\n",
      "    accuracy                           0.90    136810\n",
      "   macro avg       0.89      0.88      0.88    136810\n",
      "weighted avg       0.90      0.90      0.90    136810\n",
      "\n"
     ]
    }
   ],
   "source": [
    "# 5 arbres\n",
    "from sklearn.metrics import classification_report\n",
    "\n",
    "print(classification_report(y_test, y_pred))"
   ]
  },
  {
   "cell_type": "code",
   "execution_count": 185,
   "metadata": {},
   "outputs": [
    {
     "data": {
      "text/plain": [
       "'import pandas as pd\\nimport matplotlib.pyplot as plt\\nplt.figure(figsize=(8,8))\\n\\nfeature_names = rf.feature_names_in_\\n\\nmdi_importances = pd.Series(\\n    rf.feature_importances_, index=feature_names\\n).sort_values(ascending=True)\\n\\nax = mdi_importances.plot.barh()\\nax.set_title(\"Random Forest Feature Importances (MDI)\")\\nax.figure.tight_layout()'"
      ]
     },
     "execution_count": 185,
     "metadata": {},
     "output_type": "execute_result"
    }
   ],
   "source": [
    "\"\"\"import pandas as pd\n",
    "import matplotlib.pyplot as plt\n",
    "plt.figure(figsize=(8,8))\n",
    "\n",
    "feature_names = rf.feature_names_in_\n",
    "\n",
    "mdi_importances = pd.Series(\n",
    "    rf.feature_importances_, index=feature_names\n",
    ").sort_values(ascending=True)\n",
    "\n",
    "ax = mdi_importances.plot.barh()\n",
    "ax.set_title(\"Random Forest Feature Importances (MDI)\")\n",
    "ax.figure.tight_layout()\"\"\""
   ]
  },
  {
   "cell_type": "code",
   "execution_count": 186,
   "metadata": {},
   "outputs": [],
   "source": [
    "import pickle as pk\n",
    "\n",
    "pk.dump(rf, open(os.path.join(\"models\",\"rf_tuned_classification.pkl\"), \"wb\"))"
   ]
  },
  {
   "cell_type": "code",
   "execution_count": 187,
   "metadata": {},
   "outputs": [
    {
     "name": "stdout",
     "output_type": "stream",
     "text": [
      "['B']\n"
     ]
    }
   ],
   "source": [
    "# TEST PIPELINE\n",
    "from pipeline import Pipeline_classification\n",
    "\n",
    "new = pd.DataFrame([{\"Année_construction\":2024,\n",
    "                     \"Surface_habitable_logement\":200,\n",
    "                     \"Coût_total_5_usages\":10000,\n",
    "                     \"Etiquette_GES\":\"B\",\n",
    "                     \"Code_postal_(brut)\":35660,\n",
    "                     \"Logement\":\"neuf\",\n",
    "                     \"Type_bâtiment\":\"maison\",\n",
    "                     \"Hauteur_sous-plafond\":3,\n",
    "                     \"Nombre_niveau_logement\":2\n",
    "                     }])\n",
    "\n",
    "Pipeline_classification(new)"
   ]
  },
  {
   "cell_type": "markdown",
   "metadata": {},
   "source": [
    "### Régression"
   ]
  },
  {
   "cell_type": "code",
   "execution_count": 188,
   "metadata": {},
   "outputs": [
    {
     "name": "stdout",
     "output_type": "stream",
     "text": [
      "The autoreload extension is already loaded. To reload it, use:\n",
      "  %reload_ext autoreload\n"
     ]
    }
   ],
   "source": [
    "%load_ext autoreload\n",
    "%autoreload 2"
   ]
  },
  {
   "cell_type": "code",
   "execution_count": 243,
   "metadata": {},
   "outputs": [],
   "source": [
    "# Importation des données\n",
    "# logements_neufs = pd.read_csv(os.path.join('data','raw','neufs.csv'))\n",
    "# logements_existants = pd.read_csv(os.path.join('data','raw','existents.csv'))"
   ]
  },
  {
   "cell_type": "code",
   "execution_count": 265,
   "metadata": {},
   "outputs": [],
   "source": [
    "cols_kept = ['Année_construction',\n",
    "            'Code_postal_(brut)',\n",
    "            'Coût_total_5_usages',\n",
    "            'Etiquette_DPE',\n",
    "            # 'Etiquette_GES',\n",
    "            'Hauteur_sous-plafond',\n",
    "            'Logement',\n",
    "            'Nombre_niveau_logement',\n",
    "            'Surface_habitable_logement',\n",
    "            'Type_bâtiment',\n",
    "            'N°_département_(BAN)']"
   ]
  },
  {
   "cell_type": "code",
   "execution_count": 266,
   "metadata": {},
   "outputs": [
    {
     "data": {
      "text/plain": [
       "(398114, 10)"
      ]
     },
     "execution_count": 266,
     "metadata": {},
     "output_type": "execute_result"
    }
   ],
   "source": [
    "logements_neufs = select_columns(logements_neufs, cols_kept)\n",
    "logements_neufs.shape\n",
    "\n",
    "logements_existants = select_columns(logements_existants, cols_kept)\n",
    "logements_existants.shape"
   ]
  },
  {
   "cell_type": "code",
   "execution_count": 267,
   "metadata": {},
   "outputs": [],
   "source": [
    "# logements_existants = cleaning_and_converting(logements_existants)\n",
    "# logements_neufs = cleaning_and_converting(logements_neufs)"
   ]
  },
  {
   "cell_type": "code",
   "execution_count": 268,
   "metadata": {},
   "outputs": [],
   "source": [
    "df = pd.concat([logements_existants, logements_neufs], ignore_index=True, axis=0)"
   ]
  },
  {
   "cell_type": "code",
   "execution_count": 269,
   "metadata": {},
   "outputs": [],
   "source": [
    "# A décommenter si on veut produire le csv du dataset déjà pré-traité\n",
    "df = df[df[\"N°_département_(BAN)\"].isin([22.0,29.0,35.0,56.0])] # Sélection des codes postaux d'intérêt\n",
    "df = df.drop([\"N°_département_(BAN)\"],axis=1)\n",
    "df.to_csv(os.path.join('data','processed','data_regression.csv'), index=False, sep=\";\", encoding=\"utf-8-sig\")"
   ]
  },
  {
   "cell_type": "code",
   "execution_count": 270,
   "metadata": {},
   "outputs": [],
   "source": [
    "df['Coût_total_5_usages'] = df['Coût_total_5_usages'].fillna(df['Coût_total_5_usages'].median())"
   ]
  },
  {
   "cell_type": "code",
   "execution_count": 271,
   "metadata": {},
   "outputs": [],
   "source": [
    "X_train, X_test = data_split(df, target=\"Coût_total_5_usages\", test_size=0.3, stratify=False, seed=0)"
   ]
  },
  {
   "cell_type": "code",
   "execution_count": 272,
   "metadata": {},
   "outputs": [
    {
     "data": {
      "text/plain": [
       "Index(['Année_construction', 'Code_postal_(brut)', 'Coût_total_5_usages',\n",
       "       'Etiquette_DPE', 'Hauteur_sous-plafond', 'Logement',\n",
       "       'Nombre_niveau_logement', 'Surface_habitable_logement',\n",
       "       'Type_bâtiment'],\n",
       "      dtype='object')"
      ]
     },
     "execution_count": 272,
     "metadata": {},
     "output_type": "execute_result"
    }
   ],
   "source": [
    "X_test.columns"
   ]
  },
  {
   "cell_type": "markdown",
   "metadata": {},
   "source": [
    "##### Qualitative and quantitative data processing (after train/test split)"
   ]
  },
  {
   "cell_type": "code",
   "execution_count": 273,
   "metadata": {},
   "outputs": [],
   "source": [
    "orig, new = quali_quanti_preprocessing_regression(X_train, X_test)"
   ]
  },
  {
   "cell_type": "code",
   "execution_count": 274,
   "metadata": {},
   "outputs": [
    {
     "data": {
      "text/plain": [
       "120688     771.3\n",
       "194074    1053.2\n",
       "390534    1136.5\n",
       "309668     861.3\n",
       "393549     639.0\n",
       "           ...  \n",
       "152620    3240.9\n",
       "440401    4746.0\n",
       "118241    1038.2\n",
       "437123     243.1\n",
       "306785     744.9\n",
       "Name: Coût_total_5_usages, Length: 319222, dtype: float64"
      ]
     },
     "execution_count": 274,
     "metadata": {},
     "output_type": "execute_result"
    }
   ],
   "source": [
    "orig[\"Coût_total_5_usages\"]"
   ]
  },
  {
   "cell_type": "markdown",
   "metadata": {},
   "source": [
    "##### Split regressors/target"
   ]
  },
  {
   "cell_type": "code",
   "execution_count": 275,
   "metadata": {},
   "outputs": [],
   "source": [
    "X_train, X_test, y_train, y_test = define_target(orig, new, target=\"Coût_total_5_usages\")"
   ]
  },
  {
   "cell_type": "markdown",
   "metadata": {},
   "source": [
    "#### Split des données quanti et quali"
   ]
  },
  {
   "cell_type": "code",
   "execution_count": 276,
   "metadata": {},
   "outputs": [
    {
     "data": {
      "text/html": [
       "<div>\n",
       "<style scoped>\n",
       "    .dataframe tbody tr th:only-of-type {\n",
       "        vertical-align: middle;\n",
       "    }\n",
       "\n",
       "    .dataframe tbody tr th {\n",
       "        vertical-align: top;\n",
       "    }\n",
       "\n",
       "    .dataframe thead th {\n",
       "        text-align: right;\n",
       "    }\n",
       "</style>\n",
       "<table border=\"1\" class=\"dataframe\">\n",
       "  <thead>\n",
       "    <tr style=\"text-align: right;\">\n",
       "      <th></th>\n",
       "      <th>Année_construction</th>\n",
       "      <th>Code_postal_(brut)</th>\n",
       "      <th>Etiquette_DPE</th>\n",
       "      <th>Hauteur_sous-plafond</th>\n",
       "      <th>Logement</th>\n",
       "      <th>Nombre_niveau_logement</th>\n",
       "      <th>Surface_habitable_logement</th>\n",
       "      <th>Type_bâtiment</th>\n",
       "    </tr>\n",
       "  </thead>\n",
       "  <tbody>\n",
       "    <tr>\n",
       "      <th>89480</th>\n",
       "      <td>1993.0</td>\n",
       "      <td>29200.0</td>\n",
       "      <td>D</td>\n",
       "      <td>2.5</td>\n",
       "      <td>ancien</td>\n",
       "      <td>1.0</td>\n",
       "      <td>39.0</td>\n",
       "      <td>appartement</td>\n",
       "    </tr>\n",
       "    <tr>\n",
       "      <th>24669</th>\n",
       "      <td>1979.0</td>\n",
       "      <td>22220.0</td>\n",
       "      <td>G</td>\n",
       "      <td>2.8</td>\n",
       "      <td>ancien</td>\n",
       "      <td>1.0</td>\n",
       "      <td>62.8</td>\n",
       "      <td>maison</td>\n",
       "    </tr>\n",
       "    <tr>\n",
       "      <th>77713</th>\n",
       "      <td>1955.0</td>\n",
       "      <td>29150.0</td>\n",
       "      <td>F</td>\n",
       "      <td>2.6</td>\n",
       "      <td>ancien</td>\n",
       "      <td>1.0</td>\n",
       "      <td>97.4</td>\n",
       "      <td>maison</td>\n",
       "    </tr>\n",
       "    <tr>\n",
       "      <th>127838</th>\n",
       "      <td>1970.0</td>\n",
       "      <td>29420.0</td>\n",
       "      <td>D</td>\n",
       "      <td>2.5</td>\n",
       "      <td>ancien</td>\n",
       "      <td>2.0</td>\n",
       "      <td>90.0</td>\n",
       "      <td>maison</td>\n",
       "    </tr>\n",
       "    <tr>\n",
       "      <th>66106</th>\n",
       "      <td>2008.0</td>\n",
       "      <td>29000.0</td>\n",
       "      <td>E</td>\n",
       "      <td>2.8</td>\n",
       "      <td>ancien</td>\n",
       "      <td>1.0</td>\n",
       "      <td>77.4</td>\n",
       "      <td>appartement</td>\n",
       "    </tr>\n",
       "    <tr>\n",
       "      <th>...</th>\n",
       "      <td>...</td>\n",
       "      <td>...</td>\n",
       "      <td>...</td>\n",
       "      <td>...</td>\n",
       "      <td>...</td>\n",
       "      <td>...</td>\n",
       "      <td>...</td>\n",
       "      <td>...</td>\n",
       "    </tr>\n",
       "    <tr>\n",
       "      <th>150010</th>\n",
       "      <td>1989.0</td>\n",
       "      <td>29700.0</td>\n",
       "      <td>D</td>\n",
       "      <td>2.5</td>\n",
       "      <td>ancien</td>\n",
       "      <td>1.0</td>\n",
       "      <td>50.3</td>\n",
       "      <td>appartement</td>\n",
       "    </tr>\n",
       "    <tr>\n",
       "      <th>264700</th>\n",
       "      <td>1991.0</td>\n",
       "      <td>35410.0</td>\n",
       "      <td>C</td>\n",
       "      <td>2.5</td>\n",
       "      <td>ancien</td>\n",
       "      <td>2.0</td>\n",
       "      <td>111.2</td>\n",
       "      <td>maison</td>\n",
       "    </tr>\n",
       "    <tr>\n",
       "      <th>107314</th>\n",
       "      <td>1950.0</td>\n",
       "      <td>29200.0</td>\n",
       "      <td>E</td>\n",
       "      <td>2.6</td>\n",
       "      <td>ancien</td>\n",
       "      <td>4.0</td>\n",
       "      <td>71.7</td>\n",
       "      <td>appartement</td>\n",
       "    </tr>\n",
       "    <tr>\n",
       "      <th>304018</th>\n",
       "      <td>1947.0</td>\n",
       "      <td>35720.0</td>\n",
       "      <td>D</td>\n",
       "      <td>2.5</td>\n",
       "      <td>ancien</td>\n",
       "      <td>2.0</td>\n",
       "      <td>74.3</td>\n",
       "      <td>maison</td>\n",
       "    </tr>\n",
       "    <tr>\n",
       "      <th>365658</th>\n",
       "      <td>1992.0</td>\n",
       "      <td>56400.0</td>\n",
       "      <td>D</td>\n",
       "      <td>2.5</td>\n",
       "      <td>ancien</td>\n",
       "      <td>2.0</td>\n",
       "      <td>103.0</td>\n",
       "      <td>maison</td>\n",
       "    </tr>\n",
       "  </tbody>\n",
       "</table>\n",
       "<p>136810 rows × 8 columns</p>\n",
       "</div>"
      ],
      "text/plain": [
       "        Année_construction  Code_postal_(brut) Etiquette_DPE  \\\n",
       "89480               1993.0             29200.0             D   \n",
       "24669               1979.0             22220.0             G   \n",
       "77713               1955.0             29150.0             F   \n",
       "127838              1970.0             29420.0             D   \n",
       "66106               2008.0             29000.0             E   \n",
       "...                    ...                 ...           ...   \n",
       "150010              1989.0             29700.0             D   \n",
       "264700              1991.0             35410.0             C   \n",
       "107314              1950.0             29200.0             E   \n",
       "304018              1947.0             35720.0             D   \n",
       "365658              1992.0             56400.0             D   \n",
       "\n",
       "        Hauteur_sous-plafond Logement  Nombre_niveau_logement  \\\n",
       "89480                    2.5   ancien                     1.0   \n",
       "24669                    2.8   ancien                     1.0   \n",
       "77713                    2.6   ancien                     1.0   \n",
       "127838                   2.5   ancien                     2.0   \n",
       "66106                    2.8   ancien                     1.0   \n",
       "...                      ...      ...                     ...   \n",
       "150010                   2.5   ancien                     1.0   \n",
       "264700                   2.5   ancien                     2.0   \n",
       "107314                   2.6   ancien                     4.0   \n",
       "304018                   2.5   ancien                     2.0   \n",
       "365658                   2.5   ancien                     2.0   \n",
       "\n",
       "        Surface_habitable_logement Type_bâtiment  \n",
       "89480                         39.0   appartement  \n",
       "24669                         62.8        maison  \n",
       "77713                         97.4        maison  \n",
       "127838                        90.0        maison  \n",
       "66106                         77.4   appartement  \n",
       "...                            ...           ...  \n",
       "150010                        50.3   appartement  \n",
       "264700                       111.2        maison  \n",
       "107314                        71.7   appartement  \n",
       "304018                        74.3        maison  \n",
       "365658                       103.0        maison  \n",
       "\n",
       "[136810 rows x 8 columns]"
      ]
     },
     "execution_count": 276,
     "metadata": {},
     "output_type": "execute_result"
    }
   ],
   "source": [
    "X_test"
   ]
  },
  {
   "cell_type": "code",
   "execution_count": 277,
   "metadata": {},
   "outputs": [],
   "source": [
    "quali_train, quali_test, quanti_train, quanti_test = split_type_regression(X_train, X_test, to_drop=[])"
   ]
  },
  {
   "cell_type": "code",
   "execution_count": 278,
   "metadata": {},
   "outputs": [],
   "source": [
    "X_train_mca, X_test_mca = merge_type_back(quali_train, quali_test, quanti_train, quanti_test, X_train.index, X_test.index)"
   ]
  },
  {
   "cell_type": "code",
   "execution_count": 279,
   "metadata": {},
   "outputs": [],
   "source": [
    "vars = ['Année_construction',\n",
    "        'Code_postal_(brut)',\n",
    "        'Hauteur_sous-plafond',\n",
    "        'Nombre_niveau_logement',\n",
    "        'Surface_habitable_logement',\n",
    "        'Etiquette_DPE_A',\n",
    "        'Etiquette_DPE_B',\n",
    "        # 'Etiquette_DPE_C',\n",
    "        'Etiquette_DPE_D',\n",
    "        'Etiquette_DPE_E',\n",
    "        'Etiquette_DPE_F',\n",
    "        'Etiquette_DPE_G',\n",
    "        # 'Etiquette_GES_A',\n",
    "        # 'Etiquette_GES_B',\n",
    "        # # 'Etiquette_GES_C',\n",
    "        # 'Etiquette_GES_D',\n",
    "        # 'Etiquette_GES_E',\n",
    "        # 'Etiquette_GES_F',\n",
    "        # 'Etiquette_GES_G',\n",
    "        'Logement_neuf',\n",
    "        # 'Type_bâtiment_appartement',\n",
    "        'Type_bâtiment_immeuble',\n",
    "        'Type_bâtiment_maison'\n",
    "        ]"
   ]
  },
  {
   "cell_type": "code",
   "execution_count": 280,
   "metadata": {},
   "outputs": [
    {
     "data": {
      "text/html": [
       "<div>\n",
       "<style scoped>\n",
       "    .dataframe tbody tr th:only-of-type {\n",
       "        vertical-align: middle;\n",
       "    }\n",
       "\n",
       "    .dataframe tbody tr th {\n",
       "        vertical-align: top;\n",
       "    }\n",
       "\n",
       "    .dataframe thead th {\n",
       "        text-align: right;\n",
       "    }\n",
       "</style>\n",
       "<table border=\"1\" class=\"dataframe\">\n",
       "  <thead>\n",
       "    <tr style=\"text-align: right;\">\n",
       "      <th></th>\n",
       "      <th>Année_construction</th>\n",
       "      <th>Code_postal_(brut)</th>\n",
       "      <th>Hauteur_sous-plafond</th>\n",
       "      <th>Nombre_niveau_logement</th>\n",
       "      <th>Surface_habitable_logement</th>\n",
       "      <th>Etiquette_DPE_A</th>\n",
       "      <th>Etiquette_DPE_B</th>\n",
       "      <th>Etiquette_DPE_D</th>\n",
       "      <th>Etiquette_DPE_E</th>\n",
       "      <th>Etiquette_DPE_F</th>\n",
       "      <th>Etiquette_DPE_G</th>\n",
       "      <th>Logement_neuf</th>\n",
       "      <th>Type_bâtiment_immeuble</th>\n",
       "      <th>Type_bâtiment_maison</th>\n",
       "    </tr>\n",
       "  </thead>\n",
       "  <tbody>\n",
       "    <tr>\n",
       "      <th>Année_construction</th>\n",
       "      <td>1.000000</td>\n",
       "      <td>0.050570</td>\n",
       "      <td>-0.000514</td>\n",
       "      <td>-0.019627</td>\n",
       "      <td>0.013501</td>\n",
       "      <td>0.301045</td>\n",
       "      <td>0.193550</td>\n",
       "      <td>-0.142058</td>\n",
       "      <td>-0.189420</td>\n",
       "      <td>-0.158721</td>\n",
       "      <td>-0.146246</td>\n",
       "      <td>0.485963</td>\n",
       "      <td>0.011602</td>\n",
       "      <td>-0.029381</td>\n",
       "    </tr>\n",
       "    <tr>\n",
       "      <th>Code_postal_(brut)</th>\n",
       "      <td>0.050570</td>\n",
       "      <td>1.000000</td>\n",
       "      <td>-0.000418</td>\n",
       "      <td>0.019212</td>\n",
       "      <td>0.005621</td>\n",
       "      <td>0.041404</td>\n",
       "      <td>0.008246</td>\n",
       "      <td>-0.025586</td>\n",
       "      <td>-0.020707</td>\n",
       "      <td>-0.027716</td>\n",
       "      <td>-0.031438</td>\n",
       "      <td>0.050553</td>\n",
       "      <td>0.007308</td>\n",
       "      <td>-0.016369</td>\n",
       "    </tr>\n",
       "    <tr>\n",
       "      <th>Hauteur_sous-plafond</th>\n",
       "      <td>-0.000514</td>\n",
       "      <td>-0.000418</td>\n",
       "      <td>1.000000</td>\n",
       "      <td>-0.000373</td>\n",
       "      <td>0.000264</td>\n",
       "      <td>0.005769</td>\n",
       "      <td>-0.001234</td>\n",
       "      <td>-0.001938</td>\n",
       "      <td>-0.001745</td>\n",
       "      <td>0.005425</td>\n",
       "      <td>-0.000410</td>\n",
       "      <td>0.004094</td>\n",
       "      <td>-0.000421</td>\n",
       "      <td>-0.000155</td>\n",
       "    </tr>\n",
       "    <tr>\n",
       "      <th>Nombre_niveau_logement</th>\n",
       "      <td>-0.019627</td>\n",
       "      <td>0.019212</td>\n",
       "      <td>-0.000373</td>\n",
       "      <td>1.000000</td>\n",
       "      <td>0.031263</td>\n",
       "      <td>-0.025374</td>\n",
       "      <td>0.001433</td>\n",
       "      <td>-0.004743</td>\n",
       "      <td>0.009941</td>\n",
       "      <td>0.007555</td>\n",
       "      <td>0.002338</td>\n",
       "      <td>-0.025407</td>\n",
       "      <td>-0.015244</td>\n",
       "      <td>0.049545</td>\n",
       "    </tr>\n",
       "    <tr>\n",
       "      <th>Surface_habitable_logement</th>\n",
       "      <td>0.013501</td>\n",
       "      <td>0.005621</td>\n",
       "      <td>0.000264</td>\n",
       "      <td>0.031263</td>\n",
       "      <td>1.000000</td>\n",
       "      <td>0.104502</td>\n",
       "      <td>0.040168</td>\n",
       "      <td>-0.024427</td>\n",
       "      <td>-0.021305</td>\n",
       "      <td>0.006209</td>\n",
       "      <td>-0.026946</td>\n",
       "      <td>0.061370</td>\n",
       "      <td>0.142692</td>\n",
       "      <td>0.298326</td>\n",
       "    </tr>\n",
       "    <tr>\n",
       "      <th>Etiquette_DPE_A</th>\n",
       "      <td>0.301045</td>\n",
       "      <td>0.041404</td>\n",
       "      <td>0.005769</td>\n",
       "      <td>-0.025374</td>\n",
       "      <td>0.104502</td>\n",
       "      <td>1.000000</td>\n",
       "      <td>-0.063577</td>\n",
       "      <td>-0.159517</td>\n",
       "      <td>-0.118593</td>\n",
       "      <td>-0.071947</td>\n",
       "      <td>-0.059202</td>\n",
       "      <td>0.560687</td>\n",
       "      <td>-0.023595</td>\n",
       "      <td>0.221285</td>\n",
       "    </tr>\n",
       "    <tr>\n",
       "      <th>Etiquette_DPE_B</th>\n",
       "      <td>0.193550</td>\n",
       "      <td>0.008246</td>\n",
       "      <td>-0.001234</td>\n",
       "      <td>0.001433</td>\n",
       "      <td>0.040168</td>\n",
       "      <td>-0.063577</td>\n",
       "      <td>1.000000</td>\n",
       "      <td>-0.154714</td>\n",
       "      <td>-0.115023</td>\n",
       "      <td>-0.069781</td>\n",
       "      <td>-0.057420</td>\n",
       "      <td>0.276068</td>\n",
       "      <td>-0.004309</td>\n",
       "      <td>-0.003658</td>\n",
       "    </tr>\n",
       "    <tr>\n",
       "      <th>Etiquette_DPE_D</th>\n",
       "      <td>-0.142058</td>\n",
       "      <td>-0.025586</td>\n",
       "      <td>-0.001938</td>\n",
       "      <td>-0.004743</td>\n",
       "      <td>-0.024427</td>\n",
       "      <td>-0.159517</td>\n",
       "      <td>-0.154714</td>\n",
       "      <td>1.000000</td>\n",
       "      <td>-0.288595</td>\n",
       "      <td>-0.175081</td>\n",
       "      <td>-0.144067</td>\n",
       "      <td>-0.239033</td>\n",
       "      <td>-0.007571</td>\n",
       "      <td>-0.045460</td>\n",
       "    </tr>\n",
       "    <tr>\n",
       "      <th>Etiquette_DPE_E</th>\n",
       "      <td>-0.189420</td>\n",
       "      <td>-0.020707</td>\n",
       "      <td>-0.001745</td>\n",
       "      <td>0.009941</td>\n",
       "      <td>-0.021305</td>\n",
       "      <td>-0.118593</td>\n",
       "      <td>-0.115023</td>\n",
       "      <td>-0.288595</td>\n",
       "      <td>1.000000</td>\n",
       "      <td>-0.130165</td>\n",
       "      <td>-0.107108</td>\n",
       "      <td>-0.178504</td>\n",
       "      <td>-0.010972</td>\n",
       "      <td>0.080939</td>\n",
       "    </tr>\n",
       "    <tr>\n",
       "      <th>Etiquette_DPE_F</th>\n",
       "      <td>-0.158721</td>\n",
       "      <td>-0.027716</td>\n",
       "      <td>0.005425</td>\n",
       "      <td>0.007555</td>\n",
       "      <td>0.006209</td>\n",
       "      <td>-0.071947</td>\n",
       "      <td>-0.069781</td>\n",
       "      <td>-0.175081</td>\n",
       "      <td>-0.130165</td>\n",
       "      <td>1.000000</td>\n",
       "      <td>-0.064979</td>\n",
       "      <td>-0.108339</td>\n",
       "      <td>-0.012072</td>\n",
       "      <td>0.113441</td>\n",
       "    </tr>\n",
       "    <tr>\n",
       "      <th>Etiquette_DPE_G</th>\n",
       "      <td>-0.146246</td>\n",
       "      <td>-0.031438</td>\n",
       "      <td>-0.000410</td>\n",
       "      <td>0.002338</td>\n",
       "      <td>-0.026946</td>\n",
       "      <td>-0.059202</td>\n",
       "      <td>-0.057420</td>\n",
       "      <td>-0.144067</td>\n",
       "      <td>-0.107108</td>\n",
       "      <td>-0.064979</td>\n",
       "      <td>1.000000</td>\n",
       "      <td>-0.088655</td>\n",
       "      <td>-0.013311</td>\n",
       "      <td>0.118891</td>\n",
       "    </tr>\n",
       "    <tr>\n",
       "      <th>Logement_neuf</th>\n",
       "      <td>0.485963</td>\n",
       "      <td>0.050553</td>\n",
       "      <td>0.004094</td>\n",
       "      <td>-0.025407</td>\n",
       "      <td>0.061370</td>\n",
       "      <td>0.560687</td>\n",
       "      <td>0.276068</td>\n",
       "      <td>-0.239033</td>\n",
       "      <td>-0.178504</td>\n",
       "      <td>-0.108339</td>\n",
       "      <td>-0.088655</td>\n",
       "      <td>1.000000</td>\n",
       "      <td>-0.004913</td>\n",
       "      <td>0.021871</td>\n",
       "    </tr>\n",
       "    <tr>\n",
       "      <th>Type_bâtiment_immeuble</th>\n",
       "      <td>0.011602</td>\n",
       "      <td>0.007308</td>\n",
       "      <td>-0.000421</td>\n",
       "      <td>-0.015244</td>\n",
       "      <td>0.142692</td>\n",
       "      <td>-0.023595</td>\n",
       "      <td>-0.004309</td>\n",
       "      <td>-0.007571</td>\n",
       "      <td>-0.010972</td>\n",
       "      <td>-0.012072</td>\n",
       "      <td>-0.013311</td>\n",
       "      <td>-0.004913</td>\n",
       "      <td>1.000000</td>\n",
       "      <td>-0.112900</td>\n",
       "    </tr>\n",
       "    <tr>\n",
       "      <th>Type_bâtiment_maison</th>\n",
       "      <td>-0.029381</td>\n",
       "      <td>-0.016369</td>\n",
       "      <td>-0.000155</td>\n",
       "      <td>0.049545</td>\n",
       "      <td>0.298326</td>\n",
       "      <td>0.221285</td>\n",
       "      <td>-0.003658</td>\n",
       "      <td>-0.045460</td>\n",
       "      <td>0.080939</td>\n",
       "      <td>0.113441</td>\n",
       "      <td>0.118891</td>\n",
       "      <td>0.021871</td>\n",
       "      <td>-0.112900</td>\n",
       "      <td>1.000000</td>\n",
       "    </tr>\n",
       "  </tbody>\n",
       "</table>\n",
       "</div>"
      ],
      "text/plain": [
       "                            Année_construction  Code_postal_(brut)  \\\n",
       "Année_construction                    1.000000            0.050570   \n",
       "Code_postal_(brut)                    0.050570            1.000000   \n",
       "Hauteur_sous-plafond                 -0.000514           -0.000418   \n",
       "Nombre_niveau_logement               -0.019627            0.019212   \n",
       "Surface_habitable_logement            0.013501            0.005621   \n",
       "Etiquette_DPE_A                       0.301045            0.041404   \n",
       "Etiquette_DPE_B                       0.193550            0.008246   \n",
       "Etiquette_DPE_D                      -0.142058           -0.025586   \n",
       "Etiquette_DPE_E                      -0.189420           -0.020707   \n",
       "Etiquette_DPE_F                      -0.158721           -0.027716   \n",
       "Etiquette_DPE_G                      -0.146246           -0.031438   \n",
       "Logement_neuf                         0.485963            0.050553   \n",
       "Type_bâtiment_immeuble                0.011602            0.007308   \n",
       "Type_bâtiment_maison                 -0.029381           -0.016369   \n",
       "\n",
       "                            Hauteur_sous-plafond  Nombre_niveau_logement  \\\n",
       "Année_construction                     -0.000514               -0.019627   \n",
       "Code_postal_(brut)                     -0.000418                0.019212   \n",
       "Hauteur_sous-plafond                    1.000000               -0.000373   \n",
       "Nombre_niveau_logement                 -0.000373                1.000000   \n",
       "Surface_habitable_logement              0.000264                0.031263   \n",
       "Etiquette_DPE_A                         0.005769               -0.025374   \n",
       "Etiquette_DPE_B                        -0.001234                0.001433   \n",
       "Etiquette_DPE_D                        -0.001938               -0.004743   \n",
       "Etiquette_DPE_E                        -0.001745                0.009941   \n",
       "Etiquette_DPE_F                         0.005425                0.007555   \n",
       "Etiquette_DPE_G                        -0.000410                0.002338   \n",
       "Logement_neuf                           0.004094               -0.025407   \n",
       "Type_bâtiment_immeuble                 -0.000421               -0.015244   \n",
       "Type_bâtiment_maison                   -0.000155                0.049545   \n",
       "\n",
       "                            Surface_habitable_logement  Etiquette_DPE_A  \\\n",
       "Année_construction                            0.013501         0.301045   \n",
       "Code_postal_(brut)                            0.005621         0.041404   \n",
       "Hauteur_sous-plafond                          0.000264         0.005769   \n",
       "Nombre_niveau_logement                        0.031263        -0.025374   \n",
       "Surface_habitable_logement                    1.000000         0.104502   \n",
       "Etiquette_DPE_A                               0.104502         1.000000   \n",
       "Etiquette_DPE_B                               0.040168        -0.063577   \n",
       "Etiquette_DPE_D                              -0.024427        -0.159517   \n",
       "Etiquette_DPE_E                              -0.021305        -0.118593   \n",
       "Etiquette_DPE_F                               0.006209        -0.071947   \n",
       "Etiquette_DPE_G                              -0.026946        -0.059202   \n",
       "Logement_neuf                                 0.061370         0.560687   \n",
       "Type_bâtiment_immeuble                        0.142692        -0.023595   \n",
       "Type_bâtiment_maison                          0.298326         0.221285   \n",
       "\n",
       "                            Etiquette_DPE_B  Etiquette_DPE_D  Etiquette_DPE_E  \\\n",
       "Année_construction                 0.193550        -0.142058        -0.189420   \n",
       "Code_postal_(brut)                 0.008246        -0.025586        -0.020707   \n",
       "Hauteur_sous-plafond              -0.001234        -0.001938        -0.001745   \n",
       "Nombre_niveau_logement             0.001433        -0.004743         0.009941   \n",
       "Surface_habitable_logement         0.040168        -0.024427        -0.021305   \n",
       "Etiquette_DPE_A                   -0.063577        -0.159517        -0.118593   \n",
       "Etiquette_DPE_B                    1.000000        -0.154714        -0.115023   \n",
       "Etiquette_DPE_D                   -0.154714         1.000000        -0.288595   \n",
       "Etiquette_DPE_E                   -0.115023        -0.288595         1.000000   \n",
       "Etiquette_DPE_F                   -0.069781        -0.175081        -0.130165   \n",
       "Etiquette_DPE_G                   -0.057420        -0.144067        -0.107108   \n",
       "Logement_neuf                      0.276068        -0.239033        -0.178504   \n",
       "Type_bâtiment_immeuble            -0.004309        -0.007571        -0.010972   \n",
       "Type_bâtiment_maison              -0.003658        -0.045460         0.080939   \n",
       "\n",
       "                            Etiquette_DPE_F  Etiquette_DPE_G  Logement_neuf  \\\n",
       "Année_construction                -0.158721        -0.146246       0.485963   \n",
       "Code_postal_(brut)                -0.027716        -0.031438       0.050553   \n",
       "Hauteur_sous-plafond               0.005425        -0.000410       0.004094   \n",
       "Nombre_niveau_logement             0.007555         0.002338      -0.025407   \n",
       "Surface_habitable_logement         0.006209        -0.026946       0.061370   \n",
       "Etiquette_DPE_A                   -0.071947        -0.059202       0.560687   \n",
       "Etiquette_DPE_B                   -0.069781        -0.057420       0.276068   \n",
       "Etiquette_DPE_D                   -0.175081        -0.144067      -0.239033   \n",
       "Etiquette_DPE_E                   -0.130165        -0.107108      -0.178504   \n",
       "Etiquette_DPE_F                    1.000000        -0.064979      -0.108339   \n",
       "Etiquette_DPE_G                   -0.064979         1.000000      -0.088655   \n",
       "Logement_neuf                     -0.108339        -0.088655       1.000000   \n",
       "Type_bâtiment_immeuble            -0.012072        -0.013311      -0.004913   \n",
       "Type_bâtiment_maison               0.113441         0.118891       0.021871   \n",
       "\n",
       "                            Type_bâtiment_immeuble  Type_bâtiment_maison  \n",
       "Année_construction                        0.011602             -0.029381  \n",
       "Code_postal_(brut)                        0.007308             -0.016369  \n",
       "Hauteur_sous-plafond                     -0.000421             -0.000155  \n",
       "Nombre_niveau_logement                   -0.015244              0.049545  \n",
       "Surface_habitable_logement                0.142692              0.298326  \n",
       "Etiquette_DPE_A                          -0.023595              0.221285  \n",
       "Etiquette_DPE_B                          -0.004309             -0.003658  \n",
       "Etiquette_DPE_D                          -0.007571             -0.045460  \n",
       "Etiquette_DPE_E                          -0.010972              0.080939  \n",
       "Etiquette_DPE_F                          -0.012072              0.113441  \n",
       "Etiquette_DPE_G                          -0.013311              0.118891  \n",
       "Logement_neuf                            -0.004913              0.021871  \n",
       "Type_bâtiment_immeuble                    1.000000             -0.112900  \n",
       "Type_bâtiment_maison                     -0.112900              1.000000  "
      ]
     },
     "execution_count": 280,
     "metadata": {},
     "output_type": "execute_result"
    }
   ],
   "source": [
    "X_train_mca[vars].corr()"
   ]
  },
  {
   "cell_type": "code",
   "execution_count": 281,
   "metadata": {},
   "outputs": [
    {
     "name": "stderr",
     "output_type": "stream",
     "text": [
      "[Parallel(n_jobs=1)]: Done  49 tasks      | elapsed:  1.1min\n",
      "[Parallel(n_jobs=1)]: Done  49 tasks      | elapsed:    2.9s\n"
     ]
    }
   ],
   "source": [
    "from sklearn.ensemble import RandomForestRegressor\n",
    "\n",
    "rf = RandomForestRegressor(n_estimators=50, min_samples_split=5, max_depth=None, random_state=0, verbose=1)\n",
    "rf.fit(X_train_mca[vars], y_train)\n",
    "y_pred = rf.predict(X_test_mca[vars])"
   ]
  },
  {
   "cell_type": "code",
   "execution_count": 282,
   "metadata": {},
   "outputs": [
    {
     "data": {
      "text/plain": [
       "'from sklearn.ensemble import RandomForestRegressor\\nfrom sklearn.model_selection import GridSearchCV, KFold\\n\\nrf = RandomForestRegressor()\\ncv = KFold(5)\\nparams = {\\'n_estimators\\': [10,50,100],\\n          \\'min_samples_split\\': [5],\\n          \\'max_depth\\': [10, None],\\n          \\'criterion\\': [\"absolute_error\"]}\\ngrid = GridSearchCV(rf, param_grid=params, scoring=\"neg_mean_absolute_error\", cv=cv, verbose=2)\\ngrid.fit(X_train_mca[vars], y_train)'"
      ]
     },
     "execution_count": 282,
     "metadata": {},
     "output_type": "execute_result"
    }
   ],
   "source": [
    "\"\"\"from sklearn.ensemble import RandomForestRegressor\n",
    "from sklearn.model_selection import GridSearchCV, KFold\n",
    "\n",
    "rf = RandomForestRegressor()\n",
    "cv = KFold(5)\n",
    "params = {'n_estimators': [10,50,100],\n",
    "          'min_samples_split': [5],\n",
    "          'max_depth': [10, None],\n",
    "          'criterion': [\"absolute_error\"]}\n",
    "grid = GridSearchCV(rf, param_grid=params, scoring=\"neg_mean_absolute_error\", cv=cv, verbose=2)\n",
    "grid.fit(X_train_mca[vars], y_train)\"\"\""
   ]
  },
  {
   "cell_type": "code",
   "execution_count": 283,
   "metadata": {},
   "outputs": [
    {
     "name": "stdout",
     "output_type": "stream",
     "text": [
      "270.5596738731614\n",
      "1787.024050857999\n"
     ]
    }
   ],
   "source": [
    "# Avec DPE\n",
    "from sklearn.metrics import root_mean_squared_error, mean_absolute_error\n",
    "\n",
    "print(mean_absolute_error(y_test, y_pred))\n",
    "print(root_mean_squared_error(y_test, y_pred))"
   ]
  },
  {
   "cell_type": "code",
   "execution_count": 284,
   "metadata": {},
   "outputs": [],
   "source": [
    "new = pd.DataFrame([{\"Année_construction\":2024,\n",
    "                     \"Surface_habitable_logement\":200,\n",
    "                     \"Etiquette_DPE\":\"B\",\n",
    "                     \"Code_postal_(brut)\":35660,\n",
    "                     \"Logement\":\"neuf\",\n",
    "                     \"Type_bâtiment\":\"maison\",\n",
    "                     \"Hauteur_sous-plafond\":3,\n",
    "                     \"Nombre_niveau_logement\":2\n",
    "                     }])"
   ]
  },
  {
   "cell_type": "code",
   "execution_count": 285,
   "metadata": {},
   "outputs": [
    {
     "name": "stdout",
     "output_type": "stream",
     "text": [
      "[1231.913125]\n"
     ]
    }
   ],
   "source": [
    "from pipeline import Pipeline_regression\n",
    "Pipeline_regression(new)"
   ]
  },
  {
   "cell_type": "markdown",
   "metadata": {},
   "source": [
    "### Création du csv pour la carte des données"
   ]
  },
  {
   "cell_type": "code",
   "execution_count": 286,
   "metadata": {},
   "outputs": [
    {
     "name": "stderr",
     "output_type": "stream",
     "text": [
      "C:\\Users\\Evidya\\AppData\\Local\\Temp\\ipykernel_16980\\1169846585.py:2: DtypeWarning: Columns (80,100,111,112,132,133) have mixed types. Specify dtype option on import or set low_memory=False.\n",
      "  logements_neufs = pd.read_csv(os.path.join('data','raw','neufs.csv'))\n",
      "C:\\Users\\Evidya\\AppData\\Local\\Temp\\ipykernel_16980\\1169846585.py:3: DtypeWarning: Columns (159,191,202,208,214,215,218,219,220,221,228,232) have mixed types. Specify dtype option on import or set low_memory=False.\n",
      "  logements_existants = pd.read_csv(os.path.join('data','raw','existents.csv'))\n"
     ]
    }
   ],
   "source": [
    "# Importation des données\n",
    "logements_neufs = pd.read_csv(os.path.join('data','raw','neufs.csv'))\n",
    "logements_existants = pd.read_csv(os.path.join('data','raw','existents.csv'))"
   ]
  },
  {
   "cell_type": "code",
   "execution_count": 287,
   "metadata": {},
   "outputs": [
    {
     "name": "stderr",
     "output_type": "stream",
     "text": [
      "C:\\Users\\Evidya\\AppData\\Local\\Temp\\ipykernel_16980\\3804064002.py:4: PerformanceWarning: DataFrame is highly fragmented.  This is usually the result of calling `frame.insert` many times, which has poor performance.  Consider joining all columns at once using pd.concat(axis=1) instead. To get a de-fragmented frame, use `newframe = frame.copy()`\n",
      "  df[[\"lat\",\"lon\"]] = df[\"_geopoint\"].str.split(\",\", expand=True)\n",
      "C:\\Users\\Evidya\\AppData\\Local\\Temp\\ipykernel_16980\\3804064002.py:4: PerformanceWarning: DataFrame is highly fragmented.  This is usually the result of calling `frame.insert` many times, which has poor performance.  Consider joining all columns at once using pd.concat(axis=1) instead. To get a de-fragmented frame, use `newframe = frame.copy()`\n",
      "  df[[\"lat\",\"lon\"]] = df[\"_geopoint\"].str.split(\",\", expand=True)\n"
     ]
    }
   ],
   "source": [
    "df = pd.concat([logements_existants, logements_neufs], ignore_index=True, axis=0)\n",
    "\n",
    "\n",
    "df[[\"lat\",\"lon\"]] = df[\"_geopoint\"].str.split(\",\", expand=True)\n",
    "df[\"lon\"] = pd.to_numeric(df[\"lon\"])\n",
    "df[\"lat\"] = pd.to_numeric(df[\"lat\"])\n",
    "df = df[[\"lon\",\"lat\",\"Type_bâtiment\",\"Surface_habitable_logement\",\"Etiquette_DPE\"]]"
   ]
  },
  {
   "cell_type": "code",
   "execution_count": 288,
   "metadata": {},
   "outputs": [],
   "source": [
    "# Preprocessing des données map\n",
    "\n",
    "def map_preprocessing(data):\n",
    "    import pandas as pd\n",
    "    \n",
    "    # QUALITATIVE PREPROCESSING\n",
    "\n",
    "    quali_data = data.select_dtypes(include=['object'])\n",
    "    for column in quali_data.columns:\n",
    "        # Calcul de la proportion (probabilité) des modalités dans chaque variable qualitative\n",
    "        proportions = data[column].value_counts(normalize=True)\n",
    "        \n",
    "        # On applique la fonction à la colonne\n",
    "        filling = proportions.sample(weights=proportions, replace=True).index[0]\n",
    "        data[column] = data[column].fillna(filling)\n",
    "        filling = proportions.sample(weights=proportions, replace=True).index[0]\n",
    "        quali_data[column] = quali_data[column].fillna(filling)\n",
    "    \n",
    "\n",
    "    # QUANTITATIVE PREPROCESSING\n",
    "    ## Missing values\n",
    "    from sklearn.impute import SimpleImputer\n",
    "    imputer = SimpleImputer(strategy=\"median\")\n",
    "\n",
    "    quanti_data = data.select_dtypes(exclude=['object'])\n",
    "    quanti_data[quanti_data.columns] = imputer.fit_transform(quanti_data)\n",
    "\n",
    "    new_data_processed = pd.concat([quali_data, quanti_data], axis=1)\n",
    "    return new_data_processed"
   ]
  },
  {
   "cell_type": "code",
   "execution_count": 289,
   "metadata": {},
   "outputs": [],
   "source": [
    "data_map = map_preprocessing(df)"
   ]
  },
  {
   "cell_type": "code",
   "execution_count": 290,
   "metadata": {},
   "outputs": [],
   "source": [
    "data_map.to_csv(os.path.join(\"data\",\"processed\",\"data_map.csv\"),index=False, sep=\";\", encoding=\"utf-8-sig\")"
   ]
  },
  {
   "cell_type": "code",
   "execution_count": 291,
   "metadata": {},
   "outputs": [],
   "source": [
    "# TEST MAP\n",
    "from mapping import generate_map\n",
    "\n",
    "df = pd.read_csv(os.path.join(\"data\",\"processed\",\"data_map.csv\"), sep=\";\", encoding=\"utf-8-sig\")\n",
    "\n",
    "generate_map(df.sample(10000))"
   ]
  }
 ],
 "metadata": {
  "kernelspec": {
   "display_name": "env-enedis",
   "language": "python",
   "name": "python3"
  },
  "language_info": {
   "codemirror_mode": {
    "name": "ipython",
    "version": 3
   },
   "file_extension": ".py",
   "mimetype": "text/x-python",
   "name": "python",
   "nbconvert_exporter": "python",
   "pygments_lexer": "ipython3",
   "version": "3.11.4"
  }
 },
 "nbformat": 4,
 "nbformat_minor": 2
}
